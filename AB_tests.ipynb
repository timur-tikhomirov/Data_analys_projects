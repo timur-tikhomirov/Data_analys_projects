{
 "cells": [
  {
   "cell_type": "markdown",
   "metadata": {},
   "source": [
    "# Проверка гипотез для увеличения выручки интернет-магазина с помощью A/B-теста"
   ]
  },
  {
   "cell_type": "markdown",
   "metadata": {},
   "source": [
    "## Описание проекта\n",
    "**Контекст**\n",
    "\n",
    "Отдел маркетинга интернет-магазина подготовил список гипотез для увеличения выручки.\n",
    "Необходимо приоритизировать гипотезы, запустить A/B-тесты, проанализировать результаты тестов и сделать выводы о целесообразности реализации данных гипотез в контексте увеличения выручки.\n",
    "\n",
    "**Описание данных:**\n",
    "\n",
    "**Данные для приоритезации гипотез** \n",
    "\n",
    "Файл /datasets/hypothesis.csv\n",
    "+ Hypothesis — краткое описание гипотезы;\n",
    "+ Reach — охват пользователей по 10-балльной шкале;\n",
    "+ Impact — влияние на пользователей по 10-балльной шкале;\n",
    "+ Confidence — уверенность в гипотезе по 10-балльной шкале;\n",
    "+ Efforts — затраты ресурсов на проверку гипотезы по 10-балльной шкале. Чем больше значение Efforts, тем дороже проверка гипотезы.\n",
    "\n",
    "\n",
    "**Данные A/B-теста**\n",
    "\n",
    "Файл /datasets/orders.csv\n",
    "+ transactionId — идентификатор заказа;\n",
    "+ visitorId — идентификатор пользователя, совершившего заказ;\n",
    "+ date — дата, когда был совершён заказ;\n",
    "+ revenue — выручка заказа;\n",
    "+ group — группа A/B-теста, в которую попал заказ.\n",
    "\n",
    "Файл /datasets/visitors.csv\n",
    "+ date — дата;\n",
    "+ group — группа A/B-теста;\n",
    "+ visitors — количество пользователей в указанную дату в указанной группе A/B-теста"
   ]
  },
  {
   "cell_type": "markdown",
   "metadata": {},
   "source": [
    "## Приоритизация гипотез\n",
    "\n",
    "В файле /datasets/hypothesis.csv 9 гипотез по увеличению выручки интернет-магазина с указанными параметрами Reach, Impact, Confidence, Effort. Приоретизируем гипотезы.\n",
    "\n",
    "Импортируем библиотеки и прочитаем все файлы. Приведем названия всех колонок к нижнему регистру. Выведем общую информацию о файле hypothesis. Применим фреймворк ICE для приоритизации гипотез и отсортируем их по убыванию приоритета."
   ]
  },
  {
   "cell_type": "code",
   "execution_count": 1,
   "metadata": {},
   "outputs": [],
   "source": [
    "import pandas as pd\n",
    "import numpy as np\n",
    "import scipy.stats as stats\n",
    "import matplotlib.pyplot as plt\n",
    "import matplotlib.ticker as ticker\n",
    "import seaborn as sns\n",
    "import plotly.graph_objects as go\n",
    "import plotly.express as px\n",
    "from scipy import stats as st\n",
    "import warnings"
   ]
  },
  {
   "cell_type": "code",
   "execution_count": 2,
   "metadata": {
    "scrolled": true
   },
   "outputs": [
    {
     "name": "stdout",
     "output_type": "stream",
     "text": [
      "<class 'pandas.core.frame.DataFrame'>\n",
      "RangeIndex: 9 entries, 0 to 8\n",
      "Data columns (total 5 columns):\n",
      "hypothesis    9 non-null object\n",
      "reach         9 non-null int64\n",
      "impact        9 non-null int64\n",
      "confidence    9 non-null int64\n",
      "efforts       9 non-null int64\n",
      "dtypes: int64(4), object(1)\n",
      "memory usage: 488.0+ bytes\n"
     ]
    }
   ],
   "source": [
    "hypothesis = pd.read_csv('/datasets/hypothesis.csv')\n",
    "orders = pd.read_csv('/datasets/orders.csv')\n",
    "visitors = pd.read_csv('/datasets/visitors.csv')\n",
    "\n",
    "hypothesis.columns = hypothesis.columns.str.lower()\n",
    "orders.columns = orders.columns.str.lower()\n",
    "visitors.columns = visitors.columns.str.lower()\n",
    "\n",
    "hypothesis.info()"
   ]
  },
  {
   "cell_type": "markdown",
   "metadata": {},
   "source": [
    "$$ICE = \\frac{Impact * Confidence}{Efforts}$$"
   ]
  },
  {
   "cell_type": "code",
   "execution_count": 3,
   "metadata": {},
   "outputs": [
    {
     "data": {
      "text/html": [
       "<div>\n",
       "<style scoped>\n",
       "    .dataframe tbody tr th:only-of-type {\n",
       "        vertical-align: middle;\n",
       "    }\n",
       "\n",
       "    .dataframe tbody tr th {\n",
       "        vertical-align: top;\n",
       "    }\n",
       "\n",
       "    .dataframe thead th {\n",
       "        text-align: right;\n",
       "    }\n",
       "</style>\n",
       "<table border=\"1\" class=\"dataframe\">\n",
       "  <thead>\n",
       "    <tr style=\"text-align: right;\">\n",
       "      <th></th>\n",
       "      <th>hypothesis</th>\n",
       "      <th>reach</th>\n",
       "      <th>impact</th>\n",
       "      <th>confidence</th>\n",
       "      <th>efforts</th>\n",
       "      <th>ice</th>\n",
       "    </tr>\n",
       "  </thead>\n",
       "  <tbody>\n",
       "    <tr>\n",
       "      <td>8</td>\n",
       "      <td>Запустить акцию, дающую скидку на товар в день...</td>\n",
       "      <td>1</td>\n",
       "      <td>9</td>\n",
       "      <td>9</td>\n",
       "      <td>5</td>\n",
       "      <td>16.200000</td>\n",
       "    </tr>\n",
       "    <tr>\n",
       "      <td>0</td>\n",
       "      <td>Добавить два новых канала привлечения трафика,...</td>\n",
       "      <td>3</td>\n",
       "      <td>10</td>\n",
       "      <td>8</td>\n",
       "      <td>6</td>\n",
       "      <td>13.333333</td>\n",
       "    </tr>\n",
       "    <tr>\n",
       "      <td>7</td>\n",
       "      <td>Добавить форму подписки на все основные страни...</td>\n",
       "      <td>10</td>\n",
       "      <td>7</td>\n",
       "      <td>8</td>\n",
       "      <td>5</td>\n",
       "      <td>11.200000</td>\n",
       "    </tr>\n",
       "    <tr>\n",
       "      <td>6</td>\n",
       "      <td>Показать на главной странице баннеры с актуаль...</td>\n",
       "      <td>5</td>\n",
       "      <td>3</td>\n",
       "      <td>8</td>\n",
       "      <td>3</td>\n",
       "      <td>8.000000</td>\n",
       "    </tr>\n",
       "    <tr>\n",
       "      <td>2</td>\n",
       "      <td>Добавить блоки рекомендаций товаров на сайт ин...</td>\n",
       "      <td>8</td>\n",
       "      <td>3</td>\n",
       "      <td>7</td>\n",
       "      <td>3</td>\n",
       "      <td>7.000000</td>\n",
       "    </tr>\n",
       "    <tr>\n",
       "      <td>1</td>\n",
       "      <td>Запустить собственную службу доставки, что сок...</td>\n",
       "      <td>2</td>\n",
       "      <td>5</td>\n",
       "      <td>4</td>\n",
       "      <td>10</td>\n",
       "      <td>2.000000</td>\n",
       "    </tr>\n",
       "    <tr>\n",
       "      <td>5</td>\n",
       "      <td>Добавить страницу отзывов клиентов о магазине,...</td>\n",
       "      <td>3</td>\n",
       "      <td>2</td>\n",
       "      <td>2</td>\n",
       "      <td>3</td>\n",
       "      <td>1.333333</td>\n",
       "    </tr>\n",
       "    <tr>\n",
       "      <td>3</td>\n",
       "      <td>Изменить структура категорий, что увеличит кон...</td>\n",
       "      <td>8</td>\n",
       "      <td>3</td>\n",
       "      <td>3</td>\n",
       "      <td>8</td>\n",
       "      <td>1.125000</td>\n",
       "    </tr>\n",
       "    <tr>\n",
       "      <td>4</td>\n",
       "      <td>Изменить цвет фона главной страницы, чтобы уве...</td>\n",
       "      <td>3</td>\n",
       "      <td>1</td>\n",
       "      <td>1</td>\n",
       "      <td>1</td>\n",
       "      <td>1.000000</td>\n",
       "    </tr>\n",
       "  </tbody>\n",
       "</table>\n",
       "</div>"
      ],
      "text/plain": [
       "                                          hypothesis  reach  impact  \\\n",
       "8  Запустить акцию, дающую скидку на товар в день...      1       9   \n",
       "0  Добавить два новых канала привлечения трафика,...      3      10   \n",
       "7  Добавить форму подписки на все основные страни...     10       7   \n",
       "6  Показать на главной странице баннеры с актуаль...      5       3   \n",
       "2  Добавить блоки рекомендаций товаров на сайт ин...      8       3   \n",
       "1  Запустить собственную службу доставки, что сок...      2       5   \n",
       "5  Добавить страницу отзывов клиентов о магазине,...      3       2   \n",
       "3  Изменить структура категорий, что увеличит кон...      8       3   \n",
       "4  Изменить цвет фона главной страницы, чтобы уве...      3       1   \n",
       "\n",
       "   confidence  efforts        ice  \n",
       "8           9        5  16.200000  \n",
       "0           8        6  13.333333  \n",
       "7           8        5  11.200000  \n",
       "6           8        3   8.000000  \n",
       "2           7        3   7.000000  \n",
       "1           4       10   2.000000  \n",
       "5           2        3   1.333333  \n",
       "3           3        8   1.125000  \n",
       "4           1        1   1.000000  "
      ]
     },
     "execution_count": 3,
     "metadata": {},
     "output_type": "execute_result"
    }
   ],
   "source": [
    "hypothesis['ice'] = (hypothesis['impact'] * hypothesis['confidence']) / hypothesis['efforts']\n",
    "hypothesis.sort_values(by='ice', ascending=False)"
   ]
  },
  {
   "cell_type": "markdown",
   "metadata": {},
   "source": [
    "Применим фреймворк RICE для приоритизации гипотез. Отсортируем их по убыванию приоритета.\n",
    "\n",
    "\n",
    "$$RICE = \\frac{Rearch * Impact * Confidence}{Efforts}$$\n"
   ]
  },
  {
   "cell_type": "code",
   "execution_count": 4,
   "metadata": {},
   "outputs": [
    {
     "data": {
      "text/html": [
       "<div>\n",
       "<style scoped>\n",
       "    .dataframe tbody tr th:only-of-type {\n",
       "        vertical-align: middle;\n",
       "    }\n",
       "\n",
       "    .dataframe tbody tr th {\n",
       "        vertical-align: top;\n",
       "    }\n",
       "\n",
       "    .dataframe thead th {\n",
       "        text-align: right;\n",
       "    }\n",
       "</style>\n",
       "<table border=\"1\" class=\"dataframe\">\n",
       "  <thead>\n",
       "    <tr style=\"text-align: right;\">\n",
       "      <th></th>\n",
       "      <th>hypothesis</th>\n",
       "      <th>reach</th>\n",
       "      <th>impact</th>\n",
       "      <th>confidence</th>\n",
       "      <th>efforts</th>\n",
       "      <th>ice</th>\n",
       "      <th>rice</th>\n",
       "    </tr>\n",
       "  </thead>\n",
       "  <tbody>\n",
       "    <tr>\n",
       "      <td>7</td>\n",
       "      <td>Добавить форму подписки на все основные страни...</td>\n",
       "      <td>10</td>\n",
       "      <td>7</td>\n",
       "      <td>8</td>\n",
       "      <td>5</td>\n",
       "      <td>11.200000</td>\n",
       "      <td>112.0</td>\n",
       "    </tr>\n",
       "    <tr>\n",
       "      <td>2</td>\n",
       "      <td>Добавить блоки рекомендаций товаров на сайт ин...</td>\n",
       "      <td>8</td>\n",
       "      <td>3</td>\n",
       "      <td>7</td>\n",
       "      <td>3</td>\n",
       "      <td>7.000000</td>\n",
       "      <td>56.0</td>\n",
       "    </tr>\n",
       "    <tr>\n",
       "      <td>0</td>\n",
       "      <td>Добавить два новых канала привлечения трафика,...</td>\n",
       "      <td>3</td>\n",
       "      <td>10</td>\n",
       "      <td>8</td>\n",
       "      <td>6</td>\n",
       "      <td>13.333333</td>\n",
       "      <td>40.0</td>\n",
       "    </tr>\n",
       "    <tr>\n",
       "      <td>6</td>\n",
       "      <td>Показать на главной странице баннеры с актуаль...</td>\n",
       "      <td>5</td>\n",
       "      <td>3</td>\n",
       "      <td>8</td>\n",
       "      <td>3</td>\n",
       "      <td>8.000000</td>\n",
       "      <td>40.0</td>\n",
       "    </tr>\n",
       "    <tr>\n",
       "      <td>8</td>\n",
       "      <td>Запустить акцию, дающую скидку на товар в день...</td>\n",
       "      <td>1</td>\n",
       "      <td>9</td>\n",
       "      <td>9</td>\n",
       "      <td>5</td>\n",
       "      <td>16.200000</td>\n",
       "      <td>16.2</td>\n",
       "    </tr>\n",
       "    <tr>\n",
       "      <td>3</td>\n",
       "      <td>Изменить структура категорий, что увеличит кон...</td>\n",
       "      <td>8</td>\n",
       "      <td>3</td>\n",
       "      <td>3</td>\n",
       "      <td>8</td>\n",
       "      <td>1.125000</td>\n",
       "      <td>9.0</td>\n",
       "    </tr>\n",
       "    <tr>\n",
       "      <td>1</td>\n",
       "      <td>Запустить собственную службу доставки, что сок...</td>\n",
       "      <td>2</td>\n",
       "      <td>5</td>\n",
       "      <td>4</td>\n",
       "      <td>10</td>\n",
       "      <td>2.000000</td>\n",
       "      <td>4.0</td>\n",
       "    </tr>\n",
       "    <tr>\n",
       "      <td>5</td>\n",
       "      <td>Добавить страницу отзывов клиентов о магазине,...</td>\n",
       "      <td>3</td>\n",
       "      <td>2</td>\n",
       "      <td>2</td>\n",
       "      <td>3</td>\n",
       "      <td>1.333333</td>\n",
       "      <td>4.0</td>\n",
       "    </tr>\n",
       "    <tr>\n",
       "      <td>4</td>\n",
       "      <td>Изменить цвет фона главной страницы, чтобы уве...</td>\n",
       "      <td>3</td>\n",
       "      <td>1</td>\n",
       "      <td>1</td>\n",
       "      <td>1</td>\n",
       "      <td>1.000000</td>\n",
       "      <td>3.0</td>\n",
       "    </tr>\n",
       "  </tbody>\n",
       "</table>\n",
       "</div>"
      ],
      "text/plain": [
       "                                          hypothesis  reach  impact  \\\n",
       "7  Добавить форму подписки на все основные страни...     10       7   \n",
       "2  Добавить блоки рекомендаций товаров на сайт ин...      8       3   \n",
       "0  Добавить два новых канала привлечения трафика,...      3      10   \n",
       "6  Показать на главной странице баннеры с актуаль...      5       3   \n",
       "8  Запустить акцию, дающую скидку на товар в день...      1       9   \n",
       "3  Изменить структура категорий, что увеличит кон...      8       3   \n",
       "1  Запустить собственную службу доставки, что сок...      2       5   \n",
       "5  Добавить страницу отзывов клиентов о магазине,...      3       2   \n",
       "4  Изменить цвет фона главной страницы, чтобы уве...      3       1   \n",
       "\n",
       "   confidence  efforts        ice   rice  \n",
       "7           8        5  11.200000  112.0  \n",
       "2           7        3   7.000000   56.0  \n",
       "0           8        6  13.333333   40.0  \n",
       "6           8        3   8.000000   40.0  \n",
       "8           9        5  16.200000   16.2  \n",
       "3           3        8   1.125000    9.0  \n",
       "1           4       10   2.000000    4.0  \n",
       "5           2        3   1.333333    4.0  \n",
       "4           1        1   1.000000    3.0  "
      ]
     },
     "execution_count": 4,
     "metadata": {},
     "output_type": "execute_result"
    }
   ],
   "source": [
    "hypothesis['rice'] = hypothesis['ice']*hypothesis['reach']\n",
    "hypothesis.sort_values(by='rice', ascending=False)"
   ]
  },
  {
   "cell_type": "markdown",
   "metadata": {},
   "source": [
    "Как видим, как только мы приняли во внимание охват, приоретизация гипотез значительно изменилась."
   ]
  },
  {
   "cell_type": "markdown",
   "metadata": {},
   "source": [
    "Выведем топ-3 гипотезы по каждому фреймворку. Напомним, чем отличается расчет фреймворков ICE и RICE:\n",
    "\n",
    "$$ICE = \\frac{Impact * Confidence}{Efforts}$$ \n",
    "\n",
    "$$RICE = \\frac{Rearch * Impact * Confidence}{Efforts}$$\n",
    "\n",
    "таким образом:\n",
    "\n",
    "$$RICE = Rearch * ICE$$"
   ]
  },
  {
   "cell_type": "code",
   "execution_count": 5,
   "metadata": {
    "scrolled": true
   },
   "outputs": [
    {
     "name": "stdout",
     "output_type": "stream",
     "text": [
      "\u001b[4m\u001b[1mПриоритезация по ICE\u001b[0m\n"
     ]
    },
    {
     "data": {
      "text/html": [
       "<div>\n",
       "<style scoped>\n",
       "    .dataframe tbody tr th:only-of-type {\n",
       "        vertical-align: middle;\n",
       "    }\n",
       "\n",
       "    .dataframe tbody tr th {\n",
       "        vertical-align: top;\n",
       "    }\n",
       "\n",
       "    .dataframe thead th {\n",
       "        text-align: right;\n",
       "    }\n",
       "</style>\n",
       "<table border=\"1\" class=\"dataframe\">\n",
       "  <thead>\n",
       "    <tr style=\"text-align: right;\">\n",
       "      <th></th>\n",
       "      <th>hypothesis</th>\n",
       "      <th>reach</th>\n",
       "      <th>impact</th>\n",
       "      <th>confidence</th>\n",
       "      <th>efforts</th>\n",
       "      <th>ice</th>\n",
       "      <th>rice</th>\n",
       "    </tr>\n",
       "  </thead>\n",
       "  <tbody>\n",
       "    <tr>\n",
       "      <td>8</td>\n",
       "      <td>Запустить акцию, дающую скидку на товар в день рождения</td>\n",
       "      <td>1</td>\n",
       "      <td>9</td>\n",
       "      <td>9</td>\n",
       "      <td>5</td>\n",
       "      <td>16.200000</td>\n",
       "      <td>16.2</td>\n",
       "    </tr>\n",
       "    <tr>\n",
       "      <td>0</td>\n",
       "      <td>Добавить два новых канала привлечения трафика, что позволит привлекать на 30% больше пользователей</td>\n",
       "      <td>3</td>\n",
       "      <td>10</td>\n",
       "      <td>8</td>\n",
       "      <td>6</td>\n",
       "      <td>13.333333</td>\n",
       "      <td>40.0</td>\n",
       "    </tr>\n",
       "    <tr>\n",
       "      <td>7</td>\n",
       "      <td>Добавить форму подписки на все основные страницы, чтобы собрать базу клиентов для email-рассылок</td>\n",
       "      <td>10</td>\n",
       "      <td>7</td>\n",
       "      <td>8</td>\n",
       "      <td>5</td>\n",
       "      <td>11.200000</td>\n",
       "      <td>112.0</td>\n",
       "    </tr>\n",
       "  </tbody>\n",
       "</table>\n",
       "</div>"
      ],
      "text/plain": [
       "                                                                                           hypothesis  \\\n",
       "8                                             Запустить акцию, дающую скидку на товар в день рождения   \n",
       "0  Добавить два новых канала привлечения трафика, что позволит привлекать на 30% больше пользователей   \n",
       "7    Добавить форму подписки на все основные страницы, чтобы собрать базу клиентов для email-рассылок   \n",
       "\n",
       "   reach  impact  confidence  efforts        ice   rice  \n",
       "8      1       9           9        5  16.200000   16.2  \n",
       "0      3      10           8        6  13.333333   40.0  \n",
       "7     10       7           8        5  11.200000  112.0  "
      ]
     },
     "metadata": {},
     "output_type": "display_data"
    },
    {
     "name": "stdout",
     "output_type": "stream",
     "text": [
      "\n",
      "\n",
      "\u001b[4m\u001b[1mПриоритезация по RICE\u001b[0m\n"
     ]
    },
    {
     "data": {
      "text/html": [
       "<div>\n",
       "<style scoped>\n",
       "    .dataframe tbody tr th:only-of-type {\n",
       "        vertical-align: middle;\n",
       "    }\n",
       "\n",
       "    .dataframe tbody tr th {\n",
       "        vertical-align: top;\n",
       "    }\n",
       "\n",
       "    .dataframe thead th {\n",
       "        text-align: right;\n",
       "    }\n",
       "</style>\n",
       "<table border=\"1\" class=\"dataframe\">\n",
       "  <thead>\n",
       "    <tr style=\"text-align: right;\">\n",
       "      <th></th>\n",
       "      <th>hypothesis</th>\n",
       "      <th>reach</th>\n",
       "      <th>impact</th>\n",
       "      <th>confidence</th>\n",
       "      <th>efforts</th>\n",
       "      <th>ice</th>\n",
       "      <th>rice</th>\n",
       "    </tr>\n",
       "  </thead>\n",
       "  <tbody>\n",
       "    <tr>\n",
       "      <td>7</td>\n",
       "      <td>Добавить форму подписки на все основные страницы, чтобы собрать базу клиентов для email-рассылок</td>\n",
       "      <td>10</td>\n",
       "      <td>7</td>\n",
       "      <td>8</td>\n",
       "      <td>5</td>\n",
       "      <td>11.200000</td>\n",
       "      <td>112.0</td>\n",
       "    </tr>\n",
       "    <tr>\n",
       "      <td>2</td>\n",
       "      <td>Добавить блоки рекомендаций товаров на сайт интернет магазина, чтобы повысить конверсию и средний чек заказа</td>\n",
       "      <td>8</td>\n",
       "      <td>3</td>\n",
       "      <td>7</td>\n",
       "      <td>3</td>\n",
       "      <td>7.000000</td>\n",
       "      <td>56.0</td>\n",
       "    </tr>\n",
       "    <tr>\n",
       "      <td>0</td>\n",
       "      <td>Добавить два новых канала привлечения трафика, что позволит привлекать на 30% больше пользователей</td>\n",
       "      <td>3</td>\n",
       "      <td>10</td>\n",
       "      <td>8</td>\n",
       "      <td>6</td>\n",
       "      <td>13.333333</td>\n",
       "      <td>40.0</td>\n",
       "    </tr>\n",
       "  </tbody>\n",
       "</table>\n",
       "</div>"
      ],
      "text/plain": [
       "                                                                                                     hypothesis  \\\n",
       "7              Добавить форму подписки на все основные страницы, чтобы собрать базу клиентов для email-рассылок   \n",
       "2  Добавить блоки рекомендаций товаров на сайт интернет магазина, чтобы повысить конверсию и средний чек заказа   \n",
       "0            Добавить два новых канала привлечения трафика, что позволит привлекать на 30% больше пользователей   \n",
       "\n",
       "   reach  impact  confidence  efforts        ice   rice  \n",
       "7     10       7           8        5  11.200000  112.0  \n",
       "2      8       3           7        3   7.000000   56.0  \n",
       "0      3      10           8        6  13.333333   40.0  "
      ]
     },
     "metadata": {},
     "output_type": "display_data"
    }
   ],
   "source": [
    "pd.options.display.max_colwidth = 120\n",
    "print ('\\033[4m\\033[1m' + 'Приоритезация по ICE' + '\\033[0m')\n",
    "display(hypothesis.sort_values(by='ice', ascending=False).head(3))\n",
    "print()\n",
    "print()\n",
    "print ('\\033[4m\\033[1m' + 'Приоритезация по RICE' + '\\033[0m')\n",
    "display(hypothesis.sort_values(by='rice', ascending=False).head(3))"
   ]
  },
  {
   "cell_type": "markdown",
   "metadata": {},
   "source": [
    "Как видим, топ-3 частично пересекаются, при этом если по фреймворку ICE у них относительно небольшой разрыв в приоритете, то по фреймворку RICE разрыв более серьезный. Выясним, как отличаются по приоритету остальные гипотезы при использовании разных фреймворков, для наглядности используем **slope graph** - отсортированные в соответствии с приоритетом по фреймворку гипотезы соединим линиями, чтобы было проще оценить изменения."
   ]
  },
  {
   "cell_type": "code",
   "execution_count": 6,
   "metadata": {
    "scrolled": false
   },
   "outputs": [
    {
     "data": {
      "text/html": [
       "<div>\n",
       "<style scoped>\n",
       "    .dataframe tbody tr th:only-of-type {\n",
       "        vertical-align: middle;\n",
       "    }\n",
       "\n",
       "    .dataframe tbody tr th {\n",
       "        vertical-align: top;\n",
       "    }\n",
       "\n",
       "    .dataframe thead th {\n",
       "        text-align: right;\n",
       "    }\n",
       "</style>\n",
       "<table border=\"1\" class=\"dataframe\">\n",
       "  <thead>\n",
       "    <tr style=\"text-align: right;\">\n",
       "      <th></th>\n",
       "      <th>hypothesis</th>\n",
       "      <th>reach</th>\n",
       "      <th>impact</th>\n",
       "      <th>confidence</th>\n",
       "      <th>efforts</th>\n",
       "      <th>ice</th>\n",
       "      <th>rice</th>\n",
       "      <th>ice_score</th>\n",
       "      <th>rice_score</th>\n",
       "    </tr>\n",
       "  </thead>\n",
       "  <tbody>\n",
       "    <tr>\n",
       "      <td>7</td>\n",
       "      <td>Добавить форму подписки на все основные страницы, чтобы собрать базу клиентов для email-рассылок</td>\n",
       "      <td>10</td>\n",
       "      <td>7</td>\n",
       "      <td>8</td>\n",
       "      <td>5</td>\n",
       "      <td>11.200000</td>\n",
       "      <td>112.0</td>\n",
       "      <td>2</td>\n",
       "      <td>0</td>\n",
       "    </tr>\n",
       "    <tr>\n",
       "      <td>2</td>\n",
       "      <td>Добавить блоки рекомендаций товаров на сайт интернет магазина, чтобы повысить конверсию и средний чек заказа</td>\n",
       "      <td>8</td>\n",
       "      <td>3</td>\n",
       "      <td>7</td>\n",
       "      <td>3</td>\n",
       "      <td>7.000000</td>\n",
       "      <td>56.0</td>\n",
       "      <td>4</td>\n",
       "      <td>1</td>\n",
       "    </tr>\n",
       "    <tr>\n",
       "      <td>0</td>\n",
       "      <td>Добавить два новых канала привлечения трафика, что позволит привлекать на 30% больше пользователей</td>\n",
       "      <td>3</td>\n",
       "      <td>10</td>\n",
       "      <td>8</td>\n",
       "      <td>6</td>\n",
       "      <td>13.333333</td>\n",
       "      <td>40.0</td>\n",
       "      <td>1</td>\n",
       "      <td>2</td>\n",
       "    </tr>\n",
       "    <tr>\n",
       "      <td>6</td>\n",
       "      <td>Показать на главной странице баннеры с актуальными акциями и распродажами, чтобы увеличить конверсию</td>\n",
       "      <td>5</td>\n",
       "      <td>3</td>\n",
       "      <td>8</td>\n",
       "      <td>3</td>\n",
       "      <td>8.000000</td>\n",
       "      <td>40.0</td>\n",
       "      <td>3</td>\n",
       "      <td>3</td>\n",
       "    </tr>\n",
       "    <tr>\n",
       "      <td>8</td>\n",
       "      <td>Запустить акцию, дающую скидку на товар в день рождения</td>\n",
       "      <td>1</td>\n",
       "      <td>9</td>\n",
       "      <td>9</td>\n",
       "      <td>5</td>\n",
       "      <td>16.200000</td>\n",
       "      <td>16.2</td>\n",
       "      <td>0</td>\n",
       "      <td>4</td>\n",
       "    </tr>\n",
       "    <tr>\n",
       "      <td>3</td>\n",
       "      <td>Изменить структура категорий, что увеличит конверсию, т.к. пользователи быстрее найдут нужный товар</td>\n",
       "      <td>8</td>\n",
       "      <td>3</td>\n",
       "      <td>3</td>\n",
       "      <td>8</td>\n",
       "      <td>1.125000</td>\n",
       "      <td>9.0</td>\n",
       "      <td>7</td>\n",
       "      <td>5</td>\n",
       "    </tr>\n",
       "    <tr>\n",
       "      <td>1</td>\n",
       "      <td>Запустить собственную службу доставки, что сократит срок доставки заказов</td>\n",
       "      <td>2</td>\n",
       "      <td>5</td>\n",
       "      <td>4</td>\n",
       "      <td>10</td>\n",
       "      <td>2.000000</td>\n",
       "      <td>4.0</td>\n",
       "      <td>5</td>\n",
       "      <td>6</td>\n",
       "    </tr>\n",
       "    <tr>\n",
       "      <td>5</td>\n",
       "      <td>Добавить страницу отзывов клиентов о магазине, что позволит увеличить количество заказов</td>\n",
       "      <td>3</td>\n",
       "      <td>2</td>\n",
       "      <td>2</td>\n",
       "      <td>3</td>\n",
       "      <td>1.333333</td>\n",
       "      <td>4.0</td>\n",
       "      <td>6</td>\n",
       "      <td>7</td>\n",
       "    </tr>\n",
       "    <tr>\n",
       "      <td>4</td>\n",
       "      <td>Изменить цвет фона главной страницы, чтобы увеличить вовлеченность пользователей</td>\n",
       "      <td>3</td>\n",
       "      <td>1</td>\n",
       "      <td>1</td>\n",
       "      <td>1</td>\n",
       "      <td>1.000000</td>\n",
       "      <td>3.0</td>\n",
       "      <td>8</td>\n",
       "      <td>8</td>\n",
       "    </tr>\n",
       "  </tbody>\n",
       "</table>\n",
       "</div>"
      ],
      "text/plain": [
       "                                                                                                     hypothesis  \\\n",
       "7              Добавить форму подписки на все основные страницы, чтобы собрать базу клиентов для email-рассылок   \n",
       "2  Добавить блоки рекомендаций товаров на сайт интернет магазина, чтобы повысить конверсию и средний чек заказа   \n",
       "0            Добавить два новых канала привлечения трафика, что позволит привлекать на 30% больше пользователей   \n",
       "6          Показать на главной странице баннеры с актуальными акциями и распродажами, чтобы увеличить конверсию   \n",
       "8                                                       Запустить акцию, дающую скидку на товар в день рождения   \n",
       "3           Изменить структура категорий, что увеличит конверсию, т.к. пользователи быстрее найдут нужный товар   \n",
       "1                                     Запустить собственную службу доставки, что сократит срок доставки заказов   \n",
       "5                      Добавить страницу отзывов клиентов о магазине, что позволит увеличить количество заказов   \n",
       "4                              Изменить цвет фона главной страницы, чтобы увеличить вовлеченность пользователей   \n",
       "\n",
       "   reach  impact  confidence  efforts        ice   rice  ice_score  rice_score  \n",
       "7     10       7           8        5  11.200000  112.0          2           0  \n",
       "2      8       3           7        3   7.000000   56.0          4           1  \n",
       "0      3      10           8        6  13.333333   40.0          1           2  \n",
       "6      5       3           8        3   8.000000   40.0          3           3  \n",
       "8      1       9           9        5  16.200000   16.2          0           4  \n",
       "3      8       3           3        8   1.125000    9.0          7           5  \n",
       "1      2       5           4       10   2.000000    4.0          5           6  \n",
       "5      3       2           2        3   1.333333    4.0          6           7  \n",
       "4      3       1           1        1   1.000000    3.0          8           8  "
      ]
     },
     "execution_count": 6,
     "metadata": {},
     "output_type": "execute_result"
    }
   ],
   "source": [
    "hypothesis = hypothesis.sort_values(by='ice', ascending=False)\n",
    "hypothesis['ice_score'] = np.arange(len(hypothesis))\n",
    "hypothesis = hypothesis.sort_values(by='rice', ascending=False)\n",
    "hypothesis['rice_score'] = np.arange(len(hypothesis))\n",
    "hypothesis"
   ]
  },
  {
   "cell_type": "code",
   "execution_count": 7,
   "metadata": {
    "scrolled": true
   },
   "outputs": [
    {
     "data": {
      "image/png": "[encoded data removed]",
      "text/plain": [
       "<Figure size 1440x1080 with 1 Axes>"
      ]
     },
     "metadata": {},
     "output_type": "display_data"
    }
   ],
   "source": [
    "fig, ax = plt.subplots(1, figsize=(20,15),facecolor='lightgrey')\n",
    "ax.set_facecolor('lightgrey')\n",
    "for i in hypothesis['hypothesis']:\n",
    "    plt.plot([0,1], [-hypothesis.loc[hypothesis['hypothesis']==i,'ice_score'], -hypothesis.loc[hypothesis['hypothesis']==i,'rice_score']],  lw=2.5)\n",
    "    plt.text( 0,-hypothesis.loc[hypothesis['hypothesis']==i,'ice_score']+0.1, \n",
    "             int(hypothesis.loc[hypothesis['hypothesis']==i,'ice_score'])+1, size=16)\n",
    "    plt.text( 1,-hypothesis.loc[hypothesis['hypothesis']==i,'rice_score']+0.1, \n",
    "             int(hypothesis.loc[hypothesis['hypothesis']==i,'rice_score'])+1, size=16)\n",
    "    plt.text( -0.01, 1, 'ICE', size=30)\n",
    "    plt.text( 0.95, 1, 'RICE', size=30)\n",
    "    \n",
    "plt.legend(hypothesis['hypothesis'], loc='upper center',frameon=False, prop={'size': 12})\n",
    "plt.ylim(-8.5,2)\n",
    "plt.show()\n"
   ]
  },
  {
   "cell_type": "markdown",
   "metadata": {},
   "source": [
    "## Анализ A/B-теста\n",
    "Изучим таблицы с результатами А/В-теста"
   ]
  },
  {
   "cell_type": "code",
   "execution_count": 8,
   "metadata": {
    "scrolled": true
   },
   "outputs": [
    {
     "name": "stdout",
     "output_type": "stream",
     "text": [
      "\u001b[4m\u001b[1mOrders\u001b[0m\n"
     ]
    },
    {
     "data": {
      "text/html": [
       "<div>\n",
       "<style scoped>\n",
       "    .dataframe tbody tr th:only-of-type {\n",
       "        vertical-align: middle;\n",
       "    }\n",
       "\n",
       "    .dataframe tbody tr th {\n",
       "        vertical-align: top;\n",
       "    }\n",
       "\n",
       "    .dataframe thead th {\n",
       "        text-align: right;\n",
       "    }\n",
       "</style>\n",
       "<table border=\"1\" class=\"dataframe\">\n",
       "  <thead>\n",
       "    <tr style=\"text-align: right;\">\n",
       "      <th></th>\n",
       "      <th>transactionid</th>\n",
       "      <th>visitorid</th>\n",
       "      <th>date</th>\n",
       "      <th>revenue</th>\n",
       "      <th>group</th>\n",
       "    </tr>\n",
       "  </thead>\n",
       "  <tbody>\n",
       "    <tr>\n",
       "      <td>0</td>\n",
       "      <td>3667963787</td>\n",
       "      <td>3312258926</td>\n",
       "      <td>2019-08-15</td>\n",
       "      <td>1650</td>\n",
       "      <td>B</td>\n",
       "    </tr>\n",
       "    <tr>\n",
       "      <td>1</td>\n",
       "      <td>2804400009</td>\n",
       "      <td>3642806036</td>\n",
       "      <td>2019-08-15</td>\n",
       "      <td>730</td>\n",
       "      <td>B</td>\n",
       "    </tr>\n",
       "  </tbody>\n",
       "</table>\n",
       "</div>"
      ],
      "text/plain": [
       "   transactionid   visitorid        date  revenue group\n",
       "0     3667963787  3312258926  2019-08-15     1650     B\n",
       "1     2804400009  3642806036  2019-08-15      730     B"
      ]
     },
     "metadata": {},
     "output_type": "display_data"
    },
    {
     "name": "stdout",
     "output_type": "stream",
     "text": [
      "<class 'pandas.core.frame.DataFrame'>\n",
      "RangeIndex: 1197 entries, 0 to 1196\n",
      "Data columns (total 5 columns):\n",
      "transactionid    1197 non-null int64\n",
      "visitorid        1197 non-null int64\n",
      "date             1197 non-null object\n",
      "revenue          1197 non-null int64\n",
      "group            1197 non-null object\n",
      "dtypes: int64(3), object(2)\n",
      "memory usage: 46.9+ KB\n"
     ]
    },
    {
     "data": {
      "text/plain": [
       "None"
      ]
     },
     "metadata": {},
     "output_type": "display_data"
    },
    {
     "name": "stdout",
     "output_type": "stream",
     "text": [
      "\u001b[4m\u001b[1mVisitors\u001b[0m\n"
     ]
    },
    {
     "data": {
      "text/html": [
       "<div>\n",
       "<style scoped>\n",
       "    .dataframe tbody tr th:only-of-type {\n",
       "        vertical-align: middle;\n",
       "    }\n",
       "\n",
       "    .dataframe tbody tr th {\n",
       "        vertical-align: top;\n",
       "    }\n",
       "\n",
       "    .dataframe thead th {\n",
       "        text-align: right;\n",
       "    }\n",
       "</style>\n",
       "<table border=\"1\" class=\"dataframe\">\n",
       "  <thead>\n",
       "    <tr style=\"text-align: right;\">\n",
       "      <th></th>\n",
       "      <th>date</th>\n",
       "      <th>group</th>\n",
       "      <th>visitors</th>\n",
       "    </tr>\n",
       "  </thead>\n",
       "  <tbody>\n",
       "    <tr>\n",
       "      <td>0</td>\n",
       "      <td>2019-08-01</td>\n",
       "      <td>A</td>\n",
       "      <td>719</td>\n",
       "    </tr>\n",
       "    <tr>\n",
       "      <td>1</td>\n",
       "      <td>2019-08-02</td>\n",
       "      <td>A</td>\n",
       "      <td>619</td>\n",
       "    </tr>\n",
       "  </tbody>\n",
       "</table>\n",
       "</div>"
      ],
      "text/plain": [
       "         date group  visitors\n",
       "0  2019-08-01     A       719\n",
       "1  2019-08-02     A       619"
      ]
     },
     "metadata": {},
     "output_type": "display_data"
    },
    {
     "name": "stdout",
     "output_type": "stream",
     "text": [
      "<class 'pandas.core.frame.DataFrame'>\n",
      "RangeIndex: 62 entries, 0 to 61\n",
      "Data columns (total 3 columns):\n",
      "date        62 non-null object\n",
      "group       62 non-null object\n",
      "visitors    62 non-null int64\n",
      "dtypes: int64(1), object(2)\n",
      "memory usage: 1.6+ KB\n"
     ]
    },
    {
     "data": {
      "text/plain": [
       "None"
      ]
     },
     "metadata": {},
     "output_type": "display_data"
    }
   ],
   "source": [
    "print ('\\033[4m\\033[1m' + 'Orders' + '\\033[0m')\n",
    "display(orders.head(2))\n",
    "display(orders.info())\n",
    "print ('\\033[4m\\033[1m' + 'Visitors' + '\\033[0m')\n",
    "display(visitors.head(2))\n",
    "display(visitors.info())"
   ]
  },
  {
   "cell_type": "markdown",
   "metadata": {},
   "source": [
    "Приведем столбцы с датами к необходимому типу"
   ]
  },
  {
   "cell_type": "code",
   "execution_count": 9,
   "metadata": {},
   "outputs": [],
   "source": [
    "orders['date'] = pd.to_datetime(orders['date'])\n",
    "visitors['date'] = pd.to_datetime(visitors['date'])"
   ]
  },
  {
   "cell_type": "markdown",
   "metadata": {},
   "source": [
    "Проверим данные на дубликаты"
   ]
  },
  {
   "cell_type": "code",
   "execution_count": 10,
   "metadata": {
    "scrolled": false
   },
   "outputs": [
    {
     "data": {
      "text/plain": [
       "0"
      ]
     },
     "metadata": {},
     "output_type": "display_data"
    },
    {
     "data": {
      "text/plain": [
       "0"
      ]
     },
     "metadata": {},
     "output_type": "display_data"
    }
   ],
   "source": [
    "display(orders.duplicated().sum())\n",
    "display(visitors.duplicated().sum())"
   ]
  },
  {
   "cell_type": "markdown",
   "metadata": {},
   "source": [
    "Проверим, нет ли пользователей, которые попали в обе группы."
   ]
  },
  {
   "cell_type": "code",
   "execution_count": 11,
   "metadata": {},
   "outputs": [
    {
     "data": {
      "text/plain": [
       "89"
      ]
     },
     "execution_count": 11,
     "metadata": {},
     "output_type": "execute_result"
    }
   ],
   "source": [
    "visitors_A = orders[orders['group']=='A']\n",
    "visitors_B = orders[orders['group']=='B']\n",
    "double_visitors = visitors_A[visitors_A['visitorid'].isin(visitors_B['visitorid'])]\n",
    "len(double_visitors)"
   ]
  },
  {
   "cell_type": "markdown",
   "metadata": {},
   "source": [
    "Как видим, есть достаточно много пользователей, которые попали в обе группы. Правильно будет исключить их из выборки."
   ]
  },
  {
   "cell_type": "code",
   "execution_count": 12,
   "metadata": {
    "scrolled": true
   },
   "outputs": [],
   "source": [
    "orders_filtered = orders[~orders['visitorid'].isin(double_visitors)]"
   ]
  },
  {
   "cell_type": "markdown",
   "metadata": {},
   "source": [
    "### Построим график кумулятивной выручки по группам. "
   ]
  },
  {
   "cell_type": "markdown",
   "metadata": {},
   "source": [
    "Создадим таблицу с уникальными значениями дат и групп теста, затем получим кумулятивные данные о заказах и посетителях по дням."
   ]
  },
  {
   "cell_type": "code",
   "execution_count": 13,
   "metadata": {},
   "outputs": [],
   "source": [
    "dates_groups = orders[['date','group']].drop_duplicates()\n",
    "orders_agg = dates_groups.apply(lambda x: orders[np.logical_and(orders['date'] <= x['date'], orders['group'] == x['group'])].agg({'date' : 'max', 'group' : 'max', 'transactionid' : pd.Series.nunique, 'visitorid' : pd.Series.nunique, 'revenue' : 'sum'}), axis=1).sort_values(by=['date','group'])\n",
    "visitors_agg = dates_groups.apply(lambda x: visitors[np.logical_and(visitors['date'] <= x['date'], visitors['group'] == x['group'])].agg({'date' : 'max', 'group' : 'max', 'visitors' : 'sum'}), axis=1).sort_values(by=['date','group'])"
   ]
  },
  {
   "cell_type": "markdown",
   "metadata": {},
   "source": [
    "Объединим таблицы по дате и группе, переименуем столбцы"
   ]
  },
  {
   "cell_type": "code",
   "execution_count": 14,
   "metadata": {},
   "outputs": [],
   "source": [
    "cumulative_data = orders_agg.merge(visitors_agg, left_on=['date', 'group'], right_on=['date', 'group'])\n",
    "cumulative_data.columns = ['date', 'group', 'orders', 'buyers', 'revenue', 'visitors']"
   ]
  },
  {
   "cell_type": "markdown",
   "metadata": {},
   "source": [
    "Построим графики кумулятивной выручки по дням и группам A/B-тестирования"
   ]
  },
  {
   "cell_type": "code",
   "execution_count": 15,
   "metadata": {},
   "outputs": [
    {
     "data": {
      "image/png": "[encoded data removed]",
      "text/plain": [
       "<Figure size 1440x576 with 1 Axes>"
      ]
     },
     "metadata": {
      "needs_background": "light"
     },
     "output_type": "display_data"
    }
   ],
   "source": [
    "warnings.simplefilter(action='ignore', category=FutureWarning)\n",
    "\n",
    "plt.figure(figsize=[20,8])\n",
    "ax=sns.lineplot(data=cumulative_data, x='date', y='revenue', hue='group')\n",
    "ax.axes.set_title('Кумулятивная выручка по дням и группам A/B-тестирования',fontsize=25)\n",
    "ax.set_xlabel('Дата',fontsize=20)\n",
    "ax.set_ylabel('Выручка',fontsize=20)\n",
    "ax.xaxis.set_major_locator(ticker.MultipleLocator(1)) # Ставим более частые \"тикеры\"\n",
    "ax.tick_params(labelsize=12)\n",
    "plt.xticks(rotation=45)\n",
    "ax.yaxis.grid(True)\n",
    "ax.xaxis.grid(True)\n",
    "plt.legend(loc=2, prop={'size': 15})\n",
    "plt.show()"
   ]
  },
  {
   "cell_type": "markdown",
   "metadata": {},
   "source": [
    "Как мы видим выручка равномерно накапливается с каждым днем в обеих группах, однако в группе В наблюдается резкий скачок, что может говорить о резком росте числа заказов, либо о появлении очень большого заказа."
   ]
  },
  {
   "cell_type": "markdown",
   "metadata": {},
   "source": [
    "### Построим график кумулятивного среднего чека по группам"
   ]
  },
  {
   "cell_type": "markdown",
   "metadata": {},
   "source": [
    "Найдем средний чек и построим график."
   ]
  },
  {
   "cell_type": "code",
   "execution_count": 16,
   "metadata": {},
   "outputs": [
    {
     "data": {
      "image/png": "[encoded data removed]",
      "text/plain": [
       "<Figure size 1440x576 with 1 Axes>"
      ]
     },
     "metadata": {
      "needs_background": "light"
     },
     "output_type": "display_data"
    }
   ],
   "source": [
    "cumulative_data['avg_revenue'] = cumulative_data['revenue'] / cumulative_data['orders']\n",
    "\n",
    "plt.figure(figsize=[20,8])\n",
    "ax=sns.lineplot(data=cumulative_data, x='date', y='avg_revenue', hue='group')\n",
    "ax.axes.set_title('Средний чек по дням и группам A/B-тестирования',fontsize=25)\n",
    "ax.set_xlabel('Дата',fontsize=20)\n",
    "ax.set_ylabel('Чек',fontsize=20)\n",
    "ax.xaxis.set_major_locator(ticker.MultipleLocator(1)) # Ставим более частые \"тикеры\"\n",
    "ax.tick_params(labelsize=12)\n",
    "plt.xticks(rotation=45)\n",
    "ax.yaxis.grid(True)\n",
    "ax.xaxis.grid(True)\n",
    "plt.legend(loc=2, prop={'size': 15})\n",
    "plt.show()"
   ]
  },
  {
   "cell_type": "markdown",
   "metadata": {},
   "source": [
    "Наблюдаем резкий скачок для группы В в ту же дату, очевидно речь идет о крупном заказе. В целом же, изменения среднего чека к концу теста становятся более плавными. В конце теста куммулятивный средний чек группы В снижается, видимо из-за попадания туда ранее аномально большого заказа."
   ]
  },
  {
   "cell_type": "markdown",
   "metadata": {},
   "source": [
    "### Построим график относительного изменения кумулятивного среднего чека группы B к группе A"
   ]
  },
  {
   "cell_type": "code",
   "execution_count": 17,
   "metadata": {},
   "outputs": [
    {
     "data": {
      "image/png": "[encoded data removed]",
      "text/plain": [
       "<Figure size 1440x576 with 1 Axes>"
      ]
     },
     "metadata": {
      "needs_background": "light"
     },
     "output_type": "display_data"
    }
   ],
   "source": [
    "# сгруппируем данные по дате, средний чек представим в отдельных колонках по группе\n",
    "pivot_revenue = cumulative_data.pivot_table(index='date', columns='group', values='avg_revenue')\n",
    "# найдем отношение кумулятивных метрик двух групп минус единица для построения графика\n",
    "pivot_revenue['b_to_a'] = pivot_revenue['B'] / pivot_revenue['A'] - 1\n",
    "\n",
    "plt.figure(figsize=[20,8])\n",
    "ax=sns.lineplot(data=pivot_revenue, x=pivot_revenue.index, y='b_to_a', color='green')\n",
    "ax.axes.set_title('График относительного изменения кумулятивного среднего чека группы B к группе A',fontsize=25)\n",
    "ax.set_xlabel('Дата',fontsize=20)\n",
    "ax.set_ylabel('B/A-1',fontsize=20, rotation=0)\n",
    "ax.xaxis.set_major_locator(ticker.MultipleLocator(1)) # Ставим более частые \"тикеры\"\n",
    "ax.tick_params(labelsize=12)\n",
    "plt.xticks(rotation=45)\n",
    "ax.yaxis.grid(True)\n",
    "ax.xaxis.grid(True)\n",
    "plt.axhline(y=0, color='black', linestyle='--') \n",
    "plt.show()"
   ]
  },
  {
   "cell_type": "markdown",
   "metadata": {},
   "source": [
    "График различия между группами скачкообразно меняется, по нему нельзя сделать однозначных выводов, судя по резким изменениям графика присутствуют аномльные значения."
   ]
  },
  {
   "cell_type": "markdown",
   "metadata": {},
   "source": [
    "### Построим график кумулятивной конверсии по группам."
   ]
  },
  {
   "cell_type": "code",
   "execution_count": 18,
   "metadata": {},
   "outputs": [
    {
     "data": {
      "image/png": "[encoded data removed]",
      "text/plain": [
       "<Figure size 1440x576 with 1 Axes>"
      ]
     },
     "metadata": {
      "needs_background": "light"
     },
     "output_type": "display_data"
    }
   ],
   "source": [
    "# найдем конверсию\n",
    "cumulative_data['conversion'] = cumulative_data['orders'] / cumulative_data['visitors']\n",
    "\n",
    "plt.figure(figsize=[20,8])\n",
    "ax=sns.lineplot(data=cumulative_data, x='date', y='conversion', hue='group')\n",
    "ax.axes.set_title('Кумулятивная конверсия по дням и группам A/B-тестирования',fontsize=25)\n",
    "ax.set_xlabel('Дата',fontsize=20)\n",
    "ax.set_ylabel('Конверсия',fontsize=20)\n",
    "ax.xaxis.set_major_locator(ticker.MultipleLocator(1)) # Ставим более частые \"тикеры\"\n",
    "ax.tick_params(labelsize=12)\n",
    "plt.xticks(rotation=45)\n",
    "ax.yaxis.grid(True)\n",
    "ax.xaxis.grid(True)\n",
    "plt.legend(loc=2, prop={'size': 15})\n",
    "plt.show()"
   ]
  },
  {
   "cell_type": "markdown",
   "metadata": {},
   "source": [
    "Конверсия группы A сильно проседает в те же даты, в которые сильно растет конверсия группы В, нет ли тут взаимосвязи? Даже к концу теста конверсии не установились, но при этом конверсия группы В стабильно лучше конверсии группы А."
   ]
  },
  {
   "cell_type": "markdown",
   "metadata": {},
   "source": [
    "### Построим график относительного изменения кумулятивной конверсии группы B к группе A"
   ]
  },
  {
   "cell_type": "code",
   "execution_count": 19,
   "metadata": {},
   "outputs": [
    {
     "data": {
      "image/png": "[encoded data removed]",
      "text/plain": [
       "<Figure size 1440x576 with 1 Axes>"
      ]
     },
     "metadata": {
      "needs_background": "light"
     },
     "output_type": "display_data"
    }
   ],
   "source": [
    "# сгруппируем данные по дате, конверсию представим в отдельных колонках по группе\n",
    "pivot_conversion = cumulative_data.pivot_table(index='date', columns='group', values='conversion')\n",
    "# найдем отношение кумулятивных метрик двух групп минус единица для построения графика\n",
    "pivot_conversion['b_to_a'] = pivot_conversion['B'] / pivot_conversion['A'] - 1\n",
    "\n",
    "plt.figure(figsize=[20,8])\n",
    "ax=sns.lineplot(data=pivot_conversion, x=pivot_conversion.index, y='b_to_a', color='red')\n",
    "ax.axes.set_title('График относительного изменения кумулятивной конверсии группы B к группе A',fontsize=25)\n",
    "ax.set_xlabel('Дата',fontsize=20)\n",
    "ax.set_ylabel('B/A-1',fontsize=20, rotation=0)\n",
    "ax.xaxis.set_major_locator(ticker.MultipleLocator(1)) # Ставим более частые \"тикеры\"\n",
    "ax.tick_params(labelsize=12)\n",
    "plt.xticks(rotation=45)\n",
    "ax.yaxis.grid(True)\n",
    "ax.xaxis.grid(True)\n",
    "plt.axhline(y=0, color='black', linestyle='--') \n",
    "plt.show()"
   ]
  },
  {
   "cell_type": "markdown",
   "metadata": {},
   "source": [
    "В начале теста конверсия группы В проигрывала группе А, после резкого скачка и падения, конверсия группы В выросла относительно группы А, и хотя отношение конверсий еще не установилось, нет предпосылок, что конверсия группы В станет меньше конверсии группы А."
   ]
  },
  {
   "cell_type": "markdown",
   "metadata": {},
   "source": [
    "### Построим точечный график количества заказов по пользователям"
   ]
  },
  {
   "cell_type": "code",
   "execution_count": 20,
   "metadata": {},
   "outputs": [
    {
     "data": {
      "image/png": "[encoded data removed]",
      "text/plain": [
       "<Figure size 432x288 with 1 Axes>"
      ]
     },
     "metadata": {
      "needs_background": "light"
     },
     "output_type": "display_data"
    }
   ],
   "source": [
    "# узнаем количество заказов на пользователя, сгруппировав данные по пользователям\n",
    "orders_by_visitors = orders.groupby('visitorid', as_index=False).agg({'transactionid': pd.Series.nunique})\n",
    "# создадим ряд для оси х длинной в количество пользователей\n",
    "x_values = pd.Series(range(0,len(orders_by_visitors)))\n",
    "\n",
    "ax=sns.scatterplot(data=orders_by_visitors, x=x_values, y=orders_by_visitors['transactionid'], color='green', edgecolor='k' )\n",
    "ax.axes.set_title('Заказов на пользователя',fontsize=15)\n",
    "ax.set_xlabel('Пользователи',fontsize=10)\n",
    "ax.set_ylabel('Заказы',fontsize=10)\n",
    "ax.yaxis.set_major_locator(ticker.MultipleLocator(1))\n",
    "ax.yaxis.grid(True)\n",
    "plt.show()"
   ]
  },
  {
   "cell_type": "markdown",
   "metadata": {},
   "source": [
    "Подавляющее большинство пользователей сделало по одному заказу, при этом есть пользователи и с 2-3 заказами, и оценить их долю по данному графику не представляется возможным."
   ]
  },
  {
   "cell_type": "markdown",
   "metadata": {},
   "source": [
    "### Посчитаем 95-й и 99-й перцентили количества заказов на пользователя. Выберем границу для определения аномальных пользователей"
   ]
  },
  {
   "cell_type": "code",
   "execution_count": 21,
   "metadata": {},
   "outputs": [
    {
     "name": "stdout",
     "output_type": "stream",
     "text": [
      "Не более 5% пользователей сделали 2 заказа и более, не более 1% пользователей сделали 4 заказа и более.\n"
     ]
    }
   ],
   "source": [
    "print('Не более 5% пользователей сделали {:.0f} заказа и более, не более 1% пользователей сделали {:.0f} заказа и более.'\n",
    "      .format(np.percentile(orders_by_visitors['transactionid'], [95, 99])[0], np.percentile(orders_by_visitors['transactionid'], [95, 99])[1]))"
   ]
  },
  {
   "cell_type": "markdown",
   "metadata": {},
   "source": [
    "Выберем 2 заказа как верхнюю границу для неаномальных пользователей."
   ]
  },
  {
   "cell_type": "markdown",
   "metadata": {},
   "source": [
    "### Построим точечный график стоимостей заказов"
   ]
  },
  {
   "cell_type": "code",
   "execution_count": 22,
   "metadata": {},
   "outputs": [
    {
     "data": {
      "image/png": "[encoded data removed]",
      "text/plain": [
       "<Figure size 360x576 with 1 Axes>"
      ]
     },
     "metadata": {
      "needs_background": "light"
     },
     "output_type": "display_data"
    }
   ],
   "source": [
    "x_values_rev = pd.Series(range(0,len(orders['revenue'])))\n",
    "\n",
    "plt.figure(figsize=[5,8])\n",
    "ax=sns.scatterplot(data=orders, x=x_values_rev, y=orders['revenue'], color='red', edgecolor='k' )\n",
    "ax.axes.set_title('Стоимости заказов',fontsize=15)\n",
    "ax.set_xlabel('Заказы',fontsize=12)\n",
    "ax.set_ylabel('Стоимость',fontsize=12)\n",
    "ax.yaxis.set_major_locator(ticker.MultipleLocator(25000))\n",
    "ax.yaxis.grid(True)\n",
    "plt.ylim([0, 225000])\n",
    "plt.show()"
   ]
  },
  {
   "cell_type": "markdown",
   "metadata": {},
   "source": [
    "Наблюдаем основное число заказов в пределах 25000, так же присутствуют и более дорогие заказы. Определить границу аномальных значений нам помогут перцентили."
   ]
  },
  {
   "cell_type": "markdown",
   "metadata": {},
   "source": [
    "### Посчитаем 95-й и 99-й перцентили стоимости заказов"
   ]
  },
  {
   "cell_type": "code",
   "execution_count": 23,
   "metadata": {},
   "outputs": [
    {
     "name": "stdout",
     "output_type": "stream",
     "text": [
      "Не более 5% заказов совершено на сумму больше 28000, и не более 1% заказов совершено на сумму больше 58233.\n"
     ]
    }
   ],
   "source": [
    "print('Не более 5% заказов совершено на сумму больше {:.0f}, и не более 1% заказов совершено на сумму больше {:.0f}.'\n",
    "      .format(np.percentile(orders['revenue'], [95, 99])[0], np.percentile(orders['revenue'], [95, 99])[1]))"
   ]
  },
  {
   "cell_type": "markdown",
   "metadata": {},
   "source": [
    "Выберем сумму 28000 как верхнюю границу для неаномальной стоимости заказа."
   ]
  },
  {
   "cell_type": "markdown",
   "metadata": {},
   "source": [
    "### Посчитаем статистическую значимость различий в конверсии между группами по «сырым» данным"
   ]
  },
  {
   "cell_type": "markdown",
   "metadata": {},
   "source": [
    "Подготовим данные"
   ]
  },
  {
   "cell_type": "code",
   "execution_count": 24,
   "metadata": {
    "scrolled": true
   },
   "outputs": [
    {
     "name": "stdout",
     "output_type": "stream",
     "text": [
      "        date  ordersPerDateA  revenuePerDateA  ordersPerDateB  \\\n",
      "0 2019-08-01              24           148579              21   \n",
      "1 2019-08-02              20            93822              24   \n",
      "2 2019-08-03              24           112473              16   \n",
      "3 2019-08-04              16            70825              17   \n",
      "4 2019-08-05              25           124218              23   \n",
      "\n",
      "   revenuePerDateB  ordersCummulativeA  revenueCummulativeA  \\\n",
      "0           101217                  24               148579   \n",
      "1           165531                  44               242401   \n",
      "2           114248                  68               354874   \n",
      "3           108571                  84               425699   \n",
      "4            92428                 109               549917   \n",
      "\n",
      "   ordersCummulativeB  revenueCummulativeB  visitorsPerDateA  \\\n",
      "0                  21               101217               719   \n",
      "1                  45               266748               619   \n",
      "2                  61               380996               507   \n",
      "3                  78               489567               717   \n",
      "4                 101               581995               756   \n",
      "\n",
      "   visitorsPerDateB  visitorsCummulativeA  visitorsCummulativeB  \n",
      "0               713                   719                   713  \n",
      "1               581                  1338                  1294  \n",
      "2               509                  1845                  1803  \n",
      "3               770                  2562                  2573  \n",
      "4               707                  3318                  3280  \n"
     ]
    }
   ],
   "source": [
    "    # Пользователей за дату в группе А\n",
    "visitorsADaily = visitors[visitors['group'] == 'A'][['date', 'visitors']]\n",
    "visitorsADaily.columns = ['date', 'visitorsPerDateA']\n",
    "    # Кумулятивное число пользователей  за дату в группе А\n",
    "visitorsACummulative = visitorsADaily.apply(\n",
    "    lambda x: visitorsADaily[visitorsADaily['date'] <= x['date']].agg(\n",
    "        {'date': 'max', 'visitorsPerDateA': 'sum'}\n",
    "    ),\n",
    "    axis=1,\n",
    ")\n",
    "visitorsACummulative.columns = ['date', 'visitorsCummulativeA']\n",
    "    # Пользователей за дату в группе В\n",
    "visitorsBDaily = visitors[visitors['group'] == 'B'][['date', 'visitors']]\n",
    "visitorsBDaily.columns = ['date', 'visitorsPerDateB']\n",
    "    # Кумулятивное число пользователей  за дату в группе В\n",
    "visitorsBCummulative = visitorsBDaily.apply(\n",
    "    lambda x: visitorsBDaily[visitorsBDaily['date'] <= x['date']].agg(\n",
    "        {'date': 'max', 'visitorsPerDateB': 'sum'}\n",
    "    ),\n",
    "    axis=1,\n",
    ")\n",
    "visitorsBCummulative.columns = ['date', 'visitorsCummulativeB']\n",
    "    # Число заказов и сумма чеков за каждую дату в группе А\n",
    "ordersADaily = (\n",
    "    orders[orders['group'] == 'A'][['date', 'transactionid', 'visitorid', 'revenue']]\n",
    "    .groupby('date', as_index=False)\n",
    "    .agg({'transactionid': pd.Series.nunique, 'revenue': 'sum'})\n",
    ")\n",
    "ordersADaily.columns = ['date', 'ordersPerDateA', 'revenuePerDateA']\n",
    "    # Кумулятивное число заказов и сумма чеков за каждую дату в группе А\n",
    "ordersACummulative = ordersADaily.apply(\n",
    "    lambda x: ordersADaily[ordersADaily['date'] <= x['date']].agg(\n",
    "        {'date': 'max', 'ordersPerDateA': 'sum', 'revenuePerDateA': 'sum'}\n",
    "    ),\n",
    "    axis=1,\n",
    ").sort_values(by=['date'])\n",
    "ordersACummulative.columns = [\n",
    "    'date',\n",
    "    'ordersCummulativeA',\n",
    "    'revenueCummulativeA',\n",
    "]\n",
    "    # Число заказов и сумма чеков за каждую дату в группе B\n",
    "ordersBDaily = (\n",
    "    orders[orders['group'] == 'B'][['date', 'transactionid', 'visitorid', 'revenue']]\n",
    "    .groupby('date', as_index=False)\n",
    "    .agg({'transactionid': pd.Series.nunique, 'revenue': 'sum'})\n",
    ")\n",
    "ordersBDaily.columns = ['date', 'ordersPerDateB', 'revenuePerDateB']\n",
    "    # Кумулятивное число заказов и сумма чеков за каждую дату в группе B\n",
    "ordersBCummulative = ordersBDaily.apply(\n",
    "    lambda x: ordersBDaily[ordersBDaily['date'] <= x['date']].agg(\n",
    "        {'date': 'max', 'ordersPerDateB': 'sum', 'revenuePerDateB': 'sum'}\n",
    "    ),\n",
    "    axis=1,\n",
    ").sort_values(by=['date'])\n",
    "ordersBCummulative.columns = [\n",
    "    'date',\n",
    "    'ordersCummulativeB',\n",
    "    'revenueCummulativeB',\n",
    "]\n",
    "\n",
    "data = (\n",
    "    ordersADaily.merge(\n",
    "        ordersBDaily, left_on='date', right_on='date', how='left'\n",
    "    )\n",
    "    .merge(ordersACummulative, left_on='date', right_on='date', how='left')\n",
    "    .merge(ordersBCummulative, left_on='date', right_on='date', how='left')\n",
    "    .merge(visitorsADaily, left_on='date', right_on='date', how='left')\n",
    "    .merge(visitorsBDaily, left_on='date', right_on='date', how='left')\n",
    "    .merge(visitorsACummulative, left_on='date', right_on='date', how='left')\n",
    "    .merge(visitorsBCummulative, left_on='date', right_on='date', how='left')\n",
    ")\n",
    "\n",
    "print(data.head(5)) "
   ]
  },
  {
   "cell_type": "markdown",
   "metadata": {},
   "source": [
    "Попробуем сделать то же самое другим способом и получить тот же результат."
   ]
  },
  {
   "cell_type": "code",
   "execution_count": 25,
   "metadata": {
    "scrolled": true
   },
   "outputs": [
    {
     "data": {
      "text/html": [
       "<div>\n",
       "<style scoped>\n",
       "    .dataframe tbody tr th:only-of-type {\n",
       "        vertical-align: middle;\n",
       "    }\n",
       "\n",
       "    .dataframe tbody tr th {\n",
       "        vertical-align: top;\n",
       "    }\n",
       "\n",
       "    .dataframe thead th {\n",
       "        text-align: right;\n",
       "    }\n",
       "</style>\n",
       "<table border=\"1\" class=\"dataframe\">\n",
       "  <thead>\n",
       "    <tr style=\"text-align: right;\">\n",
       "      <th></th>\n",
       "      <th>date</th>\n",
       "      <th>visitors_a</th>\n",
       "      <th>visitors_b</th>\n",
       "      <th>cumm_visitors_a</th>\n",
       "      <th>cumm_visitors_b</th>\n",
       "      <th>revenue_a</th>\n",
       "      <th>revenue_b</th>\n",
       "      <th>orders_a</th>\n",
       "      <th>orders_b</th>\n",
       "      <th>cumm_revenue_a</th>\n",
       "      <th>cumm_revenue_b</th>\n",
       "      <th>cumm_orders_a</th>\n",
       "      <th>cumm_orders_b</th>\n",
       "    </tr>\n",
       "  </thead>\n",
       "  <tbody>\n",
       "    <tr>\n",
       "      <td>0</td>\n",
       "      <td>2019-08-01</td>\n",
       "      <td>719</td>\n",
       "      <td>713</td>\n",
       "      <td>719</td>\n",
       "      <td>713</td>\n",
       "      <td>148579</td>\n",
       "      <td>101217</td>\n",
       "      <td>24</td>\n",
       "      <td>21</td>\n",
       "      <td>148579</td>\n",
       "      <td>101217</td>\n",
       "      <td>24</td>\n",
       "      <td>21</td>\n",
       "    </tr>\n",
       "    <tr>\n",
       "      <td>1</td>\n",
       "      <td>2019-08-02</td>\n",
       "      <td>619</td>\n",
       "      <td>581</td>\n",
       "      <td>1338</td>\n",
       "      <td>1294</td>\n",
       "      <td>93822</td>\n",
       "      <td>165531</td>\n",
       "      <td>20</td>\n",
       "      <td>24</td>\n",
       "      <td>242401</td>\n",
       "      <td>266748</td>\n",
       "      <td>44</td>\n",
       "      <td>45</td>\n",
       "    </tr>\n",
       "    <tr>\n",
       "      <td>2</td>\n",
       "      <td>2019-08-03</td>\n",
       "      <td>507</td>\n",
       "      <td>509</td>\n",
       "      <td>1845</td>\n",
       "      <td>1803</td>\n",
       "      <td>112473</td>\n",
       "      <td>114248</td>\n",
       "      <td>24</td>\n",
       "      <td>16</td>\n",
       "      <td>354874</td>\n",
       "      <td>380996</td>\n",
       "      <td>68</td>\n",
       "      <td>61</td>\n",
       "    </tr>\n",
       "    <tr>\n",
       "      <td>3</td>\n",
       "      <td>2019-08-04</td>\n",
       "      <td>717</td>\n",
       "      <td>770</td>\n",
       "      <td>2562</td>\n",
       "      <td>2573</td>\n",
       "      <td>70825</td>\n",
       "      <td>108571</td>\n",
       "      <td>16</td>\n",
       "      <td>17</td>\n",
       "      <td>425699</td>\n",
       "      <td>489567</td>\n",
       "      <td>84</td>\n",
       "      <td>78</td>\n",
       "    </tr>\n",
       "    <tr>\n",
       "      <td>4</td>\n",
       "      <td>2019-08-05</td>\n",
       "      <td>756</td>\n",
       "      <td>707</td>\n",
       "      <td>3318</td>\n",
       "      <td>3280</td>\n",
       "      <td>124218</td>\n",
       "      <td>92428</td>\n",
       "      <td>25</td>\n",
       "      <td>23</td>\n",
       "      <td>549917</td>\n",
       "      <td>581995</td>\n",
       "      <td>109</td>\n",
       "      <td>101</td>\n",
       "    </tr>\n",
       "  </tbody>\n",
       "</table>\n",
       "</div>"
      ],
      "text/plain": [
       "        date  visitors_a  visitors_b  cumm_visitors_a  cumm_visitors_b  \\\n",
       "0 2019-08-01         719         713              719              713   \n",
       "1 2019-08-02         619         581             1338             1294   \n",
       "2 2019-08-03         507         509             1845             1803   \n",
       "3 2019-08-04         717         770             2562             2573   \n",
       "4 2019-08-05         756         707             3318             3280   \n",
       "\n",
       "   revenue_a  revenue_b  orders_a  orders_b  cumm_revenue_a  cumm_revenue_b  \\\n",
       "0     148579     101217        24        21          148579          101217   \n",
       "1      93822     165531        20        24          242401          266748   \n",
       "2     112473     114248        24        16          354874          380996   \n",
       "3      70825     108571        16        17          425699          489567   \n",
       "4     124218      92428        25        23          549917          581995   \n",
       "\n",
       "   cumm_orders_a  cumm_orders_b  \n",
       "0             24             21  \n",
       "1             44             45  \n",
       "2             68             61  \n",
       "3             84             78  \n",
       "4            109            101  "
      ]
     },
     "execution_count": 25,
     "metadata": {},
     "output_type": "execute_result"
    }
   ],
   "source": [
    "pivot_visits = visitors.pivot_table(index='date', columns='group', aggfunc={'visitors':'mean'})\n",
    "pivot_visits.columns = ['visitors_a', 'visitors_b']\n",
    "pivot_visits['cumm_visitors_a'] = pivot_visits['visitors_a'].cumsum()\n",
    "pivot_visits['cumm_visitors_b'] = pivot_visits['visitors_b'].cumsum()\n",
    "\n",
    "pivot_orders = orders.pivot_table(index='date', columns='group', aggfunc={'transactionid': pd.Series.nunique, 'revenue': 'sum'})\n",
    "pivot_orders.columns = ['revenue_a', 'revenue_b', 'orders_a', 'orders_b']\n",
    "pivot_orders['cumm_revenue_a'] = pivot_orders['revenue_a'].cumsum()\n",
    "pivot_orders['cumm_revenue_b'] = pivot_orders['revenue_b'].cumsum()\n",
    "pivot_orders['cumm_orders_a'] = pivot_orders['orders_a'].cumsum()\n",
    "pivot_orders['cumm_orders_b'] = pivot_orders['orders_b'].cumsum()\n",
    "\n",
    "pivot_data = pivot_visits.join(pivot_orders).reset_index()\n",
    "pivot_data.head()"
   ]
  },
  {
   "cell_type": "markdown",
   "metadata": {},
   "source": [
    "Проверим гипотезу о различии в конверсии между группами:\n",
    "+ **Нулевая гипотеза** состоит в том, что статистически значимых различий в конверсии между группами нет\n",
    "+ **Альтернативня гипотеза** состоит в том, что конверсия группы А и группы В статистически отличается\n",
    "\n",
    "Критический уровень статистической значимости:  $\\alpha=0.05$"
   ]
  },
  {
   "cell_type": "code",
   "execution_count": 26,
   "metadata": {
    "scrolled": true
   },
   "outputs": [
    {
     "name": "stdout",
     "output_type": "stream",
     "text": [
      "p-value=0.005\n",
      "Отвергаем нулевую гипотезу: между конверсиями групп есть значимая разница\n",
      "Конверсия группы B выше относительно конверсии группы А на 14.901%\n"
     ]
    }
   ],
   "source": [
    "alpha = 0.05\n",
    "\n",
    "# Число заказов для каждого пользователя группы A\n",
    "ordersByUsersA = (\n",
    "    orders[orders['group'] == 'A']\n",
    "    .groupby('visitorid', as_index=False)\n",
    "    .agg({'transactionid': pd.Series.nunique})\n",
    ")\n",
    "ordersByUsersA.columns = ['visitorid', 'orders']\n",
    "# Число заказов для каждого пользователя группы В\n",
    "ordersByUsersB = (\n",
    "    orders[orders['group'] == 'B']\n",
    "    .groupby('visitorid', as_index=False)\n",
    "    .agg({'transactionid': pd.Series.nunique})\n",
    ")\n",
    "ordersByUsersB.columns = ['visitorid', 'orders']\n",
    "# Добавляем в конец списка столько нулей, на сколько отличается сумма всех посетителей группы \n",
    "# от числа пользователей, сделавших заказ\n",
    "sampleA = pd.concat(\n",
    "    [\n",
    "        ordersByUsersA['orders'],\n",
    "        pd.Series(\n",
    "            0,\n",
    "            index=np.arange(\n",
    "                pivot_data['visitors_a'].sum() - len(ordersByUsersA['orders'])\n",
    "            ),\n",
    "            name='orders',\n",
    "        ),\n",
    "    ],\n",
    "    axis=0,\n",
    ")\n",
    "\n",
    "sampleB = pd.concat(\n",
    "    [\n",
    "        ordersByUsersB['orders'],\n",
    "        pd.Series(\n",
    "            0,\n",
    "            index=np.arange(\n",
    "                pivot_data['visitors_a'].sum() - len(ordersByUsersB['orders'])\n",
    "            ),\n",
    "            name='orders',\n",
    "        ),\n",
    "    ],\n",
    "    axis=0,\n",
    ")\n",
    "\n",
    "p_value=stats.mannwhitneyu(sampleA, sampleB)[1]\n",
    "print('p-value={0:.3f}'.format(p_value))\n",
    "if p_value < alpha:\n",
    "    print('Отвергаем нулевую гипотезу: между конверсиями групп есть значимая разница')\n",
    "else:\n",
    "    print(\n",
    "        'Не получилось отвергнуть нулевую гипотезу, статистически значимых различий в конверсии между группами нет'\n",
    "    ) \n",
    "\n",
    "print('Конверсия группы B выше относительно конверсии группы А на {0:.3%}'.format(sampleB.mean() / sampleA.mean() - 1))\n"
   ]
  },
  {
   "cell_type": "markdown",
   "metadata": {},
   "source": [
    "Если рассматривать неочищенные данные, конверсия группы В значимо выше конверсии группы А. Необходимо посчитать статистическую значимость между конверсиями на очищенных даных."
   ]
  },
  {
   "cell_type": "markdown",
   "metadata": {},
   "source": [
    "### Посчитаем статистическую значимость различий в среднем чеке заказа между группами по «сырым» данным"
   ]
  },
  {
   "cell_type": "markdown",
   "metadata": {},
   "source": [
    "Проверим гипотезу о различии в конверсии между группами:\n",
    "+ **Нулевая гипотеза** состоит в том, что статистически значимых различий в среднем чеке между группами нет\n",
    "+ **Альтернативня гипотеза** состоит в том, что средний чек группы А и группы В статистически отличается\n",
    "\n",
    "Критический уровень статистической значимости:  $\\alpha=0.05$"
   ]
  },
  {
   "cell_type": "code",
   "execution_count": 27,
   "metadata": {
    "scrolled": true
   },
   "outputs": [
    {
     "name": "stdout",
     "output_type": "stream",
     "text": [
      "p-value=0.086\n",
      "Не получилось отвергнуть нулевую гипотезу, статистически значимых различий в среднем чеке между группами нет\n",
      "Средний чек группы B выше относительно среднего чека группы А на 25.871%\n"
     ]
    }
   ],
   "source": [
    "alpha = 0.05\n",
    "\n",
    "p_value=stats.mannwhitneyu(pivot_data['revenue_a'] , pivot_data['revenue_b'], alternative='two-sided')[1]\n",
    "print('p-value={0:.3f}'.format(p_value))\n",
    "\n",
    "if p_value < alpha:\n",
    "    print('Отвергаем нулевую гипотезу: между средним чеком групп есть значимая разница')\n",
    "else:\n",
    "    print(\n",
    "        'Не получилось отвергнуть нулевую гипотезу, статистически значимых различий в среднем чеке между группами нет'\n",
    "    ) \n",
    "\n",
    "print('Средний чек группы B выше относительно среднего чека группы А на {0:.3%}'.format(\n",
    "    orders[orders['group']=='B']['revenue'].mean() / orders[orders['group']=='A']['revenue'].mean() - 1))\n"
   ]
  },
  {
   "cell_type": "markdown",
   "metadata": {},
   "source": [
    "### Посчитаем статистическую значимость различий в конверсии между группами по «очищенным» данным"
   ]
  },
  {
   "cell_type": "markdown",
   "metadata": {},
   "source": [
    "Напомним, мы принимаем за аномальных пользователей тех, кто совершил свыше 2 заказов или совершил заказ дороже 28000. Узнаем, сколько всего аномальных пользователей в выборке."
   ]
  },
  {
   "cell_type": "code",
   "execution_count": 28,
   "metadata": {},
   "outputs": [
    {
     "name": "stdout",
     "output_type": "stream",
     "text": [
      "В выборке 74 аномальных пользователя.\n"
     ]
    }
   ],
   "source": [
    "usersWithManyOrders = pd.concat(\n",
    "    [\n",
    "        ordersByUsersA[ordersByUsersA['orders'] > 2]['visitorid'],\n",
    "        ordersByUsersB[ordersByUsersB['orders'] > 2]['visitorid'],\n",
    "    ],\n",
    "    axis=0,\n",
    ")\n",
    "usersWithExpensiveOrders = orders[orders['revenue'] > 28000]['visitorid']\n",
    "abnormalUsers = (\n",
    "    pd.concat([usersWithManyOrders, usersWithExpensiveOrders], axis=0)\n",
    "    .drop_duplicates()\n",
    "    .sort_values()\n",
    ")\n",
    "\n",
    "print('В выборке',len(abnormalUsers),'аномальных пользователя.')"
   ]
  },
  {
   "cell_type": "markdown",
   "metadata": {},
   "source": [
    "Сформируем отфильтрованные массивы данных и применим к ним статистический критерий Манна-Уитни. "
   ]
  },
  {
   "cell_type": "code",
   "execution_count": 29,
   "metadata": {
    "scrolled": false
   },
   "outputs": [
    {
     "name": "stdout",
     "output_type": "stream",
     "text": [
      "p-value=0.013\n",
      "Отвергаем нулевую гипотезу: между конверсиями групп есть значимая разница\n",
      "Конверсия группы B выше относительно конверсии группы А на 17.270%\n"
     ]
    }
   ],
   "source": [
    "# Выбираем из числа заказов для каждого пользователя только неаномальных пользователей.\n",
    "# Добавляем в конец списка столько нулей, на сколько отличается сумма всех посетителей группы \n",
    "# от числа пользователей, сделавших заказ\n",
    "sampleAFiltered = pd.concat(\n",
    "    [\n",
    "        ordersByUsersA[\n",
    "            np.logical_not(ordersByUsersA['visitorid'].isin(abnormalUsers))\n",
    "        ]['orders'],\n",
    "        pd.Series(\n",
    "            0,\n",
    "            index=np.arange(\n",
    "                pivot_data['visitors_a'].sum() - len(ordersByUsersA['orders'])\n",
    "            ),\n",
    "            name='orders',\n",
    "        ),\n",
    "    ],\n",
    "    axis=0,\n",
    ")\n",
    "\n",
    "sampleBFiltered = pd.concat(\n",
    "    [\n",
    "        ordersByUsersB[\n",
    "            np.logical_not(ordersByUsersB['visitorid'].isin(abnormalUsers))\n",
    "        ]['orders'],\n",
    "        pd.Series(\n",
    "            0,\n",
    "            index=np.arange(\n",
    "                pivot_data['visitors_b'].sum() - len(ordersByUsersB['orders'])\n",
    "            ),\n",
    "            name='orders',\n",
    "        ),\n",
    "    ],\n",
    "    axis=0,\n",
    ") \n",
    "\n",
    "alpha = 0.05\n",
    "\n",
    "p_value=stats.mannwhitneyu(sampleAFiltered, sampleBFiltered, alternative='two-sided')[1]\n",
    "\n",
    "print('p-value={0:.3f}'.format(p_value))\n",
    "if p_value < alpha:\n",
    "    print('Отвергаем нулевую гипотезу: между конверсиями групп есть значимая разница')\n",
    "else:\n",
    "    print(\n",
    "        'Не получилось отвергнуть нулевую гипотезу, статистически значимых различий в конверсии между группами нет'\n",
    "    ) \n",
    "\n",
    "print('Конверсия группы B выше относительно конверсии группы А на {0:.3%}'.format(sampleBFiltered.mean() / sampleAFiltered.mean() - 1))\n",
    "\n"
   ]
  },
  {
   "cell_type": "markdown",
   "metadata": {},
   "source": [
    "Результаты по конверсии подтвердились на очищенных данных, разница в относительной конверсии стала еще больше."
   ]
  },
  {
   "cell_type": "markdown",
   "metadata": {},
   "source": [
    "### Посчитаем статистическую значимость различий в среднем чеке заказа между группами по «очищенным» данным."
   ]
  },
  {
   "cell_type": "code",
   "execution_count": 30,
   "metadata": {},
   "outputs": [
    {
     "name": "stdout",
     "output_type": "stream",
     "text": [
      "p-value=0.738\n",
      "Не получилось отвергнуть нулевую гипотезу, статистически значимых различий в среднем чеке между группами нет\n",
      "Средний чек группы B выше относительно среднего чека группы А на -1.962%\n"
     ]
    }
   ],
   "source": [
    "alpha = 0.05\n",
    "\n",
    "p_value = stats.mannwhitneyu(\n",
    "            orders[\n",
    "                np.logical_and(\n",
    "                    orders['group'] == 'A',\n",
    "                    np.logical_not(orders['visitorid'].isin(abnormalUsers)),\n",
    "                )\n",
    "            ]['revenue'],\n",
    "            orders[\n",
    "                np.logical_and(\n",
    "                    orders['group'] == 'B',\n",
    "                    np.logical_not(orders['visitorid'].isin(abnormalUsers)),\n",
    "                )\n",
    "            ]['revenue'],\n",
    "        alternative='two-sided')[1]\n",
    "\n",
    "print('p-value={0:.3f}'.format(p_value))\n",
    "if p_value < alpha:\n",
    "    print('Отвергаем нулевую гипотезу: между средним чеком групп есть значимая разница')\n",
    "else:\n",
    "    print(\n",
    "        'Не получилось отвергнуть нулевую гипотезу, статистически значимых различий в среднем чеке между группами нет'\n",
    "    ) \n",
    "\n",
    "print('Средний чек группы B выше относительно среднего чека группы А на {0:.3%}'.format(\n",
    "   orders[\n",
    "            np.logical_and(\n",
    "                orders['group'] == 'B',\n",
    "                np.logical_not(orders['visitorid'].isin(abnormalUsers)),\n",
    "            )\n",
    "        ]['revenue'].mean()\n",
    "        / orders[\n",
    "            np.logical_and(\n",
    "                orders['group'] == 'A',\n",
    "                np.logical_not(orders['visitorid'].isin(abnormalUsers)),\n",
    "            )\n",
    "        ]['revenue'].mean()\n",
    "        - 1\n",
    "        )\n",
    "     )"
   ]
  },
  {
   "cell_type": "markdown",
   "metadata": {},
   "source": [
    "Результаты по среднему чеку не подтвердились на очищенных данных, статистически значимых различий в среднем чеке между группами нет."
   ]
  },
  {
   "cell_type": "markdown",
   "metadata": {},
   "source": [
    "## Вывод"
   ]
  },
  {
   "cell_type": "markdown",
   "metadata": {},
   "source": [
    "По результатам анализа выяснили:\n",
    "\n",
    "+ статистически значимых различий в среднем чеке между группами нет;\n",
    "+ конверсия группы В лучше конверсии группы А, и хотя конверсии до конца не установились, нет предпосылок, что ситуация изменится\n",
    "\n",
    "**Представляется целесообразным прекратить тест и зафиксировать победу группы В**"
   ]
  }
 ],
 "metadata": {
  "ExecuteTimeLog": [
   {
    "duration": 1507,
    "start_time": "2021-10-11T21:47:31.907Z"
   },
   {
    "duration": 90,
    "start_time": "2021-10-11T21:49:15.458Z"
   },
   {
    "duration": 83,
    "start_time": "2021-10-11T21:50:09.516Z"
   },
   {
    "duration": 11,
    "start_time": "2021-10-11T21:50:41.499Z"
   },
   {
    "duration": 83,
    "start_time": "2021-10-11T21:54:12.558Z"
   },
   {
    "duration": 8,
    "start_time": "2021-10-11T21:55:03.238Z"
   },
   {
    "duration": 15,
    "start_time": "2021-10-11T21:55:12.883Z"
   },
   {
    "duration": 17,
    "start_time": "2021-10-11T21:56:06.492Z"
   },
   {
    "duration": 413,
    "start_time": "2021-10-11T21:59:09.434Z"
   },
   {
    "duration": 10,
    "start_time": "2021-10-11T21:59:18.964Z"
   },
   {
    "duration": 12,
    "start_time": "2021-10-11T21:59:36.061Z"
   },
   {
    "duration": 2330,
    "start_time": "2021-10-13T20:07:01.812Z"
   },
   {
    "duration": 110,
    "start_time": "2021-10-13T20:07:04.144Z"
   },
   {
    "duration": 20,
    "start_time": "2021-10-13T20:07:04.257Z"
   },
   {
    "duration": 17,
    "start_time": "2021-10-13T20:07:04.280Z"
   },
   {
    "duration": 13,
    "start_time": "2021-10-13T20:14:37.738Z"
   },
   {
    "duration": 28,
    "start_time": "2021-10-13T20:15:39.317Z"
   },
   {
    "duration": 30,
    "start_time": "2021-10-13T20:19:28.938Z"
   },
   {
    "duration": 13,
    "start_time": "2021-10-13T20:21:34.834Z"
   },
   {
    "duration": 32,
    "start_time": "2021-10-13T20:22:37.324Z"
   },
   {
    "duration": 13,
    "start_time": "2021-10-13T20:23:15.588Z"
   },
   {
    "duration": 12,
    "start_time": "2021-10-13T20:23:28.487Z"
   },
   {
    "duration": 7,
    "start_time": "2021-10-13T20:24:03.371Z"
   },
   {
    "duration": 9,
    "start_time": "2021-10-13T20:34:41.609Z"
   },
   {
    "duration": 21,
    "start_time": "2021-10-13T20:34:54.217Z"
   },
   {
    "duration": 102,
    "start_time": "2021-10-13T20:40:55.003Z"
   },
   {
    "duration": 2172,
    "start_time": "2021-10-13T20:41:06.524Z"
   },
   {
    "duration": 7301,
    "start_time": "2021-10-13T20:41:37.964Z"
   },
   {
    "duration": 7655,
    "start_time": "2021-10-13T20:41:58.059Z"
   },
   {
    "duration": 9159,
    "start_time": "2021-10-13T20:42:24.767Z"
   },
   {
    "duration": 1881,
    "start_time": "2021-10-13T20:43:02.481Z"
   },
   {
    "duration": 109,
    "start_time": "2021-10-13T20:43:04.364Z"
   },
   {
    "duration": 21,
    "start_time": "2021-10-13T20:43:04.476Z"
   },
   {
    "duration": 16,
    "start_time": "2021-10-13T20:43:04.500Z"
   },
   {
    "duration": 31,
    "start_time": "2021-10-13T20:43:04.519Z"
   },
   {
    "duration": 54,
    "start_time": "2021-10-13T20:43:04.552Z"
   },
   {
    "duration": 8304,
    "start_time": "2021-10-13T20:43:04.608Z"
   },
   {
    "duration": 341,
    "start_time": "2021-10-13T20:46:27.920Z"
   },
   {
    "duration": 17,
    "start_time": "2021-10-13T20:46:37.104Z"
   },
   {
    "duration": 568,
    "start_time": "2021-10-13T20:52:23.554Z"
   },
   {
    "duration": 14,
    "start_time": "2021-10-13T20:52:35.457Z"
   },
   {
    "duration": 24,
    "start_time": "2021-10-13T20:56:50.202Z"
   },
   {
    "duration": 10,
    "start_time": "2021-10-13T20:58:36.846Z"
   },
   {
    "duration": 390,
    "start_time": "2021-10-13T21:01:15.931Z"
   },
   {
    "duration": 629,
    "start_time": "2021-10-13T21:03:01.418Z"
   },
   {
    "duration": 685,
    "start_time": "2021-10-13T21:04:58.776Z"
   },
   {
    "duration": 665,
    "start_time": "2021-10-13T21:05:36.875Z"
   },
   {
    "duration": 952,
    "start_time": "2021-10-13T21:08:40.140Z"
   },
   {
    "duration": 680,
    "start_time": "2021-10-13T21:08:50.924Z"
   },
   {
    "duration": 1025,
    "start_time": "2021-10-13T21:08:55.708Z"
   },
   {
    "duration": 670,
    "start_time": "2021-10-13T21:09:03.544Z"
   },
   {
    "duration": 687,
    "start_time": "2021-10-13T21:09:09.994Z"
   },
   {
    "duration": 933,
    "start_time": "2021-10-13T21:14:27.340Z"
   },
   {
    "duration": 5,
    "start_time": "2021-10-13T21:14:59.360Z"
   },
   {
    "duration": 583,
    "start_time": "2021-10-13T21:15:04.953Z"
   },
   {
    "duration": 796,
    "start_time": "2021-10-13T21:15:19.325Z"
   },
   {
    "duration": 742,
    "start_time": "2021-10-13T21:15:55.732Z"
   },
   {
    "duration": 868,
    "start_time": "2021-10-13T21:16:06.952Z"
   },
   {
    "duration": 845,
    "start_time": "2021-10-13T21:16:26.425Z"
   },
   {
    "duration": 866,
    "start_time": "2021-10-13T21:16:35.201Z"
   },
   {
    "duration": 18,
    "start_time": "2021-10-13T21:20:04.370Z"
   },
   {
    "duration": 949,
    "start_time": "2021-10-13T21:24:09.793Z"
   },
   {
    "duration": 958,
    "start_time": "2021-10-13T21:24:30.698Z"
   },
   {
    "duration": 814,
    "start_time": "2021-10-13T21:25:14.155Z"
   },
   {
    "duration": 374,
    "start_time": "2021-10-14T20:54:31.442Z"
   },
   {
    "duration": 1903,
    "start_time": "2021-10-14T20:54:38.485Z"
   },
   {
    "duration": 70,
    "start_time": "2021-10-14T20:54:40.392Z"
   },
   {
    "duration": 24,
    "start_time": "2021-10-14T20:54:40.467Z"
   },
   {
    "duration": 20,
    "start_time": "2021-10-14T20:54:40.495Z"
   },
   {
    "duration": 83,
    "start_time": "2021-10-14T20:54:40.518Z"
   },
   {
    "duration": 64,
    "start_time": "2021-10-14T20:54:40.605Z"
   },
   {
    "duration": 612,
    "start_time": "2021-10-14T20:54:40.673Z"
   },
   {
    "duration": 10,
    "start_time": "2021-10-14T20:54:41.288Z"
   },
   {
    "duration": 901,
    "start_time": "2021-10-14T20:54:41.301Z"
   },
   {
    "duration": 850,
    "start_time": "2021-10-14T20:54:42.205Z"
   },
   {
    "duration": 16,
    "start_time": "2021-10-14T20:54:50.109Z"
   },
   {
    "duration": 15,
    "start_time": "2021-10-14T20:58:37.838Z"
   },
   {
    "duration": 49,
    "start_time": "2021-10-14T21:01:01.819Z"
   },
   {
    "duration": 45,
    "start_time": "2021-10-14T21:03:02.029Z"
   },
   {
    "duration": 392,
    "start_time": "2021-10-14T21:05:08.821Z"
   },
   {
    "duration": 316,
    "start_time": "2021-10-14T21:06:02.462Z"
   },
   {
    "duration": 960,
    "start_time": "2021-10-14T21:06:27.507Z"
   },
   {
    "duration": 1079,
    "start_time": "2021-10-14T21:06:41.148Z"
   },
   {
    "duration": 674,
    "start_time": "2021-10-14T21:07:07.309Z"
   },
   {
    "duration": 1028,
    "start_time": "2021-10-14T21:08:45.043Z"
   },
   {
    "duration": 1044,
    "start_time": "2021-10-14T21:09:20.114Z"
   },
   {
    "duration": 935,
    "start_time": "2021-10-14T21:09:26.545Z"
   },
   {
    "duration": 960,
    "start_time": "2021-10-14T21:09:39.394Z"
   },
   {
    "duration": 1025,
    "start_time": "2021-10-14T21:09:48.431Z"
   },
   {
    "duration": 949,
    "start_time": "2021-10-14T21:09:56.407Z"
   },
   {
    "duration": 986,
    "start_time": "2021-10-14T21:10:09.764Z"
   },
   {
    "duration": 934,
    "start_time": "2021-10-14T21:10:53.939Z"
   },
   {
    "duration": 929,
    "start_time": "2021-10-14T21:25:14.143Z"
   },
   {
    "duration": 862,
    "start_time": "2021-10-14T21:30:48.151Z"
   },
   {
    "duration": 854,
    "start_time": "2021-10-14T21:45:50.430Z"
   },
   {
    "duration": 1030,
    "start_time": "2021-10-14T21:46:52.651Z"
   },
   {
    "duration": 909,
    "start_time": "2021-10-14T21:49:24.860Z"
   },
   {
    "duration": 909,
    "start_time": "2021-10-14T21:49:46.997Z"
   },
   {
    "duration": 183,
    "start_time": "2021-10-14T22:01:13.612Z"
   },
   {
    "duration": 545,
    "start_time": "2021-10-14T22:04:44.107Z"
   },
   {
    "duration": 586,
    "start_time": "2021-10-14T22:04:56.869Z"
   },
   {
    "duration": 588,
    "start_time": "2021-10-14T22:06:40.224Z"
   },
   {
    "duration": 613,
    "start_time": "2021-10-14T22:07:01.556Z"
   },
   {
    "duration": 588,
    "start_time": "2021-10-14T22:08:02.238Z"
   },
   {
    "duration": 618,
    "start_time": "2021-10-14T22:08:16.327Z"
   },
   {
    "duration": 802,
    "start_time": "2021-10-14T22:08:38.059Z"
   },
   {
    "duration": 1021,
    "start_time": "2021-10-14T22:08:58.191Z"
   },
   {
    "duration": 728,
    "start_time": "2021-10-14T22:09:13.739Z"
   },
   {
    "duration": 646,
    "start_time": "2021-10-14T22:09:26.131Z"
   },
   {
    "duration": 721,
    "start_time": "2021-10-14T22:10:08.866Z"
   },
   {
    "duration": 586,
    "start_time": "2021-10-14T22:10:14.038Z"
   },
   {
    "duration": 683,
    "start_time": "2021-10-14T22:10:19.142Z"
   },
   {
    "duration": 708,
    "start_time": "2021-10-14T22:10:29.424Z"
   },
   {
    "duration": 606,
    "start_time": "2021-10-14T22:11:11.537Z"
   },
   {
    "duration": 617,
    "start_time": "2021-10-14T22:11:51.042Z"
   },
   {
    "duration": 616,
    "start_time": "2021-10-14T22:11:56.325Z"
   },
   {
    "duration": 542,
    "start_time": "2021-10-14T22:12:18.217Z"
   },
   {
    "duration": 573,
    "start_time": "2021-10-14T22:12:24.754Z"
   },
   {
    "duration": 567,
    "start_time": "2021-10-14T22:14:00.097Z"
   },
   {
    "duration": 581,
    "start_time": "2021-10-14T22:14:16.279Z"
   },
   {
    "duration": 603,
    "start_time": "2021-10-14T22:15:33.753Z"
   },
   {
    "duration": 822,
    "start_time": "2021-10-14T22:16:06.202Z"
   },
   {
    "duration": 618,
    "start_time": "2021-10-14T22:16:19.238Z"
   },
   {
    "duration": 267,
    "start_time": "2021-10-14T22:34:16.464Z"
   },
   {
    "duration": 253,
    "start_time": "2021-10-14T22:35:47.359Z"
   },
   {
    "duration": 574,
    "start_time": "2021-10-14T22:36:18.648Z"
   },
   {
    "duration": 8,
    "start_time": "2021-10-14T22:37:01.157Z"
   },
   {
    "duration": 8,
    "start_time": "2021-10-14T22:37:11.875Z"
   },
   {
    "duration": 8,
    "start_time": "2021-10-14T22:37:16.481Z"
   },
   {
    "duration": 8,
    "start_time": "2021-10-14T22:37:32.072Z"
   },
   {
    "duration": 104,
    "start_time": "2021-10-14T22:38:16.856Z"
   },
   {
    "duration": 84,
    "start_time": "2021-10-14T22:38:46.068Z"
   },
   {
    "duration": 386,
    "start_time": "2021-10-14T22:39:08.739Z"
   },
   {
    "duration": 8,
    "start_time": "2021-10-14T22:39:48.635Z"
   },
   {
    "duration": 7,
    "start_time": "2021-10-14T22:39:52.643Z"
   },
   {
    "duration": 5,
    "start_time": "2021-10-14T22:40:06.143Z"
   },
   {
    "duration": 6,
    "start_time": "2021-10-14T22:40:31.337Z"
   },
   {
    "duration": 6,
    "start_time": "2021-10-14T22:40:38.081Z"
   },
   {
    "duration": 480,
    "start_time": "2021-10-14T22:40:57.887Z"
   },
   {
    "duration": 250,
    "start_time": "2021-10-14T22:41:15.824Z"
   },
   {
    "duration": 84,
    "start_time": "2021-10-14T22:41:38.010Z"
   },
   {
    "duration": 85,
    "start_time": "2021-10-14T22:41:43.451Z"
   },
   {
    "duration": 7,
    "start_time": "2021-10-14T22:42:59.747Z"
   },
   {
    "duration": 10,
    "start_time": "2021-10-14T22:43:40.059Z"
   },
   {
    "duration": 257,
    "start_time": "2021-10-14T22:44:00.223Z"
   },
   {
    "duration": 10,
    "start_time": "2021-10-14T22:44:10.490Z"
   },
   {
    "duration": 11,
    "start_time": "2021-10-14T22:44:19.012Z"
   },
   {
    "duration": 7,
    "start_time": "2021-10-14T22:44:34.046Z"
   },
   {
    "duration": 7,
    "start_time": "2021-10-14T22:44:56.841Z"
   },
   {
    "duration": 356,
    "start_time": "2021-10-14T22:53:52.399Z"
   },
   {
    "duration": 432,
    "start_time": "2021-10-14T22:54:15.545Z"
   },
   {
    "duration": 425,
    "start_time": "2021-10-14T22:54:55.374Z"
   },
   {
    "duration": 456,
    "start_time": "2021-10-14T22:55:31.304Z"
   },
   {
    "duration": 439,
    "start_time": "2021-10-14T22:55:41.783Z"
   },
   {
    "duration": 620,
    "start_time": "2021-10-14T22:57:41.509Z"
   },
   {
    "duration": 467,
    "start_time": "2021-10-14T22:57:59.958Z"
   },
   {
    "duration": 480,
    "start_time": "2021-10-14T22:58:19.951Z"
   },
   {
    "duration": 468,
    "start_time": "2021-10-14T22:58:26.455Z"
   },
   {
    "duration": 435,
    "start_time": "2021-10-14T22:58:42.083Z"
   },
   {
    "duration": 474,
    "start_time": "2021-10-14T22:59:20.356Z"
   },
   {
    "duration": 485,
    "start_time": "2021-10-14T23:03:09.608Z"
   },
   {
    "duration": 7,
    "start_time": "2021-10-14T23:06:21.437Z"
   },
   {
    "duration": 6,
    "start_time": "2021-10-14T23:06:57.659Z"
   },
   {
    "duration": 6,
    "start_time": "2021-10-14T23:08:40.796Z"
   },
   {
    "duration": 7,
    "start_time": "2021-10-14T23:10:19.964Z"
   },
   {
    "duration": 210,
    "start_time": "2021-10-15T20:58:48.924Z"
   },
   {
    "duration": 1289,
    "start_time": "2021-10-15T20:58:55.224Z"
   },
   {
    "duration": 69,
    "start_time": "2021-10-15T20:58:56.514Z"
   },
   {
    "duration": 14,
    "start_time": "2021-10-15T20:58:56.585Z"
   },
   {
    "duration": 10,
    "start_time": "2021-10-15T20:58:56.600Z"
   },
   {
    "duration": 19,
    "start_time": "2021-10-15T20:58:56.612Z"
   },
   {
    "duration": 6,
    "start_time": "2021-10-15T20:58:56.632Z"
   },
   {
    "duration": 352,
    "start_time": "2021-10-15T20:58:56.639Z"
   },
   {
    "duration": 5,
    "start_time": "2021-10-15T20:58:56.994Z"
   },
   {
    "duration": 528,
    "start_time": "2021-10-15T20:58:57.001Z"
   },
   {
    "duration": 474,
    "start_time": "2021-10-15T20:58:57.531Z"
   },
   {
    "duration": 621,
    "start_time": "2021-10-15T20:58:58.006Z"
   },
   {
    "duration": 497,
    "start_time": "2021-10-15T20:58:58.629Z"
   },
   {
    "duration": 607,
    "start_time": "2021-10-15T20:58:59.127Z"
   },
   {
    "duration": 366,
    "start_time": "2021-10-15T20:58:59.736Z"
   },
   {
    "duration": 4,
    "start_time": "2021-10-15T20:59:00.104Z"
   },
   {
    "duration": 410,
    "start_time": "2021-10-15T20:59:00.110Z"
   },
   {
    "duration": 5,
    "start_time": "2021-10-15T20:59:00.521Z"
   },
   {
    "duration": 251,
    "start_time": "2021-10-15T20:59:00.527Z"
   },
   {
    "duration": 12,
    "start_time": "2021-10-15T20:59:08.219Z"
   },
   {
    "duration": 248,
    "start_time": "2021-10-15T21:03:12.928Z"
   },
   {
    "duration": 14,
    "start_time": "2021-10-15T21:23:12.741Z"
   },
   {
    "duration": 19,
    "start_time": "2021-10-15T21:23:26.492Z"
   },
   {
    "duration": 18,
    "start_time": "2021-10-15T21:26:41.064Z"
   },
   {
    "duration": 195,
    "start_time": "2021-10-15T21:32:37.721Z"
   },
   {
    "duration": 21,
    "start_time": "2021-10-15T21:33:20.225Z"
   },
   {
    "duration": 20,
    "start_time": "2021-10-15T21:34:03.595Z"
   },
   {
    "duration": 22,
    "start_time": "2021-10-15T21:35:07.730Z"
   },
   {
    "duration": 8,
    "start_time": "2021-10-15T21:38:19.078Z"
   },
   {
    "duration": 41,
    "start_time": "2021-10-15T21:39:25.079Z"
   },
   {
    "duration": 40,
    "start_time": "2021-10-15T21:43:13.324Z"
   },
   {
    "duration": 39,
    "start_time": "2021-10-15T21:44:03.653Z"
   },
   {
    "duration": 42,
    "start_time": "2021-10-15T21:44:22.861Z"
   },
   {
    "duration": 39,
    "start_time": "2021-10-15T21:44:27.541Z"
   },
   {
    "duration": 38,
    "start_time": "2021-10-15T21:44:31.127Z"
   },
   {
    "duration": 39,
    "start_time": "2021-10-15T21:44:33.182Z"
   },
   {
    "duration": 38,
    "start_time": "2021-10-15T21:44:34.984Z"
   },
   {
    "duration": 41,
    "start_time": "2021-10-15T21:44:36.803Z"
   },
   {
    "duration": 43,
    "start_time": "2021-10-15T21:44:38.581Z"
   },
   {
    "duration": 42,
    "start_time": "2021-10-15T21:44:40.739Z"
   },
   {
    "duration": 40,
    "start_time": "2021-10-15T21:44:49.654Z"
   },
   {
    "duration": 45,
    "start_time": "2021-10-15T21:45:31.847Z"
   },
   {
    "duration": 44,
    "start_time": "2021-10-15T21:46:30.700Z"
   },
   {
    "duration": 5334,
    "start_time": "2021-10-15T21:50:38.339Z"
   },
   {
    "duration": 43,
    "start_time": "2021-10-15T21:51:20.958Z"
   },
   {
    "duration": 40,
    "start_time": "2021-10-15T21:54:43.885Z"
   },
   {
    "duration": 39,
    "start_time": "2021-10-15T21:54:53.063Z"
   },
   {
    "duration": 211,
    "start_time": "2021-10-15T21:55:14.177Z"
   },
   {
    "duration": 42,
    "start_time": "2021-10-15T21:56:14.756Z"
   },
   {
    "duration": 43,
    "start_time": "2021-10-15T21:56:33.293Z"
   },
   {
    "duration": 44,
    "start_time": "2021-10-15T21:56:44.364Z"
   },
   {
    "duration": 9,
    "start_time": "2021-10-15T22:18:48.472Z"
   },
   {
    "duration": 672,
    "start_time": "2021-10-15T22:21:29.040Z"
   },
   {
    "duration": 3,
    "start_time": "2021-10-15T22:22:12.662Z"
   },
   {
    "duration": 117,
    "start_time": "2021-10-15T22:22:24.474Z"
   },
   {
    "duration": 186,
    "start_time": "2021-10-15T22:27:03.560Z"
   },
   {
    "duration": 7,
    "start_time": "2021-10-15T22:27:10.145Z"
   },
   {
    "duration": 7,
    "start_time": "2021-10-15T22:27:57.104Z"
   },
   {
    "duration": 185,
    "start_time": "2021-10-15T22:28:48.634Z"
   },
   {
    "duration": 13,
    "start_time": "2021-10-15T22:29:13.951Z"
   },
   {
    "duration": 7,
    "start_time": "2021-10-15T22:38:51.563Z"
   },
   {
    "duration": 64,
    "start_time": "2021-10-15T22:54:20.275Z"
   },
   {
    "duration": 64,
    "start_time": "2021-10-15T22:54:27.621Z"
   },
   {
    "duration": 523,
    "start_time": "2021-10-15T22:54:39.598Z"
   },
   {
    "duration": 460,
    "start_time": "2021-10-15T22:55:51.004Z"
   },
   {
    "duration": 116,
    "start_time": "2021-10-15T22:56:17.814Z"
   },
   {
    "duration": 117,
    "start_time": "2021-10-15T22:56:27.227Z"
   },
   {
    "duration": 444,
    "start_time": "2021-10-15T22:56:40.796Z"
   },
   {
    "duration": 108,
    "start_time": "2021-10-15T22:56:51.454Z"
   },
   {
    "duration": 109,
    "start_time": "2021-10-15T22:57:07.859Z"
   },
   {
    "duration": 122,
    "start_time": "2021-10-15T22:57:29.082Z"
   },
   {
    "duration": 118,
    "start_time": "2021-10-15T23:02:20.355Z"
   },
   {
    "duration": 108,
    "start_time": "2021-10-15T23:02:41.839Z"
   },
   {
    "duration": 7,
    "start_time": "2021-10-15T23:16:31.311Z"
   },
   {
    "duration": 7,
    "start_time": "2021-10-15T23:19:58.361Z"
   },
   {
    "duration": 1421,
    "start_time": "2021-10-16T17:02:25.522Z"
   },
   {
    "duration": 72,
    "start_time": "2021-10-16T17:02:26.945Z"
   },
   {
    "duration": 12,
    "start_time": "2021-10-16T17:02:27.019Z"
   },
   {
    "duration": 10,
    "start_time": "2021-10-16T17:02:27.033Z"
   },
   {
    "duration": 20,
    "start_time": "2021-10-16T17:02:27.045Z"
   },
   {
    "duration": 5,
    "start_time": "2021-10-16T17:02:27.077Z"
   },
   {
    "duration": 349,
    "start_time": "2021-10-16T17:02:27.084Z"
   },
   {
    "duration": 6,
    "start_time": "2021-10-16T17:02:27.435Z"
   },
   {
    "duration": 506,
    "start_time": "2021-10-16T17:02:27.444Z"
   },
   {
    "duration": 477,
    "start_time": "2021-10-16T17:02:27.952Z"
   },
   {
    "duration": 620,
    "start_time": "2021-10-16T17:02:28.430Z"
   },
   {
    "duration": 491,
    "start_time": "2021-10-16T17:02:29.052Z"
   },
   {
    "duration": 612,
    "start_time": "2021-10-16T17:02:29.545Z"
   },
   {
    "duration": 524,
    "start_time": "2021-10-16T17:02:30.159Z"
   },
   {
    "duration": 4,
    "start_time": "2021-10-16T17:02:30.685Z"
   },
   {
    "duration": 327,
    "start_time": "2021-10-16T17:02:30.690Z"
   },
   {
    "duration": 4,
    "start_time": "2021-10-16T17:02:31.019Z"
   },
   {
    "duration": 277,
    "start_time": "2021-10-16T17:02:31.024Z"
   },
   {
    "duration": 52,
    "start_time": "2021-10-16T17:02:31.303Z"
   },
   {
    "duration": 125,
    "start_time": "2021-10-16T17:02:31.377Z"
   },
   {
    "duration": 6,
    "start_time": "2021-10-16T17:04:57.660Z"
   },
   {
    "duration": 475,
    "start_time": "2021-10-16T17:08:37.017Z"
   },
   {
    "duration": 8,
    "start_time": "2021-10-16T17:08:59.029Z"
   },
   {
    "duration": 4,
    "start_time": "2021-10-16T17:14:53.649Z"
   },
   {
    "duration": 5,
    "start_time": "2021-10-16T17:15:08.645Z"
   },
   {
    "duration": 9,
    "start_time": "2021-10-16T17:21:15.604Z"
   },
   {
    "duration": 119,
    "start_time": "2021-10-16T17:23:04.454Z"
   },
   {
    "duration": 8,
    "start_time": "2021-10-16T17:23:09.017Z"
   },
   {
    "duration": 9,
    "start_time": "2021-10-16T17:23:57.699Z"
   },
   {
    "duration": 8,
    "start_time": "2021-10-16T17:24:02.564Z"
   },
   {
    "duration": 8,
    "start_time": "2021-10-16T17:24:09.640Z"
   },
   {
    "duration": 14,
    "start_time": "2021-10-16T17:28:52.679Z"
   },
   {
    "duration": 5,
    "start_time": "2021-10-16T17:33:57.965Z"
   },
   {
    "duration": 10,
    "start_time": "2021-10-16T19:00:59.669Z"
   },
   {
    "duration": 13,
    "start_time": "2021-10-16T19:05:42.923Z"
   },
   {
    "duration": 17,
    "start_time": "2021-10-16T19:06:43.854Z"
   },
   {
    "duration": 1608,
    "start_time": "2021-10-16T20:28:52.850Z"
   },
   {
    "duration": 82,
    "start_time": "2021-10-16T20:28:54.460Z"
   },
   {
    "duration": 13,
    "start_time": "2021-10-16T20:28:54.544Z"
   },
   {
    "duration": 11,
    "start_time": "2021-10-16T20:28:54.559Z"
   },
   {
    "duration": 21,
    "start_time": "2021-10-16T20:28:54.571Z"
   },
   {
    "duration": 6,
    "start_time": "2021-10-16T20:28:54.594Z"
   },
   {
    "duration": 363,
    "start_time": "2021-10-16T20:28:54.601Z"
   },
   {
    "duration": 6,
    "start_time": "2021-10-16T20:28:54.965Z"
   },
   {
    "duration": 495,
    "start_time": "2021-10-16T20:28:54.978Z"
   },
   {
    "duration": 474,
    "start_time": "2021-10-16T20:28:55.475Z"
   },
   {
    "duration": 575,
    "start_time": "2021-10-16T20:28:55.951Z"
   },
   {
    "duration": 487,
    "start_time": "2021-10-16T20:28:56.527Z"
   },
   {
    "duration": 581,
    "start_time": "2021-10-16T20:28:57.020Z"
   },
   {
    "duration": 455,
    "start_time": "2021-10-16T20:28:57.603Z"
   },
   {
    "duration": 3,
    "start_time": "2021-10-16T20:28:58.060Z"
   },
   {
    "duration": 325,
    "start_time": "2021-10-16T20:28:58.065Z"
   },
   {
    "duration": 4,
    "start_time": "2021-10-16T20:28:58.392Z"
   },
   {
    "duration": 274,
    "start_time": "2021-10-16T20:28:58.397Z"
   },
   {
    "duration": 43,
    "start_time": "2021-10-16T20:28:58.676Z"
   },
   {
    "duration": 119,
    "start_time": "2021-10-16T20:28:58.720Z"
   },
   {
    "duration": 5,
    "start_time": "2021-10-16T20:28:58.841Z"
   },
   {
    "duration": 40,
    "start_time": "2021-10-16T20:28:58.847Z"
   },
   {
    "duration": 56,
    "start_time": "2021-10-16T20:28:58.889Z"
   },
   {
    "duration": 43,
    "start_time": "2021-10-16T20:28:58.947Z"
   },
   {
    "duration": 1075,
    "start_time": "2021-10-16T20:44:30.926Z"
   },
   {
    "duration": 84,
    "start_time": "2021-10-16T20:44:32.003Z"
   },
   {
    "duration": 14,
    "start_time": "2021-10-16T20:44:32.089Z"
   },
   {
    "duration": 12,
    "start_time": "2021-10-16T20:44:32.105Z"
   },
   {
    "duration": 27,
    "start_time": "2021-10-16T20:44:32.118Z"
   },
   {
    "duration": 33,
    "start_time": "2021-10-16T20:44:32.147Z"
   },
   {
    "duration": 335,
    "start_time": "2021-10-16T20:44:32.181Z"
   },
   {
    "duration": 6,
    "start_time": "2021-10-16T20:44:32.517Z"
   },
   {
    "duration": 495,
    "start_time": "2021-10-16T20:44:32.525Z"
   },
   {
    "duration": 477,
    "start_time": "2021-10-16T20:44:33.023Z"
   },
   {
    "duration": 599,
    "start_time": "2021-10-16T20:44:33.503Z"
   },
   {
    "duration": 602,
    "start_time": "2021-10-16T20:44:34.105Z"
   },
   {
    "duration": 590,
    "start_time": "2021-10-16T20:44:34.709Z"
   },
   {
    "duration": 452,
    "start_time": "2021-10-16T20:44:35.301Z"
   },
   {
    "duration": 5,
    "start_time": "2021-10-16T20:44:35.755Z"
   },
   {
    "duration": 328,
    "start_time": "2021-10-16T20:44:35.762Z"
   },
   {
    "duration": 6,
    "start_time": "2021-10-16T20:44:36.092Z"
   },
   {
    "duration": 272,
    "start_time": "2021-10-16T20:44:36.100Z"
   },
   {
    "duration": 48,
    "start_time": "2021-10-16T20:44:36.376Z"
   },
   {
    "duration": 132,
    "start_time": "2021-10-16T20:44:36.427Z"
   },
   {
    "duration": 7,
    "start_time": "2021-10-16T20:44:36.561Z"
   },
   {
    "duration": 10,
    "start_time": "2021-10-16T20:44:36.577Z"
   },
   {
    "duration": 15,
    "start_time": "2021-10-16T20:44:36.589Z"
   },
   {
    "duration": 16,
    "start_time": "2021-10-16T20:44:36.606Z"
   },
   {
    "duration": 1106,
    "start_time": "2021-10-17T10:38:55.785Z"
   },
   {
    "duration": 82,
    "start_time": "2021-10-17T10:38:56.893Z"
   },
   {
    "duration": 12,
    "start_time": "2021-10-17T10:38:56.977Z"
   },
   {
    "duration": 10,
    "start_time": "2021-10-17T10:38:56.991Z"
   },
   {
    "duration": 22,
    "start_time": "2021-10-17T10:38:57.002Z"
   },
   {
    "duration": 5,
    "start_time": "2021-10-17T10:38:57.025Z"
   },
   {
    "duration": 356,
    "start_time": "2021-10-17T10:38:57.032Z"
   },
   {
    "duration": 6,
    "start_time": "2021-10-17T10:38:57.390Z"
   },
   {
    "duration": 496,
    "start_time": "2021-10-17T10:38:57.398Z"
   },
   {
    "duration": 473,
    "start_time": "2021-10-17T10:38:57.895Z"
   },
   {
    "duration": 568,
    "start_time": "2021-10-17T10:38:58.370Z"
   },
   {
    "duration": 496,
    "start_time": "2021-10-17T10:38:58.940Z"
   },
   {
    "duration": 557,
    "start_time": "2021-10-17T10:38:59.438Z"
   },
   {
    "duration": 463,
    "start_time": "2021-10-17T10:38:59.996Z"
   },
   {
    "duration": 17,
    "start_time": "2021-10-17T10:39:00.461Z"
   },
   {
    "duration": 333,
    "start_time": "2021-10-17T10:39:00.480Z"
   },
   {
    "duration": 5,
    "start_time": "2021-10-17T10:39:00.814Z"
   },
   {
    "duration": 270,
    "start_time": "2021-10-17T10:39:00.821Z"
   },
   {
    "duration": 47,
    "start_time": "2021-10-17T10:39:01.093Z"
   },
   {
    "duration": 147,
    "start_time": "2021-10-17T10:39:01.142Z"
   },
   {
    "duration": 5,
    "start_time": "2021-10-17T10:39:01.291Z"
   },
   {
    "duration": 10,
    "start_time": "2021-10-17T10:39:01.298Z"
   },
   {
    "duration": 20,
    "start_time": "2021-10-17T10:39:01.310Z"
   },
   {
    "duration": 14,
    "start_time": "2021-10-17T10:39:01.333Z"
   },
   {
    "duration": 15,
    "start_time": "2021-10-17T10:52:00.643Z"
   },
   {
    "duration": 15,
    "start_time": "2021-10-17T10:59:04.866Z"
   },
   {
    "duration": 3,
    "start_time": "2021-10-17T11:00:46.215Z"
   },
   {
    "duration": 12,
    "start_time": "2021-10-17T11:00:53.388Z"
   },
   {
    "duration": 8893,
    "start_time": "2021-10-17T11:01:15.975Z"
   },
   {
    "duration": 7,
    "start_time": "2021-10-17T11:01:25.494Z"
   },
   {
    "duration": 6,
    "start_time": "2021-10-17T11:01:51.896Z"
   },
   {
    "duration": 6,
    "start_time": "2021-10-17T11:02:06.841Z"
   },
   {
    "duration": 6,
    "start_time": "2021-10-17T11:02:36.750Z"
   },
   {
    "duration": 8,
    "start_time": "2021-10-17T11:02:57.870Z"
   },
   {
    "duration": 41,
    "start_time": "2021-10-17T11:05:40.773Z"
   },
   {
    "duration": 4,
    "start_time": "2021-10-17T11:07:16.594Z"
   },
   {
    "duration": 98,
    "start_time": "2021-10-17T21:00:37.225Z"
   },
   {
    "duration": 1368,
    "start_time": "2021-10-17T21:02:28.181Z"
   },
   {
    "duration": 68,
    "start_time": "2021-10-17T21:02:29.552Z"
   },
   {
    "duration": 19,
    "start_time": "2021-10-17T21:02:29.623Z"
   },
   {
    "duration": 15,
    "start_time": "2021-10-17T21:02:29.645Z"
   },
   {
    "duration": 16,
    "start_time": "2021-10-17T21:14:20.942Z"
   },
   {
    "duration": 17,
    "start_time": "2021-10-17T21:15:42.144Z"
   },
   {
    "duration": 15,
    "start_time": "2021-10-17T21:16:07.246Z"
   },
   {
    "duration": 16,
    "start_time": "2021-10-17T21:18:42.952Z"
   },
   {
    "duration": 15,
    "start_time": "2021-10-17T21:19:47.973Z"
   },
   {
    "duration": 15,
    "start_time": "2021-10-17T21:20:00.745Z"
   },
   {
    "duration": 15,
    "start_time": "2021-10-17T21:20:57.851Z"
   },
   {
    "duration": 31,
    "start_time": "2021-10-17T21:21:31.344Z"
   },
   {
    "duration": 88,
    "start_time": "2021-10-17T21:30:08.355Z"
   },
   {
    "duration": 97,
    "start_time": "2021-10-17T21:30:16.744Z"
   },
   {
    "duration": 27,
    "start_time": "2021-10-17T21:30:24.945Z"
   },
   {
    "duration": 31,
    "start_time": "2021-10-17T21:36:53.819Z"
   },
   {
    "duration": 30,
    "start_time": "2021-10-17T21:37:18.064Z"
   },
   {
    "duration": 29,
    "start_time": "2021-10-17T21:37:24.768Z"
   },
   {
    "duration": 431,
    "start_time": "2021-10-17T21:55:11.889Z"
   },
   {
    "duration": 1151,
    "start_time": "2021-10-17T21:55:39.778Z"
   },
   {
    "duration": 603,
    "start_time": "2021-10-17T22:03:49.685Z"
   },
   {
    "duration": 411,
    "start_time": "2021-10-17T22:03:59.363Z"
   },
   {
    "duration": 6,
    "start_time": "2021-10-17T22:15:49.175Z"
   },
   {
    "duration": 17,
    "start_time": "2021-10-17T22:15:54.861Z"
   },
   {
    "duration": 19,
    "start_time": "2021-10-17T22:16:50.990Z"
   },
   {
    "duration": 18,
    "start_time": "2021-10-17T22:18:33.494Z"
   },
   {
    "duration": 17,
    "start_time": "2021-10-17T22:19:01.829Z"
   },
   {
    "duration": 1839,
    "start_time": "2021-10-17T22:19:37.653Z"
   },
   {
    "duration": 68,
    "start_time": "2021-10-17T22:19:39.495Z"
   },
   {
    "duration": 23,
    "start_time": "2021-10-17T22:19:39.566Z"
   },
   {
    "duration": 19,
    "start_time": "2021-10-17T22:19:39.592Z"
   },
   {
    "duration": 27,
    "start_time": "2021-10-17T22:19:39.614Z"
   },
   {
    "duration": 16,
    "start_time": "2021-10-17T22:19:49.071Z"
   },
   {
    "duration": 16,
    "start_time": "2021-10-17T22:21:24.461Z"
   },
   {
    "duration": 22,
    "start_time": "2021-10-17T22:22:07.666Z"
   },
   {
    "duration": 789,
    "start_time": "2021-10-17T22:28:40.103Z"
   },
   {
    "duration": 708,
    "start_time": "2021-10-17T22:29:14.650Z"
   },
   {
    "duration": 327,
    "start_time": "2021-10-17T22:30:02.920Z"
   },
   {
    "duration": 13,
    "start_time": "2021-10-17T22:32:31.131Z"
   },
   {
    "duration": 185,
    "start_time": "2021-10-17T22:34:47.423Z"
   },
   {
    "duration": 323,
    "start_time": "2021-10-17T22:36:38.405Z"
   },
   {
    "duration": 173,
    "start_time": "2021-10-17T22:36:55.259Z"
   },
   {
    "duration": 170,
    "start_time": "2021-10-17T22:38:38.855Z"
   },
   {
    "duration": 425,
    "start_time": "2021-10-17T22:44:18.052Z"
   },
   {
    "duration": 20,
    "start_time": "2021-10-17T22:44:52.398Z"
   },
   {
    "duration": 459,
    "start_time": "2021-10-17T22:45:12.812Z"
   },
   {
    "duration": 264,
    "start_time": "2021-10-17T22:45:54.336Z"
   },
   {
    "duration": 590,
    "start_time": "2021-10-17T22:46:20.617Z"
   },
   {
    "duration": 249,
    "start_time": "2021-10-17T22:46:40.624Z"
   },
   {
    "duration": 98,
    "start_time": "2021-10-17T22:50:24.701Z"
   },
   {
    "duration": 94,
    "start_time": "2021-10-17T22:50:42.950Z"
   },
   {
    "duration": 173,
    "start_time": "2021-10-17T22:51:15.224Z"
   },
   {
    "duration": 327,
    "start_time": "2021-10-17T22:53:46.898Z"
   },
   {
    "duration": 446,
    "start_time": "2021-10-17T22:59:06.529Z"
   },
   {
    "duration": 176,
    "start_time": "2021-10-17T22:59:29.310Z"
   },
   {
    "duration": 171,
    "start_time": "2021-10-17T22:59:40.130Z"
   },
   {
    "duration": 333,
    "start_time": "2021-10-17T23:00:45.057Z"
   },
   {
    "duration": 185,
    "start_time": "2021-10-17T23:01:14.584Z"
   },
   {
    "duration": 316,
    "start_time": "2021-10-17T23:02:11.079Z"
   },
   {
    "duration": 311,
    "start_time": "2021-10-17T23:02:46.781Z"
   },
   {
    "duration": 425,
    "start_time": "2021-10-17T23:04:10.926Z"
   },
   {
    "duration": 458,
    "start_time": "2021-10-17T23:04:30.294Z"
   },
   {
    "duration": 98,
    "start_time": "2021-10-17T23:06:45.370Z"
   },
   {
    "duration": 444,
    "start_time": "2021-10-17T23:06:55.573Z"
   },
   {
    "duration": 181,
    "start_time": "2021-10-17T23:07:32.541Z"
   },
   {
    "duration": 319,
    "start_time": "2021-10-17T23:08:10.816Z"
   },
   {
    "duration": 105,
    "start_time": "2021-10-17T23:09:31.460Z"
   },
   {
    "duration": 13,
    "start_time": "2021-10-17T23:11:35.589Z"
   },
   {
    "duration": 11,
    "start_time": "2021-10-17T23:12:58.208Z"
   },
   {
    "duration": 2212,
    "start_time": "2021-10-17T23:15:46.147Z"
   },
   {
    "duration": 276,
    "start_time": "2021-10-17T23:17:00.349Z"
   },
   {
    "duration": 11,
    "start_time": "2021-10-17T23:17:04.559Z"
   },
   {
    "duration": 6813,
    "start_time": "2021-10-17T23:17:54.342Z"
   },
   {
    "duration": 11,
    "start_time": "2021-10-17T23:18:07.635Z"
   },
   {
    "duration": 7,
    "start_time": "2021-10-17T23:19:06.323Z"
   },
   {
    "duration": 12,
    "start_time": "2021-10-17T23:20:57.681Z"
   },
   {
    "duration": 15,
    "start_time": "2021-10-17T23:21:04.093Z"
   },
   {
    "duration": 7,
    "start_time": "2021-10-17T23:21:28.533Z"
   },
   {
    "duration": 279,
    "start_time": "2021-10-17T23:23:11.621Z"
   },
   {
    "duration": 12,
    "start_time": "2021-10-17T23:23:25.554Z"
   },
   {
    "duration": 10,
    "start_time": "2021-10-17T23:24:00.786Z"
   },
   {
    "duration": 12,
    "start_time": "2021-10-17T23:24:20.907Z"
   },
   {
    "duration": 13,
    "start_time": "2021-10-17T23:29:21.839Z"
   },
   {
    "duration": 7,
    "start_time": "2021-10-17T23:29:37.534Z"
   },
   {
    "duration": 11,
    "start_time": "2021-10-17T23:29:47.283Z"
   },
   {
    "duration": 10,
    "start_time": "2021-10-17T23:29:55.758Z"
   },
   {
    "duration": 16,
    "start_time": "2021-10-17T23:30:18.118Z"
   },
   {
    "duration": 302,
    "start_time": "2021-10-17T23:33:28.784Z"
   },
   {
    "duration": 12,
    "start_time": "2021-10-17T23:35:17.850Z"
   },
   {
    "duration": 23,
    "start_time": "2021-10-17T23:35:25.709Z"
   },
   {
    "duration": 28,
    "start_time": "2021-10-17T23:40:05.049Z"
   },
   {
    "duration": 6287,
    "start_time": "2021-10-17T23:40:27.422Z"
   },
   {
    "duration": 25,
    "start_time": "2021-10-17T23:40:40.042Z"
   },
   {
    "duration": 32,
    "start_time": "2021-10-17T23:41:29.727Z"
   },
   {
    "duration": 23,
    "start_time": "2021-10-17T23:50:18.315Z"
   },
   {
    "duration": 93,
    "start_time": "2021-10-17T23:52:36.784Z"
   },
   {
    "duration": 10,
    "start_time": "2021-10-17T23:52:47.750Z"
   },
   {
    "duration": 17,
    "start_time": "2021-10-17T23:52:57.494Z"
   },
   {
    "duration": 2053,
    "start_time": "2021-10-17T23:53:29.819Z"
   },
   {
    "duration": 9,
    "start_time": "2021-10-17T23:53:51.881Z"
   },
   {
    "duration": 6324,
    "start_time": "2021-10-17T23:55:22.296Z"
   },
   {
    "duration": 6407,
    "start_time": "2021-10-17T23:56:23.790Z"
   },
   {
    "duration": 6,
    "start_time": "2021-10-17T23:58:40.803Z"
   },
   {
    "duration": 4,
    "start_time": "2021-10-17T23:59:14.449Z"
   },
   {
    "duration": 67,
    "start_time": "2021-10-17T23:59:14.456Z"
   },
   {
    "duration": 15,
    "start_time": "2021-10-17T23:59:14.527Z"
   },
   {
    "duration": 17,
    "start_time": "2021-10-17T23:59:14.546Z"
   },
   {
    "duration": 31,
    "start_time": "2021-10-17T23:59:14.565Z"
   },
   {
    "duration": 21,
    "start_time": "2021-10-17T23:59:14.598Z"
   },
   {
    "duration": 223,
    "start_time": "2021-10-17T23:59:14.621Z"
   },
   {
    "duration": 50,
    "start_time": "2021-10-17T23:59:14.848Z"
   },
   {
    "duration": 8,
    "start_time": "2021-10-17T23:59:14.902Z"
   },
   {
    "duration": 16,
    "start_time": "2021-10-17T23:59:14.913Z"
   },
   {
    "duration": 53,
    "start_time": "2021-10-17T23:59:14.932Z"
   },
   {
    "duration": 6,
    "start_time": "2021-10-17T23:59:14.988Z"
   },
   {
    "duration": 26,
    "start_time": "2021-10-17T23:59:14.998Z"
   },
   {
    "duration": 574,
    "start_time": "2021-10-17T23:59:15.026Z"
   },
   {
    "duration": 11,
    "start_time": "2021-10-17T23:59:15.602Z"
   },
   {
    "duration": 804,
    "start_time": "2021-10-17T23:59:15.616Z"
   },
   {
    "duration": 774,
    "start_time": "2021-10-17T23:59:16.423Z"
   },
   {
    "duration": 868,
    "start_time": "2021-10-17T23:59:17.199Z"
   },
   {
    "duration": 800,
    "start_time": "2021-10-17T23:59:18.070Z"
   },
   {
    "duration": 878,
    "start_time": "2021-10-17T23:59:18.873Z"
   },
   {
    "duration": 625,
    "start_time": "2021-10-17T23:59:19.753Z"
   },
   {
    "duration": 7,
    "start_time": "2021-10-17T23:59:20.382Z"
   },
   {
    "duration": 423,
    "start_time": "2021-10-17T23:59:20.395Z"
   },
   {
    "duration": 8,
    "start_time": "2021-10-17T23:59:20.822Z"
   },
   {
    "duration": 438,
    "start_time": "2021-10-17T23:59:20.833Z"
   },
   {
    "duration": 81,
    "start_time": "2021-10-17T23:59:21.274Z"
   },
   {
    "duration": 277,
    "start_time": "2021-10-17T23:59:21.357Z"
   },
   {
    "duration": 9,
    "start_time": "2021-10-17T23:59:21.637Z"
   },
   {
    "duration": 36,
    "start_time": "2021-10-17T23:59:21.648Z"
   },
   {
    "duration": 24,
    "start_time": "2021-10-17T23:59:21.687Z"
   },
   {
    "duration": 25,
    "start_time": "2021-10-17T23:59:21.714Z"
   },
   {
    "duration": 84,
    "start_time": "2021-10-18T00:10:22.908Z"
   },
   {
    "duration": 9,
    "start_time": "2021-10-18T00:11:15.109Z"
   },
   {
    "duration": 98,
    "start_time": "2021-10-18T00:12:53.589Z"
   },
   {
    "duration": 13,
    "start_time": "2021-10-18T00:13:00.300Z"
   },
   {
    "duration": 19,
    "start_time": "2021-10-18T00:14:58.256Z"
   },
   {
    "duration": 22,
    "start_time": "2021-10-18T00:15:47.636Z"
   },
   {
    "duration": 9,
    "start_time": "2021-10-18T00:17:46.340Z"
   },
   {
    "duration": 13,
    "start_time": "2021-10-18T00:34:36.967Z"
   },
   {
    "duration": 268,
    "start_time": "2021-10-18T00:36:50.885Z"
   },
   {
    "duration": 478,
    "start_time": "2021-10-18T00:44:05.016Z"
   },
   {
    "duration": 1531,
    "start_time": "2021-10-18T00:51:06.344Z"
   },
   {
    "duration": 1222,
    "start_time": "2021-10-18T00:51:35.248Z"
   },
   {
    "duration": 12,
    "start_time": "2021-10-18T00:52:48.665Z"
   },
   {
    "duration": 8,
    "start_time": "2021-10-18T00:56:49.945Z"
   },
   {
    "duration": 8,
    "start_time": "2021-10-18T00:57:07.402Z"
   },
   {
    "duration": 11,
    "start_time": "2021-10-18T00:59:08.516Z"
   },
   {
    "duration": 85,
    "start_time": "2021-10-18T00:59:44.793Z"
   },
   {
    "duration": 219,
    "start_time": "2021-10-18T00:59:50.249Z"
   },
   {
    "duration": 329,
    "start_time": "2021-10-18T01:00:40.024Z"
   },
   {
    "duration": 272,
    "start_time": "2021-10-18T01:01:37.162Z"
   },
   {
    "duration": 1308,
    "start_time": "2021-10-18T01:03:55.331Z"
   },
   {
    "duration": 2148,
    "start_time": "2021-10-18T01:04:50.707Z"
   },
   {
    "duration": 1520,
    "start_time": "2021-10-18T01:05:50.395Z"
   },
   {
    "duration": 1188,
    "start_time": "2021-10-18T01:08:56.712Z"
   },
   {
    "duration": 3,
    "start_time": "2021-10-18T01:10:51.627Z"
   },
   {
    "duration": 109,
    "start_time": "2021-10-18T01:15:55.173Z"
   },
   {
    "duration": 89,
    "start_time": "2021-10-18T01:16:10.722Z"
   },
   {
    "duration": 101,
    "start_time": "2021-10-18T01:16:24.770Z"
   },
   {
    "duration": 94,
    "start_time": "2021-10-18T01:16:39.406Z"
   },
   {
    "duration": 103,
    "start_time": "2021-10-18T01:17:01.393Z"
   },
   {
    "duration": 136,
    "start_time": "2021-10-18T01:17:09.007Z"
   },
   {
    "duration": 421,
    "start_time": "2021-10-18T01:20:06.336Z"
   },
   {
    "duration": 250,
    "start_time": "2021-10-18T01:20:17.273Z"
   },
   {
    "duration": 249,
    "start_time": "2021-10-18T01:21:32.877Z"
   },
   {
    "duration": 416,
    "start_time": "2021-10-18T01:22:00.710Z"
   },
   {
    "duration": 264,
    "start_time": "2021-10-18T01:23:35.237Z"
   },
   {
    "duration": 274,
    "start_time": "2021-10-18T01:23:42.546Z"
   },
   {
    "duration": 408,
    "start_time": "2021-10-18T01:24:11.574Z"
   },
   {
    "duration": 263,
    "start_time": "2021-10-18T01:24:55.342Z"
   },
   {
    "duration": 251,
    "start_time": "2021-10-18T01:25:20.720Z"
   },
   {
    "duration": 259,
    "start_time": "2021-10-18T01:27:28.946Z"
   },
   {
    "duration": 401,
    "start_time": "2021-10-18T01:27:57.002Z"
   },
   {
    "duration": 526,
    "start_time": "2021-10-18T01:28:47.245Z"
   },
   {
    "duration": 438,
    "start_time": "2021-10-18T01:28:54.370Z"
   },
   {
    "duration": 424,
    "start_time": "2021-10-18T01:29:00.573Z"
   },
   {
    "duration": 340,
    "start_time": "2021-10-18T01:31:29.030Z"
   },
   {
    "duration": 352,
    "start_time": "2021-10-18T01:32:32.123Z"
   },
   {
    "duration": 417,
    "start_time": "2021-10-18T01:33:30.690Z"
   },
   {
    "duration": 396,
    "start_time": "2021-10-18T01:36:38.352Z"
   },
   {
    "duration": 425,
    "start_time": "2021-10-18T01:36:54.886Z"
   },
   {
    "duration": 402,
    "start_time": "2021-10-18T01:37:40.626Z"
   },
   {
    "duration": 731,
    "start_time": "2021-10-18T01:40:47.511Z"
   },
   {
    "duration": 566,
    "start_time": "2021-10-18T01:42:11.997Z"
   },
   {
    "duration": 582,
    "start_time": "2021-10-18T01:43:50.112Z"
   },
   {
    "duration": 572,
    "start_time": "2021-10-18T01:44:41.833Z"
   },
   {
    "duration": 596,
    "start_time": "2021-10-18T01:44:48.859Z"
   },
   {
    "duration": 588,
    "start_time": "2021-10-18T01:44:59.735Z"
   },
   {
    "duration": 586,
    "start_time": "2021-10-18T01:45:29.338Z"
   },
   {
    "duration": 600,
    "start_time": "2021-10-18T01:45:46.260Z"
   },
   {
    "duration": 650,
    "start_time": "2021-10-18T01:46:02.410Z"
   },
   {
    "duration": 667,
    "start_time": "2021-10-18T01:46:35.319Z"
   },
   {
    "duration": 1048,
    "start_time": "2021-10-18T01:46:51.630Z"
   },
   {
    "duration": 870,
    "start_time": "2021-10-18T01:47:21.292Z"
   },
   {
    "duration": 980,
    "start_time": "2021-10-18T01:49:38.269Z"
   },
   {
    "duration": 976,
    "start_time": "2021-10-18T01:51:10.520Z"
   },
   {
    "duration": 898,
    "start_time": "2021-10-18T01:51:29.765Z"
   },
   {
    "duration": 913,
    "start_time": "2021-10-18T01:52:10.100Z"
   },
   {
    "duration": 972,
    "start_time": "2021-10-18T01:52:56.736Z"
   },
   {
    "duration": 995,
    "start_time": "2021-10-18T01:53:46.905Z"
   },
   {
    "duration": 976,
    "start_time": "2021-10-18T01:54:12.509Z"
   },
   {
    "duration": 919,
    "start_time": "2021-10-18T01:54:22.851Z"
   },
   {
    "duration": 1031,
    "start_time": "2021-10-18T01:54:40.407Z"
   },
   {
    "duration": 995,
    "start_time": "2021-10-18T01:55:26.238Z"
   },
   {
    "duration": 895,
    "start_time": "2021-10-18T01:56:19.965Z"
   },
   {
    "duration": 872,
    "start_time": "2021-10-18T01:56:35.261Z"
   },
   {
    "duration": 882,
    "start_time": "2021-10-18T01:57:15.001Z"
   },
   {
    "duration": 1247,
    "start_time": "2021-10-18T02:01:07.459Z"
   },
   {
    "duration": 1188,
    "start_time": "2021-10-18T02:01:48.294Z"
   },
   {
    "duration": 934,
    "start_time": "2021-10-18T02:02:39.853Z"
   },
   {
    "duration": 946,
    "start_time": "2021-10-18T02:03:11.717Z"
   },
   {
    "duration": 938,
    "start_time": "2021-10-18T02:03:29.051Z"
   },
   {
    "duration": 942,
    "start_time": "2021-10-18T02:03:49.916Z"
   },
   {
    "duration": 939,
    "start_time": "2021-10-18T02:04:09.249Z"
   },
   {
    "duration": 951,
    "start_time": "2021-10-18T02:04:23.447Z"
   },
   {
    "duration": 984,
    "start_time": "2021-10-18T02:04:31.368Z"
   },
   {
    "duration": 987,
    "start_time": "2021-10-18T02:04:50.106Z"
   },
   {
    "duration": 951,
    "start_time": "2021-10-18T02:05:16.939Z"
   },
   {
    "duration": 1136,
    "start_time": "2021-10-18T02:05:29.766Z"
   },
   {
    "duration": 934,
    "start_time": "2021-10-18T02:05:37.669Z"
   },
   {
    "duration": 936,
    "start_time": "2021-10-18T02:05:43.766Z"
   },
   {
    "duration": 997,
    "start_time": "2021-10-18T02:05:50.967Z"
   },
   {
    "duration": 942,
    "start_time": "2021-10-18T02:06:54.265Z"
   },
   {
    "duration": 938,
    "start_time": "2021-10-18T02:07:10.414Z"
   },
   {
    "duration": 969,
    "start_time": "2021-10-18T02:07:19.794Z"
   },
   {
    "duration": 959,
    "start_time": "2021-10-18T02:07:28.339Z"
   },
   {
    "duration": 983,
    "start_time": "2021-10-18T02:07:36.358Z"
   },
   {
    "duration": 1138,
    "start_time": "2021-10-18T02:09:50.650Z"
   },
   {
    "duration": 671,
    "start_time": "2021-10-18T02:10:02.020Z"
   },
   {
    "duration": 1091,
    "start_time": "2021-10-18T02:10:12.309Z"
   },
   {
    "duration": 978,
    "start_time": "2021-10-18T02:10:20.278Z"
   },
   {
    "duration": 1109,
    "start_time": "2021-10-18T02:10:37.010Z"
   },
   {
    "duration": 1167,
    "start_time": "2021-10-18T02:10:52.563Z"
   },
   {
    "duration": 1821,
    "start_time": "2021-10-18T02:14:05.905Z"
   },
   {
    "duration": 66,
    "start_time": "2021-10-18T02:14:07.729Z"
   },
   {
    "duration": 23,
    "start_time": "2021-10-18T02:14:07.798Z"
   },
   {
    "duration": 17,
    "start_time": "2021-10-18T02:14:07.825Z"
   },
   {
    "duration": 52,
    "start_time": "2021-10-18T02:14:07.844Z"
   },
   {
    "duration": 20,
    "start_time": "2021-10-18T02:14:07.898Z"
   },
   {
    "duration": 987,
    "start_time": "2021-10-18T02:14:07.920Z"
   },
   {
    "duration": 894,
    "start_time": "2021-10-18T02:14:08.911Z"
   },
   {
    "duration": 79,
    "start_time": "2021-10-18T02:14:09.808Z"
   },
   {
    "duration": 9,
    "start_time": "2021-10-18T02:14:09.889Z"
   },
   {
    "duration": 18,
    "start_time": "2021-10-18T02:14:09.900Z"
   },
   {
    "duration": 64,
    "start_time": "2021-10-18T02:14:09.920Z"
   },
   {
    "duration": 6,
    "start_time": "2021-10-18T02:14:09.986Z"
   },
   {
    "duration": 31,
    "start_time": "2021-10-18T02:14:09.994Z"
   },
   {
    "duration": 3,
    "start_time": "2021-10-18T02:14:10.083Z"
   },
   {
    "duration": 603,
    "start_time": "2021-10-18T02:14:10.089Z"
   },
   {
    "duration": 9,
    "start_time": "2021-10-18T02:14:10.694Z"
   },
   {
    "duration": 796,
    "start_time": "2021-10-18T02:14:10.705Z"
   },
   {
    "duration": 761,
    "start_time": "2021-10-18T02:14:11.504Z"
   },
   {
    "duration": 871,
    "start_time": "2021-10-18T02:14:12.267Z"
   },
   {
    "duration": 790,
    "start_time": "2021-10-18T02:14:13.140Z"
   },
   {
    "duration": 920,
    "start_time": "2021-10-18T02:14:13.932Z"
   },
   {
    "duration": 635,
    "start_time": "2021-10-18T02:14:14.857Z"
   },
   {
    "duration": 7,
    "start_time": "2021-10-18T02:14:15.496Z"
   },
   {
    "duration": 479,
    "start_time": "2021-10-18T02:14:15.506Z"
   },
   {
    "duration": 8,
    "start_time": "2021-10-18T02:14:15.988Z"
   },
   {
    "duration": 459,
    "start_time": "2021-10-18T02:14:15.999Z"
   },
   {
    "duration": 82,
    "start_time": "2021-10-18T02:14:16.461Z"
   },
   {
    "duration": 215,
    "start_time": "2021-10-18T02:14:16.546Z"
   },
   {
    "duration": 8,
    "start_time": "2021-10-18T02:14:16.763Z"
   },
   {
    "duration": 11,
    "start_time": "2021-10-18T02:14:16.783Z"
   },
   {
    "duration": 13,
    "start_time": "2021-10-18T02:14:16.796Z"
   },
   {
    "duration": 20,
    "start_time": "2021-10-18T02:14:16.811Z"
   },
   {
    "duration": 58,
    "start_time": "2021-10-18T02:14:16.833Z"
   },
   {
    "duration": 1077,
    "start_time": "2021-10-18T02:19:25.684Z"
   },
   {
    "duration": 1023,
    "start_time": "2021-10-18T02:20:02.892Z"
   },
   {
    "duration": 967,
    "start_time": "2021-10-18T02:20:15.354Z"
   },
   {
    "duration": 993,
    "start_time": "2021-10-18T02:20:31.042Z"
   },
   {
    "duration": 1157,
    "start_time": "2021-10-18T02:20:39.767Z"
   },
   {
    "duration": 979,
    "start_time": "2021-10-18T02:21:05.408Z"
   },
   {
    "duration": 976,
    "start_time": "2021-10-18T02:21:56.322Z"
   },
   {
    "duration": 996,
    "start_time": "2021-10-18T02:22:00.642Z"
   },
   {
    "duration": 1016,
    "start_time": "2021-10-18T02:22:05.051Z"
   },
   {
    "duration": 985,
    "start_time": "2021-10-18T02:22:10.469Z"
   },
   {
    "duration": 1781,
    "start_time": "2021-10-18T02:24:23.976Z"
   },
   {
    "duration": 64,
    "start_time": "2021-10-18T02:24:25.760Z"
   },
   {
    "duration": 20,
    "start_time": "2021-10-18T02:24:25.827Z"
   },
   {
    "duration": 17,
    "start_time": "2021-10-18T02:24:25.850Z"
   },
   {
    "duration": 30,
    "start_time": "2021-10-18T02:24:25.870Z"
   },
   {
    "duration": 19,
    "start_time": "2021-10-18T02:24:25.903Z"
   },
   {
    "duration": 1020,
    "start_time": "2021-10-18T02:24:25.924Z"
   },
   {
    "duration": 899,
    "start_time": "2021-10-18T02:24:26.948Z"
   },
   {
    "duration": 62,
    "start_time": "2021-10-18T02:24:27.850Z"
   },
   {
    "duration": 68,
    "start_time": "2021-10-18T02:24:27.915Z"
   },
   {
    "duration": 18,
    "start_time": "2021-10-18T02:24:27.986Z"
   },
   {
    "duration": 12,
    "start_time": "2021-10-18T02:24:28.007Z"
   },
   {
    "duration": 5,
    "start_time": "2021-10-18T02:24:28.023Z"
   },
   {
    "duration": 77,
    "start_time": "2021-10-18T02:24:28.031Z"
   },
   {
    "duration": 7,
    "start_time": "2021-10-18T02:24:28.111Z"
   },
   {
    "duration": 622,
    "start_time": "2021-10-18T02:24:28.120Z"
   },
   {
    "duration": 9,
    "start_time": "2021-10-18T02:24:28.744Z"
   },
   {
    "duration": 791,
    "start_time": "2021-10-18T02:24:28.756Z"
   },
   {
    "duration": 771,
    "start_time": "2021-10-18T02:24:29.550Z"
   },
   {
    "duration": 896,
    "start_time": "2021-10-18T02:24:30.324Z"
   },
   {
    "duration": 810,
    "start_time": "2021-10-18T02:24:31.223Z"
   },
   {
    "duration": 883,
    "start_time": "2021-10-18T02:24:32.036Z"
   },
   {
    "duration": 558,
    "start_time": "2021-10-18T02:24:32.924Z"
   },
   {
    "duration": 5,
    "start_time": "2021-10-18T02:24:33.485Z"
   },
   {
    "duration": 418,
    "start_time": "2021-10-18T02:24:33.492Z"
   },
   {
    "duration": 7,
    "start_time": "2021-10-18T02:24:33.912Z"
   },
   {
    "duration": 451,
    "start_time": "2021-10-18T02:24:33.921Z"
   },
   {
    "duration": 77,
    "start_time": "2021-10-18T02:24:34.374Z"
   },
   {
    "duration": 244,
    "start_time": "2021-10-18T02:24:34.454Z"
   },
   {
    "duration": 8,
    "start_time": "2021-10-18T02:24:34.700Z"
   },
   {
    "duration": 12,
    "start_time": "2021-10-18T02:24:34.710Z"
   },
   {
    "duration": 15,
    "start_time": "2021-10-18T02:24:34.724Z"
   },
   {
    "duration": 48,
    "start_time": "2021-10-18T02:24:34.741Z"
   },
   {
    "duration": 21,
    "start_time": "2021-10-18T02:24:34.791Z"
   },
   {
    "duration": 30,
    "start_time": "2021-10-18T02:26:52.211Z"
   },
   {
    "duration": 1875,
    "start_time": "2021-10-18T02:32:04.572Z"
   },
   {
    "duration": 64,
    "start_time": "2021-10-18T02:32:06.450Z"
   },
   {
    "duration": 19,
    "start_time": "2021-10-18T02:32:06.517Z"
   },
   {
    "duration": 16,
    "start_time": "2021-10-18T02:32:06.539Z"
   },
   {
    "duration": 40,
    "start_time": "2021-10-18T02:32:06.557Z"
   },
   {
    "duration": 24,
    "start_time": "2021-10-18T02:32:06.599Z"
   },
   {
    "duration": 1036,
    "start_time": "2021-10-18T02:32:06.625Z"
   },
   {
    "duration": 911,
    "start_time": "2021-10-18T02:32:07.663Z"
   },
   {
    "duration": 31,
    "start_time": "2021-10-18T02:32:08.584Z"
   },
   {
    "duration": 8,
    "start_time": "2021-10-18T02:32:08.618Z"
   },
   {
    "duration": 16,
    "start_time": "2021-10-18T02:32:08.684Z"
   },
   {
    "duration": 12,
    "start_time": "2021-10-18T02:32:08.702Z"
   },
   {
    "duration": 12,
    "start_time": "2021-10-18T02:32:08.716Z"
   },
   {
    "duration": 34,
    "start_time": "2021-10-18T02:32:08.783Z"
   },
   {
    "duration": 4,
    "start_time": "2021-10-18T02:32:08.819Z"
   },
   {
    "duration": 664,
    "start_time": "2021-10-18T02:32:08.826Z"
   },
   {
    "duration": 8,
    "start_time": "2021-10-18T02:32:09.492Z"
   },
   {
    "duration": 807,
    "start_time": "2021-10-18T02:32:09.503Z"
   },
   {
    "duration": 797,
    "start_time": "2021-10-18T02:32:10.312Z"
   },
   {
    "duration": 905,
    "start_time": "2021-10-18T02:32:11.112Z"
   },
   {
    "duration": 814,
    "start_time": "2021-10-18T02:32:12.019Z"
   },
   {
    "duration": 891,
    "start_time": "2021-10-18T02:32:12.836Z"
   },
   {
    "duration": 545,
    "start_time": "2021-10-18T02:32:13.730Z"
   },
   {
    "duration": 6,
    "start_time": "2021-10-18T02:32:14.282Z"
   },
   {
    "duration": 420,
    "start_time": "2021-10-18T02:32:14.290Z"
   },
   {
    "duration": 6,
    "start_time": "2021-10-18T02:32:14.712Z"
   },
   {
    "duration": 486,
    "start_time": "2021-10-18T02:32:14.723Z"
   },
   {
    "duration": 93,
    "start_time": "2021-10-18T02:32:15.211Z"
   },
   {
    "duration": 239,
    "start_time": "2021-10-18T02:32:15.307Z"
   },
   {
    "duration": 8,
    "start_time": "2021-10-18T02:32:15.549Z"
   },
   {
    "duration": 30,
    "start_time": "2021-10-18T02:32:15.559Z"
   },
   {
    "duration": 13,
    "start_time": "2021-10-18T02:32:15.591Z"
   },
   {
    "duration": 22,
    "start_time": "2021-10-18T02:32:15.606Z"
   },
   {
    "duration": 53,
    "start_time": "2021-10-18T02:32:15.630Z"
   },
   {
    "duration": 21013,
    "start_time": "2021-10-18T05:13:30.481Z"
   },
   {
    "duration": 70,
    "start_time": "2021-10-18T05:13:51.496Z"
   },
   {
    "duration": 14,
    "start_time": "2021-10-18T05:13:51.568Z"
   },
   {
    "duration": 14,
    "start_time": "2021-10-18T05:13:51.584Z"
   },
   {
    "duration": 27,
    "start_time": "2021-10-18T05:13:51.599Z"
   },
   {
    "duration": 18,
    "start_time": "2021-10-18T05:13:51.627Z"
   },
   {
    "duration": 644,
    "start_time": "2021-10-18T05:13:51.646Z"
   },
   {
    "duration": 624,
    "start_time": "2021-10-18T05:13:52.293Z"
   },
   {
    "duration": 34,
    "start_time": "2021-10-18T05:13:52.920Z"
   },
   {
    "duration": 6,
    "start_time": "2021-10-18T05:13:52.955Z"
   },
   {
    "duration": 16,
    "start_time": "2021-10-18T05:13:52.962Z"
   },
   {
    "duration": 14,
    "start_time": "2021-10-18T05:13:52.980Z"
   },
   {
    "duration": 51,
    "start_time": "2021-10-18T05:13:52.996Z"
   },
   {
    "duration": 35,
    "start_time": "2021-10-18T05:13:53.049Z"
   },
   {
    "duration": 10,
    "start_time": "2021-10-18T05:13:53.086Z"
   },
   {
    "duration": 393,
    "start_time": "2021-10-18T05:13:53.097Z"
   },
   {
    "duration": 6,
    "start_time": "2021-10-18T05:13:53.492Z"
   },
   {
    "duration": 483,
    "start_time": "2021-10-18T05:13:53.500Z"
   },
   {
    "duration": 478,
    "start_time": "2021-10-18T05:13:53.985Z"
   },
   {
    "duration": 715,
    "start_time": "2021-10-18T05:13:54.465Z"
   },
   {
    "duration": 496,
    "start_time": "2021-10-18T05:13:55.181Z"
   },
   {
    "duration": 586,
    "start_time": "2021-10-18T05:13:55.679Z"
   },
   {
    "duration": 366,
    "start_time": "2021-10-18T05:13:56.268Z"
   },
   {
    "duration": 10,
    "start_time": "2021-10-18T05:13:56.636Z"
   },
   {
    "duration": 317,
    "start_time": "2021-10-18T05:13:56.647Z"
   },
   {
    "duration": 4,
    "start_time": "2021-10-18T05:13:56.965Z"
   },
   {
    "duration": 286,
    "start_time": "2021-10-18T05:13:56.971Z"
   },
   {
    "duration": 49,
    "start_time": "2021-10-18T05:13:57.259Z"
   },
   {
    "duration": 134,
    "start_time": "2021-10-18T05:13:57.310Z"
   },
   {
    "duration": 5,
    "start_time": "2021-10-18T05:13:57.446Z"
   },
   {
    "duration": 14,
    "start_time": "2021-10-18T05:13:57.453Z"
   },
   {
    "duration": 21,
    "start_time": "2021-10-18T05:13:57.468Z"
   },
   {
    "duration": 14,
    "start_time": "2021-10-18T05:13:57.491Z"
   },
   {
    "duration": 13,
    "start_time": "2021-10-18T05:13:57.506Z"
   },
   {
    "duration": 315,
    "start_time": "2021-10-18T11:31:45.801Z"
   },
   {
    "duration": 266,
    "start_time": "2021-10-18T11:32:34.787Z"
   },
   {
    "duration": 306,
    "start_time": "2021-10-18T11:32:51.089Z"
   },
   {
    "duration": 118,
    "start_time": "2021-10-18T11:52:57.946Z"
   },
   {
    "duration": 384,
    "start_time": "2021-10-18T11:53:08.200Z"
   },
   {
    "duration": 324,
    "start_time": "2021-10-18T11:54:01.225Z"
   },
   {
    "duration": 6,
    "start_time": "2021-10-18T11:54:14.850Z"
   },
   {
    "duration": 6,
    "start_time": "2021-10-18T11:54:45.729Z"
   },
   {
    "duration": 6,
    "start_time": "2021-10-18T12:06:36.819Z"
   },
   {
    "duration": 8,
    "start_time": "2021-10-18T12:07:06.134Z"
   },
   {
    "duration": 7,
    "start_time": "2021-10-18T12:36:30.904Z"
   },
   {
    "duration": 1959,
    "start_time": "2021-11-28T19:33:47.480Z"
   },
   {
    "duration": 93,
    "start_time": "2021-11-28T19:33:49.442Z"
   },
   {
    "duration": 20,
    "start_time": "2021-11-28T19:33:49.538Z"
   },
   {
    "duration": 17,
    "start_time": "2021-11-28T19:33:49.561Z"
   },
   {
    "duration": 45,
    "start_time": "2021-11-28T19:33:49.581Z"
   },
   {
    "duration": 25,
    "start_time": "2021-11-28T19:33:49.628Z"
   },
   {
    "duration": 1268,
    "start_time": "2021-11-28T19:33:49.656Z"
   },
   {
    "duration": 1081,
    "start_time": "2021-11-28T19:33:50.928Z"
   },
   {
    "duration": 90,
    "start_time": "2021-11-28T19:33:52.012Z"
   },
   {
    "duration": 9,
    "start_time": "2021-11-28T19:33:52.105Z"
   },
   {
    "duration": 17,
    "start_time": "2021-11-28T19:33:52.116Z"
   },
   {
    "duration": 69,
    "start_time": "2021-11-28T19:33:52.136Z"
   },
   {
    "duration": 7,
    "start_time": "2021-11-28T19:33:52.207Z"
   },
   {
    "duration": 92,
    "start_time": "2021-11-28T19:33:52.216Z"
   },
   {
    "duration": 5,
    "start_time": "2021-11-28T19:33:52.311Z"
   },
   {
    "duration": 734,
    "start_time": "2021-11-28T19:33:52.318Z"
   },
   {
    "duration": 10,
    "start_time": "2021-11-28T19:33:53.054Z"
   },
   {
    "duration": 874,
    "start_time": "2021-11-28T19:33:53.066Z"
   },
   {
    "duration": 965,
    "start_time": "2021-11-28T19:33:53.943Z"
   },
   {
    "duration": 1078,
    "start_time": "2021-11-28T19:33:54.911Z"
   },
   {
    "duration": 979,
    "start_time": "2021-11-28T19:33:55.991Z"
   },
   {
    "duration": 942,
    "start_time": "2021-11-28T19:33:56.972Z"
   },
   {
    "duration": 584,
    "start_time": "2021-11-28T19:33:57.919Z"
   },
   {
    "duration": 6,
    "start_time": "2021-11-28T19:33:58.506Z"
   },
   {
    "duration": 440,
    "start_time": "2021-11-28T19:33:58.515Z"
   },
   {
    "duration": 7,
    "start_time": "2021-11-28T19:33:58.957Z"
   },
   {
    "duration": 507,
    "start_time": "2021-11-28T19:33:58.966Z"
   },
   {
    "duration": 140,
    "start_time": "2021-11-28T19:33:59.476Z"
   },
   {
    "duration": 235,
    "start_time": "2021-11-28T19:33:59.619Z"
   },
   {
    "duration": 8,
    "start_time": "2021-11-28T19:33:59.857Z"
   },
   {
    "duration": 34,
    "start_time": "2021-11-28T19:33:59.867Z"
   },
   {
    "duration": 14,
    "start_time": "2021-11-28T19:33:59.904Z"
   },
   {
    "duration": 19,
    "start_time": "2021-11-28T19:33:59.920Z"
   },
   {
    "duration": 73,
    "start_time": "2021-11-28T19:33:59.941Z"
   },
   {
    "duration": 6,
    "start_time": "2021-11-28T19:34:00.017Z"
   },
   {
    "duration": 8,
    "start_time": "2021-11-28T19:34:00.026Z"
   },
   {
    "duration": 2026,
    "start_time": "2021-11-28T20:14:37.840Z"
   },
   {
    "duration": 81,
    "start_time": "2021-11-28T20:14:39.868Z"
   },
   {
    "duration": 21,
    "start_time": "2021-11-28T20:14:39.953Z"
   },
   {
    "duration": 20,
    "start_time": "2021-11-28T20:14:39.978Z"
   },
   {
    "duration": 40,
    "start_time": "2021-11-28T20:14:40.000Z"
   },
   {
    "duration": 68,
    "start_time": "2021-11-28T20:14:40.042Z"
   },
   {
    "duration": 1139,
    "start_time": "2021-11-28T20:14:40.114Z"
   },
   {
    "duration": 54,
    "start_time": "2021-11-28T20:14:41.259Z"
   },
   {
    "duration": 10,
    "start_time": "2021-11-28T20:14:41.316Z"
   },
   {
    "duration": 14,
    "start_time": "2021-11-28T20:14:41.328Z"
   },
   {
    "duration": 72,
    "start_time": "2021-11-28T20:14:41.344Z"
   },
   {
    "duration": 6,
    "start_time": "2021-11-28T20:14:41.418Z"
   },
   {
    "duration": 722,
    "start_time": "2021-11-28T20:14:41.427Z"
   },
   {
    "duration": 10,
    "start_time": "2021-11-28T20:14:42.151Z"
   },
   {
    "duration": 864,
    "start_time": "2021-11-28T20:14:42.163Z"
   },
   {
    "duration": 943,
    "start_time": "2021-11-28T20:14:43.029Z"
   },
   {
    "duration": 945,
    "start_time": "2021-11-28T20:14:43.974Z"
   },
   {
    "duration": 877,
    "start_time": "2021-11-28T20:14:44.921Z"
   },
   {
    "duration": 1019,
    "start_time": "2021-11-28T20:14:45.801Z"
   },
   {
    "duration": 602,
    "start_time": "2021-11-28T20:14:46.823Z"
   },
   {
    "duration": 7,
    "start_time": "2021-11-28T20:14:47.428Z"
   },
   {
    "duration": 544,
    "start_time": "2021-11-28T20:14:47.437Z"
   },
   {
    "duration": 17,
    "start_time": "2021-11-28T20:14:47.987Z"
   },
   {
    "duration": 480,
    "start_time": "2021-11-28T20:14:48.007Z"
   },
   {
    "duration": 83,
    "start_time": "2021-11-28T20:14:48.490Z"
   },
   {
    "duration": 270,
    "start_time": "2021-11-28T20:14:48.576Z"
   },
   {
    "duration": 13,
    "start_time": "2021-11-28T20:14:48.848Z"
   },
   {
    "duration": 14,
    "start_time": "2021-11-28T20:14:48.864Z"
   },
   {
    "duration": 20,
    "start_time": "2021-11-28T20:14:48.902Z"
   },
   {
    "duration": 21,
    "start_time": "2021-11-28T20:14:48.925Z"
   }
  ],
  "kernelspec": {
   "display_name": "Python 3",
   "language": "python",
   "name": "python3"
  },
  "language_info": {
   "codemirror_mode": {
    "name": "ipython",
    "version": 3
   },
   "file_extension": ".py",
   "mimetype": "text/x-python",
   "name": "python",
   "nbconvert_exporter": "python",
   "pygments_lexer": "ipython3",
   "version": "3.7.8"
  },
  "toc": {
   "base_numbering": 1,
   "nav_menu": {},
   "number_sections": true,
   "sideBar": true,
   "skip_h1_title": true,
   "title_cell": "Table of Contents",
   "title_sidebar": "Contents",
   "toc_cell": false,
   "toc_position": {},
   "toc_section_display": true,
   "toc_window_display": false
  }
 },
 "nbformat": 4,
 "nbformat_minor": 2
}
