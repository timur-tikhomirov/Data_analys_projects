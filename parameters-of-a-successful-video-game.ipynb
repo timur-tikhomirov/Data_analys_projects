{
 "cells": [
  {
   "cell_type": "markdown",
   "id": "64f091a7",
   "metadata": {
    "papermill": {
     "duration": 0.056316,
     "end_time": "2021-11-28T20:35:04.707713",
     "exception": false,
     "start_time": "2021-11-28T20:35:04.651397",
     "status": "completed"
    },
    "tags": []
   },
   "source": [
    "# Определение параметров, влияющих на успешность видеоигр"
   ]
  },
  {
   "cell_type": "markdown",
   "id": "2754181f",
   "metadata": {
    "papermill": {
     "duration": 0.068278,
     "end_time": "2021-11-28T20:35:04.832828",
     "exception": false,
     "start_time": "2021-11-28T20:35:04.764550",
     "status": "completed"
    },
    "tags": []
   },
   "source": [
    "Интернет-магазин продаёт компьютерные игры по всему миру. Из открытых источников доступны исторические данные о продажах игр, оценки пользователей и экспертов, жанры и платформы (например, Xbox или PlayStation). Требуется выявить определяющие успешность игры закономерности. Это позволит сделать ставку на потенциально популярный продукт и спланировать рекламные кампании.\n",
    "\n",
    "**Цель исследования:** для составления плана закупки и рекламной кампании на следующий год (2017), требуется выявить параметры, которые позволят предугадать коммерческую успешность той или иной видеоигры.\n",
    "\n",
    "**Примечание:** в наборе данных попадается аббревиатура ESRB (Entertainment Software Rating Board) — это ассоциация, определяющая возрастной рейтинг компьютерных игр. ESRB оценивает игровой контент и присваивает ему подходящую возрастную категорию, например, «Для взрослых», «Для детей младшего возраста» или «Для подростков».\n",
    "+ M - «Для взрослых»: Материалы игры не подходят для подростков младше 17 лет.\n",
    "+ E - «Для всех»: Содержание подходит для возрастной категории от 6 лет.\n",
    "+ T - «Подросткам»: Игра подходит для лиц от 13 лет.\n",
    "+ E10+ - «Для всех от 10 лет и старше».\n",
    "+ RP - «Рейтинг ожидается»: Продукт был отправлен в ESRB и ожидает присвоения рейтинга.\n",
    "+ EC - «Для детей младшего возраста»: Игра подходит для детей от 3 лет.\n",
    "\n",
    "**Описание данных:**\n",
    "\n",
    "+ Name — название игры\n",
    "+ Platform — платформа\n",
    "+ Year_of_Release — год выпуска\n",
    "+ Genre — жанр игры\n",
    "+ NA_sales — продажи в Северной Америке (миллионы проданных копий)\n",
    "+ EU_sales — продажи в Европе (миллионы проданных копий)\n",
    "+ JP_sales — продажи в Японии (миллионы проданных копий)\n",
    "+ Other_sales — продажи в других странах (миллионы проданных копий)\n",
    "+ Critic_Score — оценка критиков (максимум 100)\n",
    "+ User_Score — оценка пользователей (максимум 10)\n",
    "+ Rating — рейтинг от организации ESRB (англ. Entertainment Software Rating Board). Эта ассоциация определяет рейтинг компьютерных игр и присваивает им подходящую возрастную категорию.\n",
    "\n",
    "Данные за 2016 год могут быть неполными."
   ]
  },
  {
   "cell_type": "markdown",
   "id": "6d5cbe87",
   "metadata": {
    "papermill": {
     "duration": 0.053619,
     "end_time": "2021-11-28T20:35:04.948829",
     "exception": false,
     "start_time": "2021-11-28T20:35:04.895210",
     "status": "completed"
    },
    "tags": []
   },
   "source": [
    "# 1. Изучение данных"
   ]
  },
  {
   "cell_type": "markdown",
   "id": "d50ce80b",
   "metadata": {
    "papermill": {
     "duration": 0.053304,
     "end_time": "2021-11-28T20:35:05.056848",
     "exception": false,
     "start_time": "2021-11-28T20:35:05.003544",
     "status": "completed"
    },
    "tags": []
   },
   "source": [
    "Изучим данные, для этого прочитаем файл и выведем общую информацию о нем. Также импортируем все библиотеки, которые мы будем использовать в исследовании."
   ]
  },
  {
   "cell_type": "code",
   "execution_count": 1,
   "id": "735f32be",
   "metadata": {
    "execution": {
     "iopub.execute_input": "2021-11-28T20:35:05.177030Z",
     "iopub.status.busy": "2021-11-28T20:35:05.176308Z",
     "iopub.status.idle": "2021-11-28T20:35:07.853608Z",
     "shell.execute_reply": "2021-11-28T20:35:07.854514Z",
     "shell.execute_reply.started": "2021-11-28T20:29:21.663126Z"
    },
    "papermill": {
     "duration": 2.745331,
     "end_time": "2021-11-28T20:35:07.854920",
     "exception": false,
     "start_time": "2021-11-28T20:35:05.109589",
     "status": "completed"
    },
    "scrolled": true,
    "tags": []
   },
   "outputs": [
    {
     "name": "stdout",
     "output_type": "stream",
     "text": [
      "<class 'pandas.core.frame.DataFrame'>\n",
      "RangeIndex: 16715 entries, 0 to 16714\n",
      "Data columns (total 11 columns):\n",
      " #   Column           Non-Null Count  Dtype  \n",
      "---  ------           --------------  -----  \n",
      " 0   Name             16713 non-null  object \n",
      " 1   Platform         16715 non-null  object \n",
      " 2   Year_of_Release  16446 non-null  float64\n",
      " 3   Genre            16713 non-null  object \n",
      " 4   NA_sales         16715 non-null  float64\n",
      " 5   EU_sales         16715 non-null  float64\n",
      " 6   JP_sales         16715 non-null  float64\n",
      " 7   Other_sales      16715 non-null  float64\n",
      " 8   Critic_Score     8137 non-null   float64\n",
      " 9   User_Score       10014 non-null  object \n",
      " 10  Rating           9949 non-null   object \n",
      "dtypes: float64(6), object(5)\n",
      "memory usage: 1.4+ MB\n",
      "None\n"
     ]
    },
    {
     "data": {
      "text/html": [
       "<div>\n",
       "<style scoped>\n",
       "    .dataframe tbody tr th:only-of-type {\n",
       "        vertical-align: middle;\n",
       "    }\n",
       "\n",
       "    .dataframe tbody tr th {\n",
       "        vertical-align: top;\n",
       "    }\n",
       "\n",
       "    .dataframe thead th {\n",
       "        text-align: right;\n",
       "    }\n",
       "</style>\n",
       "<table border=\"1\" class=\"dataframe\">\n",
       "  <thead>\n",
       "    <tr style=\"text-align: right;\">\n",
       "      <th></th>\n",
       "      <th>Name</th>\n",
       "      <th>Platform</th>\n",
       "      <th>Year_of_Release</th>\n",
       "      <th>Genre</th>\n",
       "      <th>NA_sales</th>\n",
       "      <th>EU_sales</th>\n",
       "      <th>JP_sales</th>\n",
       "      <th>Other_sales</th>\n",
       "      <th>Critic_Score</th>\n",
       "      <th>User_Score</th>\n",
       "      <th>Rating</th>\n",
       "    </tr>\n",
       "  </thead>\n",
       "  <tbody>\n",
       "    <tr>\n",
       "      <th>0</th>\n",
       "      <td>Wii Sports</td>\n",
       "      <td>Wii</td>\n",
       "      <td>2006.0</td>\n",
       "      <td>Sports</td>\n",
       "      <td>41.36</td>\n",
       "      <td>28.96</td>\n",
       "      <td>3.77</td>\n",
       "      <td>8.45</td>\n",
       "      <td>76.0</td>\n",
       "      <td>8</td>\n",
       "      <td>E</td>\n",
       "    </tr>\n",
       "    <tr>\n",
       "      <th>1</th>\n",
       "      <td>Super Mario Bros.</td>\n",
       "      <td>NES</td>\n",
       "      <td>1985.0</td>\n",
       "      <td>Platform</td>\n",
       "      <td>29.08</td>\n",
       "      <td>3.58</td>\n",
       "      <td>6.81</td>\n",
       "      <td>0.77</td>\n",
       "      <td>NaN</td>\n",
       "      <td>NaN</td>\n",
       "      <td>NaN</td>\n",
       "    </tr>\n",
       "    <tr>\n",
       "      <th>2</th>\n",
       "      <td>Mario Kart Wii</td>\n",
       "      <td>Wii</td>\n",
       "      <td>2008.0</td>\n",
       "      <td>Racing</td>\n",
       "      <td>15.68</td>\n",
       "      <td>12.76</td>\n",
       "      <td>3.79</td>\n",
       "      <td>3.29</td>\n",
       "      <td>82.0</td>\n",
       "      <td>8.3</td>\n",
       "      <td>E</td>\n",
       "    </tr>\n",
       "    <tr>\n",
       "      <th>3</th>\n",
       "      <td>Wii Sports Resort</td>\n",
       "      <td>Wii</td>\n",
       "      <td>2009.0</td>\n",
       "      <td>Sports</td>\n",
       "      <td>15.61</td>\n",
       "      <td>10.93</td>\n",
       "      <td>3.28</td>\n",
       "      <td>2.95</td>\n",
       "      <td>80.0</td>\n",
       "      <td>8</td>\n",
       "      <td>E</td>\n",
       "    </tr>\n",
       "    <tr>\n",
       "      <th>4</th>\n",
       "      <td>Pokemon Red/Pokemon Blue</td>\n",
       "      <td>GB</td>\n",
       "      <td>1996.0</td>\n",
       "      <td>Role-Playing</td>\n",
       "      <td>11.27</td>\n",
       "      <td>8.89</td>\n",
       "      <td>10.22</td>\n",
       "      <td>1.00</td>\n",
       "      <td>NaN</td>\n",
       "      <td>NaN</td>\n",
       "      <td>NaN</td>\n",
       "    </tr>\n",
       "  </tbody>\n",
       "</table>\n",
       "</div>"
      ],
      "text/plain": [
       "                       Name Platform  Year_of_Release         Genre  NA_sales  \\\n",
       "0                Wii Sports      Wii           2006.0        Sports     41.36   \n",
       "1         Super Mario Bros.      NES           1985.0      Platform     29.08   \n",
       "2            Mario Kart Wii      Wii           2008.0        Racing     15.68   \n",
       "3         Wii Sports Resort      Wii           2009.0        Sports     15.61   \n",
       "4  Pokemon Red/Pokemon Blue       GB           1996.0  Role-Playing     11.27   \n",
       "\n",
       "   EU_sales  JP_sales  Other_sales  Critic_Score User_Score Rating  \n",
       "0     28.96      3.77         8.45          76.0          8      E  \n",
       "1      3.58      6.81         0.77           NaN        NaN    NaN  \n",
       "2     12.76      3.79         3.29          82.0        8.3      E  \n",
       "3     10.93      3.28         2.95          80.0          8      E  \n",
       "4      8.89     10.22         1.00           NaN        NaN    NaN  "
      ]
     },
     "execution_count": 1,
     "metadata": {},
     "output_type": "execute_result"
    }
   ],
   "source": [
    "import pandas as pd\n",
    "import numpy as np\n",
    "import matplotlib.pyplot as plt\n",
    "import seaborn as sns\n",
    "from scipy import stats as st\n",
    "import warnings\n",
    "import random\n",
    "import plotly.graph_objects as go\n",
    "import plotly.express as px\n",
    "\n",
    "df = pd.read_csv('../input/video-games-dataset/games_dataset.csv')\n",
    "print(df.info())\n",
    "df.head(5)"
   ]
  },
  {
   "cell_type": "markdown",
   "id": "ea40a24e",
   "metadata": {
    "papermill": {
     "duration": 0.054528,
     "end_time": "2021-11-28T20:35:07.964480",
     "exception": false,
     "start_time": "2021-11-28T20:35:07.909952",
     "status": "completed"
    },
    "tags": []
   },
   "source": [
    "Количество строк в разных столбцах различается, значит имеются пропуски данных. Кроме того, в ряде столбцов тип данных не соответствует их характеру, а именно год релиза записан при помощи чисел с плавающей точкой, а пользовательский рейтинг - в виде текста. Также целесообразно привести все названия столбцов к нижнему регистру.\n",
    "\n",
    "Выясним, за какой период собраны данные."
   ]
  },
  {
   "cell_type": "code",
   "execution_count": 2,
   "id": "3be52b11",
   "metadata": {
    "execution": {
     "iopub.execute_input": "2021-11-28T20:35:08.085225Z",
     "iopub.status.busy": "2021-11-28T20:35:08.084453Z",
     "iopub.status.idle": "2021-11-28T20:35:08.088984Z",
     "shell.execute_reply": "2021-11-28T20:35:08.089491Z",
     "shell.execute_reply.started": "2021-11-28T20:29:24.274309Z"
    },
    "papermill": {
     "duration": 0.068949,
     "end_time": "2021-11-28T20:35:08.089686",
     "exception": false,
     "start_time": "2021-11-28T20:35:08.020737",
     "status": "completed"
    },
    "tags": []
   },
   "outputs": [
    {
     "name": "stdout",
     "output_type": "stream",
     "text": [
      "Данные собирались с 1980 по 2016 годы, итого 36 лет.\n"
     ]
    }
   ],
   "source": [
    "period = df['Year_of_Release'].max() - df['Year_of_Release'].min() \n",
    "print('Данные собирались с {} по {} годы, итого {} лет.'.\n",
    "      format(int(df['Year_of_Release'].min()), int(df['Year_of_Release'].max()), int(period)))"
   ]
  },
  {
   "cell_type": "markdown",
   "id": "a3d60bc8",
   "metadata": {
    "papermill": {
     "duration": 0.054798,
     "end_time": "2021-11-28T20:35:08.199254",
     "exception": false,
     "start_time": "2021-11-28T20:35:08.144456",
     "status": "completed"
    },
    "tags": []
   },
   "source": [
    "### Вывод\n",
    "Данные представляют собой таблицу, каждая строка которой обозначает видеоигру, а каждому столбцу соответствует определенный параметр этой видеоигры. Всего собраны данные о 16715 видеоиграх; данные охватывают промежуток в 36 лет, с 1980 по 2016 годы, т.е. фактически весь период существования видеоигр до 2016 года. Необходимо решить следующие проблемы:\n",
    "\n",
    "+ привести названия столбцов к одному регистру;\n",
    "+ для некоторых столбцов изменить тип данных;\n",
    "+ изучить характер пропусков и при необходимости обработать их."
   ]
  },
  {
   "cell_type": "markdown",
   "id": "0a7737a3",
   "metadata": {
    "papermill": {
     "duration": 0.054434,
     "end_time": "2021-11-28T20:35:08.308585",
     "exception": false,
     "start_time": "2021-11-28T20:35:08.254151",
     "status": "completed"
    },
    "tags": []
   },
   "source": [
    "# 2. Предобработка данных"
   ]
  },
  {
   "cell_type": "markdown",
   "id": "18c64444",
   "metadata": {
    "papermill": {
     "duration": 0.054446,
     "end_time": "2021-11-28T20:35:08.418065",
     "exception": false,
     "start_time": "2021-11-28T20:35:08.363619",
     "status": "completed"
    },
    "tags": []
   },
   "source": [
    "Приведем названия столбцов к нижнему регистру."
   ]
  },
  {
   "cell_type": "code",
   "execution_count": 3,
   "id": "72188998",
   "metadata": {
    "execution": {
     "iopub.execute_input": "2021-11-28T20:35:08.534155Z",
     "iopub.status.busy": "2021-11-28T20:35:08.533396Z",
     "iopub.status.idle": "2021-11-28T20:35:08.538820Z",
     "shell.execute_reply": "2021-11-28T20:35:08.539452Z",
     "shell.execute_reply.started": "2021-11-28T20:29:24.283219Z"
    },
    "papermill": {
     "duration": 0.064054,
     "end_time": "2021-11-28T20:35:08.539669",
     "exception": false,
     "start_time": "2021-11-28T20:35:08.475615",
     "status": "completed"
    },
    "tags": []
   },
   "outputs": [],
   "source": [
    "df.columns = df.columns.str.lower()"
   ]
  },
  {
   "cell_type": "markdown",
   "id": "cc805ee4",
   "metadata": {
    "papermill": {
     "duration": 0.054338,
     "end_time": "2021-11-28T20:35:08.648984",
     "exception": false,
     "start_time": "2021-11-28T20:35:08.594646",
     "status": "completed"
    },
    "tags": []
   },
   "source": [
    "Изменим типы данных. Год выпуска сделаем целым числом, а пользовательский рейтинг - дробными числом; сейчас он записан как текст и это будет препятствовать анализу."
   ]
  },
  {
   "cell_type": "code",
   "execution_count": 4,
   "id": "6b69b97e",
   "metadata": {
    "execution": {
     "iopub.execute_input": "2021-11-28T20:35:08.764996Z",
     "iopub.status.busy": "2021-11-28T20:35:08.764295Z",
     "iopub.status.idle": "2021-11-28T20:35:08.778084Z",
     "shell.execute_reply": "2021-11-28T20:35:08.776885Z",
     "shell.execute_reply.started": "2021-11-28T20:29:24.294196Z"
    },
    "papermill": {
     "duration": 0.074117,
     "end_time": "2021-11-28T20:35:08.778352",
     "exception": false,
     "start_time": "2021-11-28T20:35:08.704235",
     "status": "completed"
    },
    "scrolled": true,
    "tags": []
   },
   "outputs": [
    {
     "name": "stdout",
     "output_type": "stream",
     "text": [
      "tbd    2424\n",
      "7.8     324\n",
      "8       290\n",
      "8.2     282\n",
      "8.3     254\n",
      "       ... \n",
      "0.5       2\n",
      "1.5       2\n",
      "1         2\n",
      "0         1\n",
      "9.7       1\n",
      "Name: user_score, Length: 96, dtype: int64\n"
     ]
    }
   ],
   "source": [
    "print(df['user_score'].value_counts())"
   ]
  },
  {
   "cell_type": "markdown",
   "id": "8e1500f1",
   "metadata": {
    "papermill": {
     "duration": 0.054936,
     "end_time": "2021-11-28T20:35:08.892071",
     "exception": false,
     "start_time": "2021-11-28T20:35:08.837135",
     "status": "completed"
    },
    "tags": []
   },
   "source": [
    "Как мы помним, в обоих этих столбцах есть пропуски, кроме того, в рейтинге пользователей достаточно часто встречается значение 'tbd' - **To Be Determined**, что означает, что на данный момент данные отсутствуют. Заменим 'tbd' на NaN и приведем данные к нужным типам."
   ]
  },
  {
   "cell_type": "code",
   "execution_count": 5,
   "id": "d7fb271b",
   "metadata": {
    "execution": {
     "iopub.execute_input": "2021-11-28T20:35:09.007714Z",
     "iopub.status.busy": "2021-11-28T20:35:09.007022Z",
     "iopub.status.idle": "2021-11-28T20:35:09.039547Z",
     "shell.execute_reply": "2021-11-28T20:35:09.040164Z",
     "shell.execute_reply.started": "2021-11-28T20:29:24.313309Z"
    },
    "papermill": {
     "duration": 0.091963,
     "end_time": "2021-11-28T20:35:09.040360",
     "exception": false,
     "start_time": "2021-11-28T20:35:08.948397",
     "status": "completed"
    },
    "scrolled": true,
    "tags": []
   },
   "outputs": [
    {
     "name": "stdout",
     "output_type": "stream",
     "text": [
      "<class 'pandas.core.frame.DataFrame'>\n",
      "RangeIndex: 16715 entries, 0 to 16714\n",
      "Data columns (total 11 columns):\n",
      " #   Column           Non-Null Count  Dtype  \n",
      "---  ------           --------------  -----  \n",
      " 0   name             16713 non-null  object \n",
      " 1   platform         16715 non-null  object \n",
      " 2   year_of_release  16446 non-null  Int64  \n",
      " 3   genre            16713 non-null  object \n",
      " 4   na_sales         16715 non-null  float64\n",
      " 5   eu_sales         16715 non-null  float64\n",
      " 6   jp_sales         16715 non-null  float64\n",
      " 7   other_sales      16715 non-null  float64\n",
      " 8   critic_score     8137 non-null   float64\n",
      " 9   user_score       7590 non-null   float64\n",
      " 10  rating           9949 non-null   object \n",
      "dtypes: Int64(1), float64(6), object(4)\n",
      "memory usage: 1.4+ MB\n"
     ]
    }
   ],
   "source": [
    "df.loc[df['user_score'] =='tbd','user_score'] = np.nan\n",
    "df['user_score'] = df['user_score'].astype('float')\n",
    "df['year_of_release'] = df['year_of_release'].astype('Int64') # Используем Int64 чтобы изменить тип несмотря на пропуски\n",
    "df.info()"
   ]
  },
  {
   "cell_type": "markdown",
   "id": "466be07d",
   "metadata": {
    "papermill": {
     "duration": 0.054227,
     "end_time": "2021-11-28T20:35:09.150074",
     "exception": false,
     "start_time": "2021-11-28T20:35:09.095847",
     "status": "completed"
    },
    "tags": []
   },
   "source": [
    "Выясним, есть ли значения 'tbd' в столбце 'rating', т.к. он тоже содержит текстовые данные; при необходимости заменим 'tbd' на NaN."
   ]
  },
  {
   "cell_type": "code",
   "execution_count": 6,
   "id": "b48571a5",
   "metadata": {
    "execution": {
     "iopub.execute_input": "2021-11-28T20:35:09.262640Z",
     "iopub.status.busy": "2021-11-28T20:35:09.261994Z",
     "iopub.status.idle": "2021-11-28T20:35:09.271233Z",
     "shell.execute_reply": "2021-11-28T20:35:09.271856Z",
     "shell.execute_reply.started": "2021-11-28T20:29:24.351681Z"
    },
    "papermill": {
     "duration": 0.067415,
     "end_time": "2021-11-28T20:35:09.272022",
     "exception": false,
     "start_time": "2021-11-28T20:35:09.204607",
     "status": "completed"
    },
    "tags": []
   },
   "outputs": [
    {
     "name": "stdout",
     "output_type": "stream",
     "text": [
      "0\n"
     ]
    }
   ],
   "source": [
    "print(df.loc[df['rating'] =='tbd', 'rating'].count())"
   ]
  },
  {
   "cell_type": "markdown",
   "id": "a44f4f20",
   "metadata": {
    "papermill": {
     "duration": 0.054398,
     "end_time": "2021-11-28T20:35:09.381230",
     "exception": false,
     "start_time": "2021-11-28T20:35:09.326832",
     "status": "completed"
    },
    "tags": []
   },
   "source": [
    "**Пропуски** содержатся в столбцах с **описанием** видеоигры, таких как название, год выпуска, жанр, и в столбцах с **рейтингами**.\n",
    "\n",
    "+ Пропуски в столбцах с рейтингами многочисленны и составляют бóльшую часть всех значений рейтингов, они могут быть связаны с отсутствием данных. При таком условии будет некорректно заполнять их медианными значениями, даже разбив на категории. Удалять такой большой массив данных мы не можем.\n",
    "+ Пропуски в столбцах c описанием относительно немногочисленны и могут быть связаны с ошибками при сборе даных. Пропуски в названиях и жанре мы не можем корректно заполнить. Удалить мы их тоже не можем, так как пропадут нужные для исследования данные. На этом этапе сохраним пропуски в этих столбцах.\n",
    "+ Обработать некоторые пропуски в столбце с годом выпуска представляется возможным. Как правило игра выходит на разных платформах с небольшим временным интервалом. Используем медиану годов выпуска каждой игры на всех платформах, чтобы заполнить часть пропусков."
   ]
  },
  {
   "cell_type": "code",
   "execution_count": 7,
   "id": "6d18d7e5",
   "metadata": {
    "execution": {
     "iopub.execute_input": "2021-11-28T20:35:09.495186Z",
     "iopub.status.busy": "2021-11-28T20:35:09.494180Z",
     "iopub.status.idle": "2021-11-28T20:35:09.534647Z",
     "shell.execute_reply": "2021-11-28T20:35:09.535161Z",
     "shell.execute_reply.started": "2021-11-28T20:29:24.36181Z"
    },
    "papermill": {
     "duration": 0.099329,
     "end_time": "2021-11-28T20:35:09.535351",
     "exception": false,
     "start_time": "2021-11-28T20:35:09.436022",
     "status": "completed"
    },
    "tags": []
   },
   "outputs": [],
   "source": [
    "# Группируем данные по именам и платформам, заменяем пропуски на медианы в столбце 'year_of_release'\n",
    "df['year_of_release'] = df['year_of_release'].fillna(df.groupby(['name', 'platform'])['year_of_release'].transform('median'))"
   ]
  },
  {
   "cell_type": "markdown",
   "id": "05c56273",
   "metadata": {
    "papermill": {
     "duration": 0.055418,
     "end_time": "2021-11-28T20:35:09.646155",
     "exception": false,
     "start_time": "2021-11-28T20:35:09.590737",
     "status": "completed"
    },
    "tags": []
   },
   "source": [
    "Проверим данные на дубликаты."
   ]
  },
  {
   "cell_type": "code",
   "execution_count": 8,
   "id": "ec70c522",
   "metadata": {
    "execution": {
     "iopub.execute_input": "2021-11-28T20:35:09.768137Z",
     "iopub.status.busy": "2021-11-28T20:35:09.767406Z",
     "iopub.status.idle": "2021-11-28T20:35:09.789833Z",
     "shell.execute_reply": "2021-11-28T20:35:09.790434Z",
     "shell.execute_reply.started": "2021-11-28T20:29:24.413524Z"
    },
    "papermill": {
     "duration": 0.089448,
     "end_time": "2021-11-28T20:35:09.790638",
     "exception": false,
     "start_time": "2021-11-28T20:35:09.701190",
     "status": "completed"
    },
    "tags": []
   },
   "outputs": [
    {
     "data": {
      "text/plain": [
       "0"
      ]
     },
     "execution_count": 8,
     "metadata": {},
     "output_type": "execute_result"
    }
   ],
   "source": [
    "df.duplicated().sum()"
   ]
  },
  {
   "cell_type": "markdown",
   "id": "13c136cc",
   "metadata": {
    "papermill": {
     "duration": 0.058181,
     "end_time": "2021-11-28T20:35:09.905478",
     "exception": false,
     "start_time": "2021-11-28T20:35:09.847297",
     "status": "completed"
    },
    "tags": []
   },
   "source": [
    "Посчитаем суммарные продажи во всех регионах, добавим соответствующий столбец."
   ]
  },
  {
   "cell_type": "code",
   "execution_count": 9,
   "id": "bb561af9",
   "metadata": {
    "execution": {
     "iopub.execute_input": "2021-11-28T20:35:10.023221Z",
     "iopub.status.busy": "2021-11-28T20:35:10.022230Z",
     "iopub.status.idle": "2021-11-28T20:35:10.047235Z",
     "shell.execute_reply": "2021-11-28T20:35:10.047780Z",
     "shell.execute_reply.started": "2021-11-28T20:29:24.44175Z"
    },
    "papermill": {
     "duration": 0.085425,
     "end_time": "2021-11-28T20:35:10.047967",
     "exception": false,
     "start_time": "2021-11-28T20:35:09.962542",
     "status": "completed"
    },
    "tags": []
   },
   "outputs": [],
   "source": [
    "df['total_sales'] = df['na_sales'] + df['eu_sales'] + df['jp_sales'] + df['other_sales']\n",
    "df['not_jp_sales'] = df['total_sales'] - df['jp_sales'] # Потребуется в исследовании"
   ]
  },
  {
   "cell_type": "markdown",
   "id": "4807e195",
   "metadata": {
    "papermill": {
     "duration": 0.055105,
     "end_time": "2021-11-28T20:35:10.158390",
     "exception": false,
     "start_time": "2021-11-28T20:35:10.103285",
     "status": "completed"
    },
    "tags": []
   },
   "source": [
    "### Вывод\n",
    "В рамках предобработки данных мы привели названия столбцов к одному регистру, изменили тип данных там, где это было необходимо. Изучив характер пропусков, мы решили их не обрабатывать, но изменили значения 'tbd' на NaN для пользовательского рейтинга. Кроме того, мы проверили данные на дубликаты, и вычислили суммарные продажи во всех регионах, добавив при этом соответствующий столбец."
   ]
  },
  {
   "cell_type": "markdown",
   "id": "6db1e015",
   "metadata": {
    "papermill": {
     "duration": 0.055277,
     "end_time": "2021-11-28T20:35:10.269334",
     "exception": false,
     "start_time": "2021-11-28T20:35:10.214057",
     "status": "completed"
    },
    "tags": []
   },
   "source": [
    "# 3. Исследовательский анализ данных"
   ]
  },
  {
   "cell_type": "markdown",
   "id": "3746ab98",
   "metadata": {
    "papermill": {
     "duration": 0.055362,
     "end_time": "2021-11-28T20:35:10.380224",
     "exception": false,
     "start_time": "2021-11-28T20:35:10.324862",
     "status": "completed"
    },
    "tags": []
   },
   "source": [
    "Выясним, сколько игр выпускалось за разные годы."
   ]
  },
  {
   "cell_type": "code",
   "execution_count": 10,
   "id": "5b784198",
   "metadata": {
    "execution": {
     "iopub.execute_input": "2021-11-28T20:35:10.495470Z",
     "iopub.status.busy": "2021-11-28T20:35:10.494498Z",
     "iopub.status.idle": "2021-11-28T20:35:11.079646Z",
     "shell.execute_reply": "2021-11-28T20:35:11.080126Z",
     "shell.execute_reply.started": "2021-11-28T20:29:24.468165Z"
    },
    "papermill": {
     "duration": 0.644144,
     "end_time": "2021-11-28T20:35:11.080308",
     "exception": false,
     "start_time": "2021-11-28T20:35:10.436164",
     "status": "completed"
    },
    "tags": []
   },
   "outputs": [
    {
     "data": {
      "image/png": "[encoded data removed]",
      "text/plain": [
       "<Figure size 1440x576 with 1 Axes>"
      ]
     },
     "metadata": {
      "needs_background": "light"
     },
     "output_type": "display_data"
    }
   ],
   "source": [
    "grouped_by_year = df.pivot_table(index='year_of_release', values='platform', aggfunc='count') # Создаем таблицу с группировкой данных по годам\n",
    "\n",
    "plt.figure(figsize=[20,8]) # Строим гистограмму\n",
    "ax=sns.barplot(data=grouped_by_year, x=grouped_by_year.index, y=\"platform\")\n",
    "ax.axes.set_title('Выпущенно игр за год',fontsize=20)\n",
    "ax.set_xlabel('Год',fontsize=20)\n",
    "ax.set_ylabel('Количество игр',fontsize=20)\n",
    "ax.tick_params(labelsize=10)\n",
    "ax.yaxis.grid(True)"
   ]
  },
  {
   "cell_type": "markdown",
   "id": "1ea007c2",
   "metadata": {
    "papermill": {
     "duration": 0.056009,
     "end_time": "2021-11-28T20:35:11.192780",
     "exception": false,
     "start_time": "2021-11-28T20:35:11.136771",
     "status": "completed"
    },
    "tags": []
   },
   "source": [
    "Как видим, в исследовании целесообразно использовать данные начиная **с 1994 года**."
   ]
  },
  {
   "cell_type": "markdown",
   "id": "86798e38",
   "metadata": {
    "papermill": {
     "duration": 0.056076,
     "end_time": "2021-11-28T20:35:11.305728",
     "exception": false,
     "start_time": "2021-11-28T20:35:11.249652",
     "status": "completed"
    },
    "tags": []
   },
   "source": [
    "**Популярные платформы**\n",
    "\n",
    "Выясним, на каких платформах было продано больше всего игр."
   ]
  },
  {
   "cell_type": "code",
   "execution_count": 11,
   "id": "3eae923c",
   "metadata": {
    "execution": {
     "iopub.execute_input": "2021-11-28T20:35:11.422862Z",
     "iopub.status.busy": "2021-11-28T20:35:11.421857Z",
     "iopub.status.idle": "2021-11-28T20:35:11.912332Z",
     "shell.execute_reply": "2021-11-28T20:35:11.911655Z",
     "shell.execute_reply.started": "2021-11-28T20:29:25.098049Z"
    },
    "papermill": {
     "duration": 0.55027,
     "end_time": "2021-11-28T20:35:11.912499",
     "exception": false,
     "start_time": "2021-11-28T20:35:11.362229",
     "status": "completed"
    },
    "tags": []
   },
   "outputs": [
    {
     "data": {
      "image/png": "[encoded data removed]",
      "text/plain": [
       "<Figure size 1440x576 with 1 Axes>"
      ]
     },
     "metadata": {
      "needs_background": "light"
     },
     "output_type": "display_data"
    }
   ],
   "source": [
    "# Группируем данные по платформам, суммируем продажи\n",
    "grouped_by_platform = df.pivot_table(index='platform', values='total_sales', aggfunc='sum').sort_values(by='total_sales')\n",
    "\n",
    "plt.figure(figsize=[20,8]) # Строим гистограмму\n",
    "ax=sns.barplot(data=grouped_by_platform, x=grouped_by_platform.index, y=\"total_sales\")\n",
    "ax.axes.set_title('Игровые платформы',fontsize=20)\n",
    "ax.set_xlabel('Платформа',fontsize=20)\n",
    "ax.set_ylabel('Продано копий, млн.',fontsize=20)\n",
    "ax.tick_params(labelsize=15)\n",
    "ax.yaxis.grid(True)"
   ]
  },
  {
   "cell_type": "markdown",
   "id": "c992caff",
   "metadata": {
    "papermill": {
     "duration": 0.058943,
     "end_time": "2021-11-28T20:35:12.029969",
     "exception": false,
     "start_time": "2021-11-28T20:35:11.971026",
     "status": "completed"
    },
    "tags": []
   },
   "source": [
    "Выделим 6 самых популярных игровых платформ:\n",
    "1. PS2\n",
    "2. X360\n",
    "3. PS3\n",
    "4. Wii\n",
    "5. DS\n",
    "6. PS\n",
    "\n",
    "Выясним, как менялись продажи по платформам с течением времени. "
   ]
  },
  {
   "cell_type": "code",
   "execution_count": 12,
   "id": "da008d7a",
   "metadata": {
    "execution": {
     "iopub.execute_input": "2021-11-28T20:35:12.155144Z",
     "iopub.status.busy": "2021-11-28T20:35:12.154426Z",
     "iopub.status.idle": "2021-11-28T20:35:13.038068Z",
     "shell.execute_reply": "2021-11-28T20:35:13.038784Z",
     "shell.execute_reply.started": "2021-11-28T20:29:25.587224Z"
    },
    "papermill": {
     "duration": 0.950981,
     "end_time": "2021-11-28T20:35:13.038993",
     "exception": false,
     "start_time": "2021-11-28T20:35:12.088012",
     "status": "completed"
    },
    "tags": []
   },
   "outputs": [
    {
     "data": {
      "image/png": "[encoded data removed]",
      "text/plain": [
       "<Figure size 1440x576 with 1 Axes>"
      ]
     },
     "metadata": {
      "needs_background": "light"
     },
     "output_type": "display_data"
    }
   ],
   "source": [
    "# Группируем данные по годам и платформам и считаем суммарные продажи, затем выбираем самые популярные платформы.\n",
    "platform_by_years = df.pivot_table(index=['year_of_release','platform'], values='total_sales', aggfunc='sum')\n",
    "platform_by_years.reset_index(inplace=True)\n",
    "top_platforms = platform_by_years[platform_by_years['platform'].isin(['PS2', 'X360', 'PS3', 'Wii', 'DS', 'PS'])]\n",
    "# Строим график\n",
    "plt.figure(figsize=[20,8])\n",
    "ax=sns.barplot(data=top_platforms, x='year_of_release', y='total_sales', hue='platform')\n",
    "ax.axes.set_title('Популярные игровые платформы',fontsize=20)\n",
    "ax.set_xlabel('Год',fontsize=20)\n",
    "ax.set_ylabel('Продано копий, млн.',fontsize=20)\n",
    "ax.set(xlim=(1, 23))\n",
    "ax.tick_params(labelsize=15)\n",
    "ax.yaxis.grid(True)\n",
    "plt.legend(loc='upper right', prop={'size': 17})\n",
    "plt.show()"
   ]
  },
  {
   "cell_type": "markdown",
   "id": "35df84d6",
   "metadata": {
    "papermill": {
     "duration": 0.059474,
     "end_time": "2021-11-28T20:35:13.159792",
     "exception": false,
     "start_time": "2021-11-28T20:35:13.100318",
     "status": "completed"
    },
    "tags": []
   },
   "source": [
    "**Актуальный период**\n",
    "\n",
    "Как видим, у каждой игровой платформы есть **срок жизни**, который составляет в среднем около **10 лет**, причем, как правило, первую половину этого периода продажи растут, а вторую половину - падают. Также отметим, что на 2016 год самые успешные платформы практически полностью потеряли свою актуальность. Проверим, правильно ли мы визуально определили среднее время жизни популярных платформ."
   ]
  },
  {
   "cell_type": "code",
   "execution_count": 13,
   "id": "835f1177",
   "metadata": {
    "execution": {
     "iopub.execute_input": "2021-11-28T20:35:13.282523Z",
     "iopub.status.busy": "2021-11-28T20:35:13.281835Z",
     "iopub.status.idle": "2021-11-28T20:35:13.301818Z",
     "shell.execute_reply": "2021-11-28T20:35:13.302386Z",
     "shell.execute_reply.started": "2021-11-28T20:29:26.485965Z"
    },
    "papermill": {
     "duration": 0.083273,
     "end_time": "2021-11-28T20:35:13.302570",
     "exception": false,
     "start_time": "2021-11-28T20:35:13.219297",
     "status": "completed"
    },
    "tags": []
   },
   "outputs": [
    {
     "data": {
      "text/plain": [
       "year_of_release    10.5\n",
       "dtype: float64"
      ]
     },
     "execution_count": 13,
     "metadata": {},
     "output_type": "execute_result"
    }
   ],
   "source": [
    "def period(years): # Напишем функцию, которая считает период\n",
    "    result = years.max()-years.min()\n",
    "    return result\n",
    "# Сгруппируем данные по годам, посчитаем срок жизни каждой платформы и найдем медиану этих значений    \n",
    "platforms_lifetime = top_platforms.pivot_table(index='platform', values='year_of_release', aggfunc=period)\n",
    "platforms_lifetime.median()"
   ]
  },
  {
   "cell_type": "markdown",
   "id": "866f1120",
   "metadata": {
    "papermill": {
     "duration": 0.059494,
     "end_time": "2021-11-28T20:35:13.421847",
     "exception": false,
     "start_time": "2021-11-28T20:35:13.362353",
     "status": "completed"
    },
    "tags": []
   },
   "source": [
    "Будем считать 10 лет средним сроком жизни успешной платформы. Так как первую половину этого периода продажи платформы растут, а вторую половину - падают, то для поиска перспективных платформ целесообразно рассматривать период **5 лет**. Будем считать это **актуальным периодом**, на основании данных которого можно строить проноз. В  дальнейшем исследовании будем рассматривать период **с 2011 по 2016** годы, так как данные за 2016 год могут быть неполными.\n",
    "\n",
    "**Перспективные платформы**\n",
    "\n",
    "Мы выяснили, что на 2016 год топ-6 успешных платформ практически перестали продаваться. Рассмотрим актуальный период и попытаемся найти перспективные платформы."
   ]
  },
  {
   "cell_type": "code",
   "execution_count": 14,
   "id": "9952d0af",
   "metadata": {
    "execution": {
     "iopub.execute_input": "2021-11-28T20:35:13.546442Z",
     "iopub.status.busy": "2021-11-28T20:35:13.545682Z",
     "iopub.status.idle": "2021-11-28T20:35:14.145105Z",
     "shell.execute_reply": "2021-11-28T20:35:14.144548Z",
     "shell.execute_reply.started": "2021-11-28T20:29:26.507641Z"
    },
    "papermill": {
     "duration": 0.662342,
     "end_time": "2021-11-28T20:35:14.145260",
     "exception": false,
     "start_time": "2021-11-28T20:35:13.482918",
     "status": "completed"
    },
    "tags": []
   },
   "outputs": [
    {
     "data": {
      "image/png": "[encoded data removed]",
      "text/plain": [
       "<Figure size 1080x576 with 1 Axes>"
      ]
     },
     "metadata": {
      "needs_background": "light"
     },
     "output_type": "display_data"
    }
   ],
   "source": [
    "actual_df=df.loc[df['year_of_release'] >= 2011] # Общий датафрейм с актуальным периодом, потребуется в исследовании\n",
    "# Ограничиваем год выпуска и исключаем уже рассмотренные платформы\n",
    "platform_by_years = platform_by_years.loc[platform_by_years['year_of_release'] >= 2011]\n",
    "promising_platforms = platform_by_years.loc[~platform_by_years['platform'].isin(['PS2', 'X360', 'PS3', 'Wii', 'DS', 'PS'])]\n",
    "# Строим график\n",
    "plt.figure(figsize=[15,8])\n",
    "ax=sns.barplot(data=promising_platforms, x='year_of_release', y='total_sales', hue='platform')\n",
    "ax.axes.set_title('Перспективные игровые платформы',fontsize=20)\n",
    "ax.set_xlabel('Год',fontsize=20)\n",
    "ax.set_ylabel('Продано игр, млн.',fontsize=20)\n",
    "ax.set(xlim=(-0.5, 5.5))\n",
    "ax.tick_params(labelsize=15)\n",
    "ax.yaxis.grid(True)\n",
    "plt.legend(loc='upper right', prop={'size': 17})\n",
    "plt.show()"
   ]
  },
  {
   "cell_type": "markdown",
   "id": "08a29b18",
   "metadata": {
    "papermill": {
     "duration": 0.061274,
     "end_time": "2021-11-28T20:35:14.269126",
     "exception": false,
     "start_time": "2021-11-28T20:35:14.207852",
     "status": "completed"
    },
    "tags": []
   },
   "source": [
    "Как видим, имеется две перспективные ировые платформы. **PS4 и XOne** выходят на рынок в 2013 году и непрерывно наращивают продажи (данные за 2016 год моут быть неполными). Если учесть, что средний срок жизни популярной платформы составляет около 10 лет, то в 2017 году PS4 и XOne как раз могут выйти на пик популярности. Хотя продажи **3DS** снижаются, они все же сохраняются на относительно высоком уровне, будем считать эту платформу актуальной."
   ]
  },
  {
   "cell_type": "markdown",
   "id": "7927210e",
   "metadata": {
    "papermill": {
     "duration": 0.062165,
     "end_time": "2021-11-28T20:35:14.394100",
     "exception": false,
     "start_time": "2021-11-28T20:35:14.331935",
     "status": "completed"
    },
    "tags": []
   },
   "source": [
    "Построим диаграммы размаха для продаж всех игровых платформ за актуальный период. <a id='boxplot'></a>"
   ]
  },
  {
   "cell_type": "code",
   "execution_count": 15,
   "id": "c72d591a",
   "metadata": {
    "execution": {
     "iopub.execute_input": "2021-11-28T20:35:14.525325Z",
     "iopub.status.busy": "2021-11-28T20:35:14.521380Z",
     "iopub.status.idle": "2021-11-28T20:35:14.920956Z",
     "shell.execute_reply": "2021-11-28T20:35:14.920374Z",
     "shell.execute_reply.started": "2021-11-28T20:29:27.033213Z"
    },
    "papermill": {
     "duration": 0.464222,
     "end_time": "2021-11-28T20:35:14.921103",
     "exception": false,
     "start_time": "2021-11-28T20:35:14.456881",
     "status": "completed"
    },
    "scrolled": true,
    "tags": []
   },
   "outputs": [
    {
     "data": {
      "image/png": "[encoded data removed]",
      "text/plain": [
       "<Figure size 1080x576 with 1 Axes>"
      ]
     },
     "metadata": {
      "needs_background": "light"
     },
     "output_type": "display_data"
    }
   ],
   "source": [
    "plt.figure(figsize=(15,8))\n",
    "sns.boxplot(x='platform', y='total_sales', data=actual_df)\n",
    "plt.title('Диаграммы размаха по платформам', fontsize=20)\n",
    "plt.xlabel('Платформа',fontsize=20)\n",
    "plt.ylabel('Продано копий, млн.',fontsize=20)\n",
    "plt.grid(axis='y')\n",
    "plt.ylim(0,3)\n",
    "plt.show()"
   ]
  },
  {
   "cell_type": "markdown",
   "id": "caf6881f",
   "metadata": {
    "papermill": {
     "duration": 0.065335,
     "end_time": "2021-11-28T20:35:15.052097",
     "exception": false,
     "start_time": "2021-11-28T20:35:14.986762",
     "status": "completed"
    },
    "tags": []
   },
   "source": [
    "Практически для всех платформ данные распределены несимметрично. Также наблюдаем большое количество выбросов. Это говорит о наличии бестселлеров - игр, которые продаются гораздо более массово других. Для платформ с особенно большим количеством выбросов, например 3DS, можно предположить, что значительная часть продаж осуществляется именно за счет бестселлеров. В то же время длинный \"ящик\" и \"ус\" в сочетании с относительно малым количеством выбросов, например у XOne, говорит нам о том, что пользователи покупают самые разные игры на этой платформе.\n",
    "\n",
    "Рассмотрим лидеров по суммарным продажам."
   ]
  },
  {
   "cell_type": "code",
   "execution_count": 16,
   "id": "54103060",
   "metadata": {
    "execution": {
     "iopub.execute_input": "2021-11-28T20:35:15.182102Z",
     "iopub.status.busy": "2021-11-28T20:35:15.181290Z",
     "iopub.status.idle": "2021-11-28T20:35:15.200514Z",
     "shell.execute_reply": "2021-11-28T20:35:15.201104Z",
     "shell.execute_reply.started": "2021-11-28T20:29:27.409357Z"
    },
    "papermill": {
     "duration": 0.085311,
     "end_time": "2021-11-28T20:35:15.201290",
     "exception": false,
     "start_time": "2021-11-28T20:35:15.115979",
     "status": "completed"
    },
    "tags": []
   },
   "outputs": [
    {
     "data": {
      "text/html": [
       "<div>\n",
       "<style scoped>\n",
       "    .dataframe tbody tr th:only-of-type {\n",
       "        vertical-align: middle;\n",
       "    }\n",
       "\n",
       "    .dataframe tbody tr th {\n",
       "        vertical-align: top;\n",
       "    }\n",
       "\n",
       "    .dataframe thead th {\n",
       "        text-align: right;\n",
       "    }\n",
       "</style>\n",
       "<table border=\"1\" class=\"dataframe\">\n",
       "  <thead>\n",
       "    <tr style=\"text-align: right;\">\n",
       "      <th></th>\n",
       "      <th>total_sales</th>\n",
       "    </tr>\n",
       "    <tr>\n",
       "      <th>platform</th>\n",
       "      <th></th>\n",
       "    </tr>\n",
       "  </thead>\n",
       "  <tbody>\n",
       "    <tr>\n",
       "      <th>PS4</th>\n",
       "      <td>84.625</td>\n",
       "    </tr>\n",
       "    <tr>\n",
       "      <th>PS3</th>\n",
       "      <td>77.560</td>\n",
       "    </tr>\n",
       "    <tr>\n",
       "      <th>X360</th>\n",
       "      <td>61.660</td>\n",
       "    </tr>\n",
       "    <tr>\n",
       "      <th>3DS</th>\n",
       "      <td>47.560</td>\n",
       "    </tr>\n",
       "    <tr>\n",
       "      <th>XOne</th>\n",
       "      <td>40.110</td>\n",
       "    </tr>\n",
       "    <tr>\n",
       "      <th>WiiU</th>\n",
       "      <td>17.560</td>\n",
       "    </tr>\n",
       "    <tr>\n",
       "      <th>PC</th>\n",
       "      <td>12.830</td>\n",
       "    </tr>\n",
       "    <tr>\n",
       "      <th>DS</th>\n",
       "      <td>11.010</td>\n",
       "    </tr>\n",
       "    <tr>\n",
       "      <th>PSV</th>\n",
       "      <td>8.420</td>\n",
       "    </tr>\n",
       "    <tr>\n",
       "      <th>Wii</th>\n",
       "      <td>6.170</td>\n",
       "    </tr>\n",
       "    <tr>\n",
       "      <th>PSP</th>\n",
       "      <td>3.140</td>\n",
       "    </tr>\n",
       "    <tr>\n",
       "      <th>PS2</th>\n",
       "      <td>0.450</td>\n",
       "    </tr>\n",
       "  </tbody>\n",
       "</table>\n",
       "</div>"
      ],
      "text/plain": [
       "          total_sales\n",
       "platform             \n",
       "PS4            84.625\n",
       "PS3            77.560\n",
       "X360           61.660\n",
       "3DS            47.560\n",
       "XOne           40.110\n",
       "WiiU           17.560\n",
       "PC             12.830\n",
       "DS             11.010\n",
       "PSV             8.420\n",
       "Wii             6.170\n",
       "PSP             3.140\n",
       "PS2             0.450"
      ]
     },
     "execution_count": 16,
     "metadata": {},
     "output_type": "execute_result"
    }
   ],
   "source": [
    "platform_by_years.pivot_table(index='platform', values='total_sales', aggfunc='median').sort_values(by='total_sales', ascending=False)"
   ]
  },
  {
   "cell_type": "markdown",
   "id": "5945dbf5",
   "metadata": {
    "papermill": {
     "duration": 0.062616,
     "end_time": "2021-11-28T20:35:15.326340",
     "exception": false,
     "start_time": "2021-11-28T20:35:15.263724",
     "status": "completed"
    },
    "tags": []
   },
   "source": [
    "За актуальный период лидерами по продажам являются PS3, X360, PS4, 3DS и XOne. Как выясняется, лидерство по продажам за период еще не означает перспективность платформы."
   ]
  },
  {
   "cell_type": "markdown",
   "id": "e8b20f6d",
   "metadata": {
    "papermill": {
     "duration": 0.062882,
     "end_time": "2021-11-28T20:35:15.452865",
     "exception": false,
     "start_time": "2021-11-28T20:35:15.389983",
     "status": "completed"
    },
    "tags": []
   },
   "source": [
    "**Влияние отзывов на продажи** <a id='scores'></a>\n",
    "\n",
    "Как мы помним, в актуальный период одними из лидеров по продажам были платформы PS3 и PS4, причем в рассмотренный период продажи PS4 росли, а PS3 - падали. Выясним, как влияли отзывы критиков и пользователей на продажи этих платформ. Для этого построим диаграммы рассеяния и посчитаем корреляцию между отзывами и продажами."
   ]
  },
  {
   "cell_type": "code",
   "execution_count": 17,
   "id": "36722eae",
   "metadata": {
    "execution": {
     "iopub.execute_input": "2021-11-28T20:35:15.583701Z",
     "iopub.status.busy": "2021-11-28T20:35:15.582998Z",
     "iopub.status.idle": "2021-11-28T20:35:16.477917Z",
     "shell.execute_reply": "2021-11-28T20:35:16.478494Z",
     "shell.execute_reply.started": "2021-11-28T20:29:27.430059Z"
    },
    "papermill": {
     "duration": 0.962673,
     "end_time": "2021-11-28T20:35:16.478695",
     "exception": false,
     "start_time": "2021-11-28T20:35:15.516022",
     "status": "completed"
    },
    "tags": []
   },
   "outputs": [
    {
     "data": {
      "image/png": "[encoded data removed]",
      "text/plain": [
       "<Figure size 576x288 with 2 Axes>"
      ]
     },
     "metadata": {
      "needs_background": "light"
     },
     "output_type": "display_data"
    },
    {
     "data": {
      "image/png": "[encoded data removed]",
      "text/plain": [
       "<Figure size 576x288 with 2 Axes>"
      ]
     },
     "metadata": {
      "needs_background": "light"
     },
     "output_type": "display_data"
    }
   ],
   "source": [
    "ps3_ratings = actual_df.loc[actual_df['platform'] == 'PS3'] # Создаем датафреймы с платформами\n",
    "ps4_ratings = actual_df.loc[actual_df['platform'] == 'PS4']\n",
    "# Строим графики\n",
    "ax=sns.pairplot(\n",
    "    ps3_ratings,\n",
    "    x_vars=['critic_score', 'user_score'],\n",
    "    y_vars=['total_sales'],\n",
    "    height=4,\n",
    "    plot_kws={'alpha':0.5, 'color':'r'},\n",
    "    )\n",
    "ax.fig.suptitle(\"PS3\", y=1.05, fontsize=20)\n",
    "plt.show()\n",
    "\n",
    "ax=sns.pairplot(\n",
    "    ps4_ratings,\n",
    "    x_vars=['critic_score', 'user_score'],\n",
    "    y_vars=['total_sales'],\n",
    "    height=4,\n",
    "    plot_kws={'alpha':0.5, 'color':'g'},\n",
    "    )\n",
    "ax.fig.suptitle(\"PS4\", y=1.05, fontsize=20)\n",
    "plt.show()"
   ]
  },
  {
   "cell_type": "markdown",
   "id": "331dbff2",
   "metadata": {
    "papermill": {
     "duration": 0.066547,
     "end_time": "2021-11-28T20:35:16.612489",
     "exception": false,
     "start_time": "2021-11-28T20:35:16.545942",
     "status": "completed"
    },
    "tags": []
   },
   "source": [
    "Посчитаем и визуализируем корреляцию с помощью тепловой карты."
   ]
  },
  {
   "cell_type": "code",
   "execution_count": 18,
   "id": "08541a23",
   "metadata": {
    "execution": {
     "iopub.execute_input": "2021-11-28T20:35:16.748502Z",
     "iopub.status.busy": "2021-11-28T20:35:16.747717Z",
     "iopub.status.idle": "2021-11-28T20:35:17.250054Z",
     "shell.execute_reply": "2021-11-28T20:35:17.250525Z",
     "shell.execute_reply.started": "2021-11-28T20:29:28.286683Z"
    },
    "papermill": {
     "duration": 0.57202,
     "end_time": "2021-11-28T20:35:17.250728",
     "exception": false,
     "start_time": "2021-11-28T20:35:16.678708",
     "status": "completed"
    },
    "tags": []
   },
   "outputs": [
    {
     "data": {
      "image/png": "[encoded data removed]",
      "text/plain": [
       "<Figure size 936x360 with 4 Axes>"
      ]
     },
     "metadata": {
      "needs_background": "light"
     },
     "output_type": "display_data"
    }
   ],
   "source": [
    "heatmap_data_ps3=ps3_ratings[['critic_score', 'user_score', 'total_sales']] # Подготовим датафреймы для тепловых карт\n",
    "heatmap_data_ps4=ps4_ratings[['critic_score', 'user_score', 'total_sales']]\n",
    "# Строим тепловые карты\n",
    "fig = plt.figure(figsize=(13,5))\n",
    "fig.subplots_adjust(wspace=0.2)\n",
    "ax1 = fig.add_subplot(1,2,1)\n",
    "ax2 = fig.add_subplot(1,2,2)\n",
    "sns.heatmap(heatmap_data_ps3.corr(), ax=ax1, cmap='Reds', annot=True)\n",
    "sns.heatmap(heatmap_data_ps4.corr(), ax=ax2, cmap='Greens', annot=True)\n",
    "ax1.set_title('PS3', fontsize=20)\n",
    "ax2.set_title('PS4', fontsize=20)\n",
    "plt.show()"
   ]
  },
  {
   "cell_type": "markdown",
   "id": "adc4263e",
   "metadata": {
    "papermill": {
     "duration": 0.065962,
     "end_time": "2021-11-28T20:35:17.383379",
     "exception": false,
     "start_time": "2021-11-28T20:35:17.317417",
     "status": "completed"
    },
    "tags": []
   },
   "source": [
    "Как видим, в обоих случаях продажи прямо коррелируют с отзывами критиков, а вот между продажами и отзывами пользователей связи практически нет."
   ]
  },
  {
   "cell_type": "markdown",
   "id": "efb435b9",
   "metadata": {
    "papermill": {
     "duration": 0.066302,
     "end_time": "2021-11-28T20:35:17.515880",
     "exception": false,
     "start_time": "2021-11-28T20:35:17.449578",
     "status": "completed"
    },
    "tags": []
   },
   "source": [
    "Посчитаем и визуализируем корреляцию для других популярных в актуальный период платформ: "
   ]
  },
  {
   "cell_type": "code",
   "execution_count": 19,
   "id": "9dd909b5",
   "metadata": {
    "execution": {
     "iopub.execute_input": "2021-11-28T20:35:17.660349Z",
     "iopub.status.busy": "2021-11-28T20:35:17.659541Z",
     "iopub.status.idle": "2021-11-28T20:35:19.383447Z",
     "shell.execute_reply": "2021-11-28T20:35:19.384001Z",
     "shell.execute_reply.started": "2021-11-28T20:29:28.788493Z"
    },
    "papermill": {
     "duration": 1.802199,
     "end_time": "2021-11-28T20:35:19.384208",
     "exception": false,
     "start_time": "2021-11-28T20:35:17.582009",
     "status": "completed"
    },
    "tags": []
   },
   "outputs": [
    {
     "data": {
      "image/png": "[encoded data removed]",
      "text/plain": [
       "<Figure size 1080x576 with 12 Axes>"
      ]
     },
     "metadata": {
      "needs_background": "light"
     },
     "output_type": "display_data"
    }
   ],
   "source": [
    "platforms=['X360', '3DS', 'XOne', 'PC', 'Wii', 'WiiU'] # Укажем несколько других популярных платформ за период\n",
    "heat_colors=['Greens', 'Blues', 'Reds', 'magma', 'summer', 'twilight'] # Пусть тепловые карты будут разных цветов\n",
    "n=0 # Счетчик порядкового номера положения графика и цвета в heat_colors\n",
    "\n",
    "fig = plt.figure(figsize=(15,8))\n",
    "for platform in platforms:\n",
    "    temp_df=actual_df.loc[actual_df['platform'] == platform]\n",
    "    heatmap_temp = temp_df[['critic_score', 'user_score', 'total_sales']]\n",
    "    plt.subplot(2, 3, n+1)\n",
    "    sns.heatmap(heatmap_temp.corr(), cmap=heat_colors[n], annot=True)\n",
    "    plt.title(platform, fontsize=20)\n",
    "    n+=1\n",
    "plt.show()"
   ]
  },
  {
   "cell_type": "markdown",
   "id": "60d5562b",
   "metadata": {
    "papermill": {
     "duration": 0.069672,
     "end_time": "2021-11-28T20:35:19.524385",
     "exception": false,
     "start_time": "2021-11-28T20:35:19.454713",
     "status": "completed"
    },
    "tags": []
   },
   "source": [
    "Как видим, на других платформах ситуация с отзывами критиков такая же - есть корреляция с объемом продаж. А вот с отзывами пользователей все не так однозначно, например для WiiU, Wii и 3DS зависимость между отзывами и продажами есть, правда нельзя сказать наверняка, отзывы повлияли на продажи, или наоборот. "
   ]
  },
  {
   "cell_type": "markdown",
   "id": "49bda6ff",
   "metadata": {
    "papermill": {
     "duration": 0.069444,
     "end_time": "2021-11-28T20:35:19.664213",
     "exception": false,
     "start_time": "2021-11-28T20:35:19.594769",
     "status": "completed"
    },
    "tags": []
   },
   "source": [
    "**Популярные жанры**\n",
    "\n",
    "Выясним, какие бывают жанры, насколько они массовы и как хорошо продаются."
   ]
  },
  {
   "cell_type": "code",
   "execution_count": 20,
   "id": "78a2a013",
   "metadata": {
    "execution": {
     "iopub.execute_input": "2021-11-28T20:35:19.811285Z",
     "iopub.status.busy": "2021-11-28T20:35:19.810489Z",
     "iopub.status.idle": "2021-11-28T20:35:19.819047Z",
     "shell.execute_reply": "2021-11-28T20:35:19.819598Z",
     "shell.execute_reply.started": "2021-11-28T20:29:30.462247Z"
    },
    "papermill": {
     "duration": 0.085746,
     "end_time": "2021-11-28T20:35:19.819812",
     "exception": false,
     "start_time": "2021-11-28T20:35:19.734066",
     "status": "completed"
    },
    "tags": []
   },
   "outputs": [
    {
     "data": {
      "text/plain": [
       "Action          1269\n",
       "Role-Playing     465\n",
       "Adventure        410\n",
       "Sports           389\n",
       "Misc             375\n",
       "Shooter          329\n",
       "Racing           180\n",
       "Fighting         159\n",
       "Simulation       136\n",
       "Platform         122\n",
       "Strategy         117\n",
       "Puzzle            71\n",
       "Name: genre, dtype: int64"
      ]
     },
     "execution_count": 20,
     "metadata": {},
     "output_type": "execute_result"
    }
   ],
   "source": [
    "actual_df['genre'].value_counts() # Посчитаем, сколько игр разных жанров было выпущено"
   ]
  },
  {
   "cell_type": "code",
   "execution_count": 21,
   "id": "956dd29c",
   "metadata": {
    "execution": {
     "iopub.execute_input": "2021-11-28T20:35:19.964566Z",
     "iopub.status.busy": "2021-11-28T20:35:19.963719Z",
     "iopub.status.idle": "2021-11-28T20:35:19.981631Z",
     "shell.execute_reply": "2021-11-28T20:35:19.982273Z",
     "shell.execute_reply.started": "2021-11-28T20:29:30.475227Z"
    },
    "papermill": {
     "duration": 0.093058,
     "end_time": "2021-11-28T20:35:19.982481",
     "exception": false,
     "start_time": "2021-11-28T20:35:19.889423",
     "status": "completed"
    },
    "tags": []
   },
   "outputs": [
    {
     "data": {
      "text/html": [
       "<div>\n",
       "<style scoped>\n",
       "    .dataframe tbody tr th:only-of-type {\n",
       "        vertical-align: middle;\n",
       "    }\n",
       "\n",
       "    .dataframe tbody tr th {\n",
       "        vertical-align: top;\n",
       "    }\n",
       "\n",
       "    .dataframe thead th {\n",
       "        text-align: right;\n",
       "    }\n",
       "</style>\n",
       "<table border=\"1\" class=\"dataframe\">\n",
       "  <thead>\n",
       "    <tr style=\"text-align: right;\">\n",
       "      <th></th>\n",
       "      <th>total_sales</th>\n",
       "    </tr>\n",
       "    <tr>\n",
       "      <th>genre</th>\n",
       "      <th></th>\n",
       "    </tr>\n",
       "  </thead>\n",
       "  <tbody>\n",
       "    <tr>\n",
       "      <th>Action</th>\n",
       "      <td>557.80</td>\n",
       "    </tr>\n",
       "    <tr>\n",
       "      <th>Shooter</th>\n",
       "      <td>402.91</td>\n",
       "    </tr>\n",
       "    <tr>\n",
       "      <th>Role-Playing</th>\n",
       "      <td>245.63</td>\n",
       "    </tr>\n",
       "    <tr>\n",
       "      <th>Sports</th>\n",
       "      <td>237.15</td>\n",
       "    </tr>\n",
       "    <tr>\n",
       "      <th>Misc</th>\n",
       "      <td>139.42</td>\n",
       "    </tr>\n",
       "    <tr>\n",
       "      <th>Platform</th>\n",
       "      <td>88.68</td>\n",
       "    </tr>\n",
       "    <tr>\n",
       "      <th>Racing</th>\n",
       "      <td>88.31</td>\n",
       "    </tr>\n",
       "    <tr>\n",
       "      <th>Fighting</th>\n",
       "      <td>66.90</td>\n",
       "    </tr>\n",
       "    <tr>\n",
       "      <th>Simulation</th>\n",
       "      <td>50.26</td>\n",
       "    </tr>\n",
       "    <tr>\n",
       "      <th>Adventure</th>\n",
       "      <td>45.04</td>\n",
       "    </tr>\n",
       "    <tr>\n",
       "      <th>Strategy</th>\n",
       "      <td>22.16</td>\n",
       "    </tr>\n",
       "    <tr>\n",
       "      <th>Puzzle</th>\n",
       "      <td>9.85</td>\n",
       "    </tr>\n",
       "  </tbody>\n",
       "</table>\n",
       "</div>"
      ],
      "text/plain": [
       "              total_sales\n",
       "genre                    \n",
       "Action             557.80\n",
       "Shooter            402.91\n",
       "Role-Playing       245.63\n",
       "Sports             237.15\n",
       "Misc               139.42\n",
       "Platform            88.68\n",
       "Racing              88.31\n",
       "Fighting            66.90\n",
       "Simulation          50.26\n",
       "Adventure           45.04\n",
       "Strategy            22.16\n",
       "Puzzle               9.85"
      ]
     },
     "execution_count": 21,
     "metadata": {},
     "output_type": "execute_result"
    }
   ],
   "source": [
    "# Посчитаем, сколько заработал каждый жанр\n",
    "genres_sales=actual_df.pivot_table(index='genre', values='total_sales', aggfunc='sum').sort_values(by='total_sales', ascending=False)\n",
    "genres_sales"
   ]
  },
  {
   "cell_type": "markdown",
   "id": "7fd5c4dd",
   "metadata": {
    "papermill": {
     "duration": 0.070105,
     "end_time": "2021-11-28T20:35:20.123932",
     "exception": false,
     "start_time": "2021-11-28T20:35:20.053827",
     "status": "completed"
    },
    "tags": []
   },
   "source": [
    "Как видим, массовый жанр не значит продающийся. Например, третий по массовости жанр Adventure, по продажам тоже третий, но уже с конца. В целом же можно сказать, что самые продающиеся жанры - **Action, Shooter и Role-Playing**; меньше продавались Adventure, Strategy и Puzzle.\n",
    "\n",
    "Визуализируем продажи по жанрам."
   ]
  },
  {
   "cell_type": "code",
   "execution_count": 22,
   "id": "e130fc3c",
   "metadata": {
    "execution": {
     "iopub.execute_input": "2021-11-28T20:35:20.268233Z",
     "iopub.status.busy": "2021-11-28T20:35:20.267495Z",
     "iopub.status.idle": "2021-11-28T20:35:20.568664Z",
     "shell.execute_reply": "2021-11-28T20:35:20.567974Z",
     "shell.execute_reply.started": "2021-11-28T20:29:30.501431Z"
    },
    "papermill": {
     "duration": 0.374583,
     "end_time": "2021-11-28T20:35:20.568849",
     "exception": false,
     "start_time": "2021-11-28T20:35:20.194266",
     "status": "completed"
    },
    "tags": []
   },
   "outputs": [
    {
     "data": {
      "image/png": "[encoded data removed]",
      "text/plain": [
       "<Figure size 1440x576 with 1 Axes>"
      ]
     },
     "metadata": {
      "needs_background": "light"
     },
     "output_type": "display_data"
    }
   ],
   "source": [
    "plt.figure(figsize=[20,8])\n",
    "ax=sns.barplot(data=genres_sales, x=genres_sales.index, y='total_sales')\n",
    "ax.axes.set_title('Жанры',fontsize=20)\n",
    "ax.set_xlabel('Жанр',fontsize=20)\n",
    "ax.set_ylabel('Продано копий, млн.',fontsize=20)\n",
    "ax.tick_params(labelsize=15)\n",
    "ax.yaxis.grid(True)"
   ]
  },
  {
   "cell_type": "markdown",
   "id": "420b99e5",
   "metadata": {
    "papermill": {
     "duration": 0.070096,
     "end_time": "2021-11-28T20:35:20.710735",
     "exception": false,
     "start_time": "2021-11-28T20:35:20.640639",
     "status": "completed"
    },
    "tags": []
   },
   "source": [
    "Как мы помним по [диаграммам размаха](#boxplot), существет большое количество игр-бестселлеров, продажи которых могут в десятки раз отличаться от средних значений, таким образом полученные результаты не всегда можно использовать при прогнозе, ведь не всегда есть возможность заранее выявить бестселлеры. Выясним, насколько сильно влияние бестселлеров на данные по жанрам и какие жанры **в среднем** более продаваемы. "
   ]
  },
  {
   "cell_type": "code",
   "execution_count": 23,
   "id": "1e104dc2",
   "metadata": {
    "execution": {
     "iopub.execute_input": "2021-11-28T20:35:20.855579Z",
     "iopub.status.busy": "2021-11-28T20:35:20.854938Z",
     "iopub.status.idle": "2021-11-28T20:35:20.898690Z",
     "shell.execute_reply": "2021-11-28T20:35:20.898105Z",
     "shell.execute_reply.started": "2021-11-28T20:29:30.794415Z"
    },
    "papermill": {
     "duration": 0.117459,
     "end_time": "2021-11-28T20:35:20.898885",
     "exception": false,
     "start_time": "2021-11-28T20:35:20.781426",
     "status": "completed"
    },
    "tags": []
   },
   "outputs": [
    {
     "data": {
      "text/html": [
       "<div>\n",
       "<style scoped>\n",
       "    .dataframe tbody tr th:only-of-type {\n",
       "        vertical-align: middle;\n",
       "    }\n",
       "\n",
       "    .dataframe tbody tr th {\n",
       "        vertical-align: top;\n",
       "    }\n",
       "\n",
       "    .dataframe thead tr th {\n",
       "        text-align: left;\n",
       "    }\n",
       "\n",
       "    .dataframe thead tr:last-of-type th {\n",
       "        text-align: right;\n",
       "    }\n",
       "</style>\n",
       "<table border=\"1\" class=\"dataframe\">\n",
       "  <thead>\n",
       "    <tr>\n",
       "      <th></th>\n",
       "      <th>mean</th>\n",
       "      <th>median</th>\n",
       "      <th>std</th>\n",
       "    </tr>\n",
       "    <tr>\n",
       "      <th></th>\n",
       "      <th>total_sales</th>\n",
       "      <th>total_sales</th>\n",
       "      <th>total_sales</th>\n",
       "    </tr>\n",
       "    <tr>\n",
       "      <th>genre</th>\n",
       "      <th></th>\n",
       "      <th></th>\n",
       "      <th></th>\n",
       "    </tr>\n",
       "  </thead>\n",
       "  <tbody>\n",
       "    <tr>\n",
       "      <th>Shooter</th>\n",
       "      <td>1.224650</td>\n",
       "      <td>0.410</td>\n",
       "      <td>2.269889</td>\n",
       "    </tr>\n",
       "    <tr>\n",
       "      <th>Platform</th>\n",
       "      <td>0.726885</td>\n",
       "      <td>0.185</td>\n",
       "      <td>1.513836</td>\n",
       "    </tr>\n",
       "    <tr>\n",
       "      <th>Sports</th>\n",
       "      <td>0.609640</td>\n",
       "      <td>0.200</td>\n",
       "      <td>1.075213</td>\n",
       "    </tr>\n",
       "    <tr>\n",
       "      <th>Role-Playing</th>\n",
       "      <td>0.528237</td>\n",
       "      <td>0.150</td>\n",
       "      <td>1.300689</td>\n",
       "    </tr>\n",
       "    <tr>\n",
       "      <th>Racing</th>\n",
       "      <td>0.490611</td>\n",
       "      <td>0.160</td>\n",
       "      <td>1.212137</td>\n",
       "    </tr>\n",
       "    <tr>\n",
       "      <th>Action</th>\n",
       "      <td>0.439559</td>\n",
       "      <td>0.130</td>\n",
       "      <td>1.122831</td>\n",
       "    </tr>\n",
       "    <tr>\n",
       "      <th>Fighting</th>\n",
       "      <td>0.420755</td>\n",
       "      <td>0.180</td>\n",
       "      <td>0.814960</td>\n",
       "    </tr>\n",
       "    <tr>\n",
       "      <th>Misc</th>\n",
       "      <td>0.371787</td>\n",
       "      <td>0.130</td>\n",
       "      <td>0.959781</td>\n",
       "    </tr>\n",
       "    <tr>\n",
       "      <th>Simulation</th>\n",
       "      <td>0.369559</td>\n",
       "      <td>0.110</td>\n",
       "      <td>1.018242</td>\n",
       "    </tr>\n",
       "    <tr>\n",
       "      <th>Strategy</th>\n",
       "      <td>0.189402</td>\n",
       "      <td>0.080</td>\n",
       "      <td>0.294619</td>\n",
       "    </tr>\n",
       "    <tr>\n",
       "      <th>Puzzle</th>\n",
       "      <td>0.138732</td>\n",
       "      <td>0.050</td>\n",
       "      <td>0.285161</td>\n",
       "    </tr>\n",
       "    <tr>\n",
       "      <th>Adventure</th>\n",
       "      <td>0.109854</td>\n",
       "      <td>0.030</td>\n",
       "      <td>0.279477</td>\n",
       "    </tr>\n",
       "  </tbody>\n",
       "</table>\n",
       "</div>"
      ],
      "text/plain": [
       "                    mean      median         std\n",
       "             total_sales total_sales total_sales\n",
       "genre                                           \n",
       "Shooter         1.224650       0.410    2.269889\n",
       "Platform        0.726885       0.185    1.513836\n",
       "Sports          0.609640       0.200    1.075213\n",
       "Role-Playing    0.528237       0.150    1.300689\n",
       "Racing          0.490611       0.160    1.212137\n",
       "Action          0.439559       0.130    1.122831\n",
       "Fighting        0.420755       0.180    0.814960\n",
       "Misc            0.371787       0.130    0.959781\n",
       "Simulation      0.369559       0.110    1.018242\n",
       "Strategy        0.189402       0.080    0.294619\n",
       "Puzzle          0.138732       0.050    0.285161\n",
       "Adventure       0.109854       0.030    0.279477"
      ]
     },
     "execution_count": 23,
     "metadata": {},
     "output_type": "execute_result"
    }
   ],
   "source": [
    "genres_sales_mean=actual_df.pivot_table(index='genre', values='total_sales', aggfunc=['mean','median','std']).sort_values(by=('mean','total_sales'), ascending=False)\n",
    "genres_sales_mean"
   ]
  },
  {
   "cell_type": "markdown",
   "id": "d75fe3b4",
   "metadata": {
    "papermill": {
     "duration": 0.074301,
     "end_time": "2021-11-28T20:35:21.046846",
     "exception": false,
     "start_time": "2021-11-28T20:35:20.972545",
     "status": "completed"
    },
    "tags": []
   },
   "source": [
    "Видим, что средние значения сильно отличаются от медиан в бóльшую сторону, среднеквадратичные отклонения имеют большие значения, это говорит нам о наличии бестселлеров для всех жанров. Визуализируем полученные данные."
   ]
  },
  {
   "cell_type": "code",
   "execution_count": 24,
   "id": "d5807ec3",
   "metadata": {
    "execution": {
     "iopub.execute_input": "2021-11-28T20:35:21.227334Z",
     "iopub.status.busy": "2021-11-28T20:35:21.226564Z",
     "iopub.status.idle": "2021-11-28T20:35:21.389364Z",
     "shell.execute_reply": "2021-11-28T20:35:21.390222Z",
     "shell.execute_reply.started": "2021-11-28T20:29:30.835182Z"
    },
    "papermill": {
     "duration": 0.259473,
     "end_time": "2021-11-28T20:35:21.390517",
     "exception": false,
     "start_time": "2021-11-28T20:35:21.131044",
     "status": "completed"
    },
    "tags": []
   },
   "outputs": [
    {
     "data": {
      "text/html": [
       "        <script type=\"text/javascript\">\n",
       "        window.PlotlyConfig = {MathJaxConfig: 'local'};\n",
       "        if (window.MathJax) {MathJax.Hub.Config({SVG: {font: \"STIX-Web\"}});}\n",
       "        if (typeof require !== 'undefined') {\n",
       "        require.undef(\"plotly\");\n",
       "        requirejs.config({\n",
       "            paths: {\n",
       "                'plotly': ['https://cdn.plot.ly/plotly-2.2.0.min']\n",
       "            }\n",
       "        });\n",
       "        require(['plotly'], function(Plotly) {\n",
       "            window._Plotly = Plotly;\n",
       "        });\n",
       "        }\n",
       "        </script>\n",
       "        "
      ]
     },
     "metadata": {},
     "output_type": "display_data"
    },
    {
     "data": {
      "text/html": [
       "<div>                            <div id=\"5d698006-bd66-44cb-8ec0-32fd5543b292\" class=\"plotly-graph-div\" style=\"height:525px; width:100%;\"></div>            <script type=\"text/javascript\">                require([\"plotly\"], function(Plotly) {                    window.PLOTLYENV=window.PLOTLYENV || {};                                    if (document.getElementById(\"5d698006-bd66-44cb-8ec0-32fd5543b292\")) {                    Plotly.newPlot(                        \"5d698006-bd66-44cb-8ec0-32fd5543b292\",                        [{\"name\":\"\\u0421\\u0440\\u0435\\u0434\\u043d\\u0435\\u0435\",\"type\":\"bar\",\"x\":[\"Shooter\",\"Platform\",\"Sports\",\"Role-Playing\",\"Racing\",\"Action\",\"Fighting\",\"Misc\",\"Simulation\",\"Strategy\",\"Puzzle\",\"Adventure\"],\"y\":[1.2246504559270508,0.7268852459016396,0.6096401028277636,0.5282365591397855,0.4906111111111113,0.4395587076438083,0.4207547169811318,0.3717866666666684,0.36955882352941183,0.18940170940170944,0.13873239436619708,0.10985365853658574]},{\"name\":\"\\u041c\\u0435\\u0434\\u0438\\u0430\\u043d\\u0430\",\"type\":\"bar\",\"x\":[\"Shooter\",\"Platform\",\"Sports\",\"Role-Playing\",\"Racing\",\"Action\",\"Fighting\",\"Misc\",\"Simulation\",\"Strategy\",\"Puzzle\",\"Adventure\"],\"y\":[0.41000000000000003,0.185,0.2,0.15,0.16,0.13,0.18,0.13,0.11,0.08,0.05,0.03]}],                        {\"barmode\":\"group\",\"template\":{\"data\":{\"bar\":[{\"error_x\":{\"color\":\"#2a3f5f\"},\"error_y\":{\"color\":\"#2a3f5f\"},\"marker\":{\"line\":{\"color\":\"#E5ECF6\",\"width\":0.5},\"pattern\":{\"fillmode\":\"overlay\",\"size\":10,\"solidity\":0.2}},\"type\":\"bar\"}],\"barpolar\":[{\"marker\":{\"line\":{\"color\":\"#E5ECF6\",\"width\":0.5},\"pattern\":{\"fillmode\":\"overlay\",\"size\":10,\"solidity\":0.2}},\"type\":\"barpolar\"}],\"carpet\":[{\"aaxis\":{\"endlinecolor\":\"#2a3f5f\",\"gridcolor\":\"white\",\"linecolor\":\"white\",\"minorgridcolor\":\"white\",\"startlinecolor\":\"#2a3f5f\"},\"baxis\":{\"endlinecolor\":\"#2a3f5f\",\"gridcolor\":\"white\",\"linecolor\":\"white\",\"minorgridcolor\":\"white\",\"startlinecolor\":\"#2a3f5f\"},\"type\":\"carpet\"}],\"choropleth\":[{\"colorbar\":{\"outlinewidth\":0,\"ticks\":\"\"},\"type\":\"choropleth\"}],\"contour\":[{\"colorbar\":{\"outlinewidth\":0,\"ticks\":\"\"},\"colorscale\":[[0.0,\"#0d0887\"],[0.1111111111111111,\"#46039f\"],[0.2222222222222222,\"#7201a8\"],[0.3333333333333333,\"#9c179e\"],[0.4444444444444444,\"#bd3786\"],[0.5555555555555556,\"#d8576b\"],[0.6666666666666666,\"#ed7953\"],[0.7777777777777778,\"#fb9f3a\"],[0.8888888888888888,\"#fdca26\"],[1.0,\"#f0f921\"]],\"type\":\"contour\"}],\"contourcarpet\":[{\"colorbar\":{\"outlinewidth\":0,\"ticks\":\"\"},\"type\":\"contourcarpet\"}],\"heatmap\":[{\"colorbar\":{\"outlinewidth\":0,\"ticks\":\"\"},\"colorscale\":[[0.0,\"#0d0887\"],[0.1111111111111111,\"#46039f\"],[0.2222222222222222,\"#7201a8\"],[0.3333333333333333,\"#9c179e\"],[0.4444444444444444,\"#bd3786\"],[0.5555555555555556,\"#d8576b\"],[0.6666666666666666,\"#ed7953\"],[0.7777777777777778,\"#fb9f3a\"],[0.8888888888888888,\"#fdca26\"],[1.0,\"#f0f921\"]],\"type\":\"heatmap\"}],\"heatmapgl\":[{\"colorbar\":{\"outlinewidth\":0,\"ticks\":\"\"},\"colorscale\":[[0.0,\"#0d0887\"],[0.1111111111111111,\"#46039f\"],[0.2222222222222222,\"#7201a8\"],[0.3333333333333333,\"#9c179e\"],[0.4444444444444444,\"#bd3786\"],[0.5555555555555556,\"#d8576b\"],[0.6666666666666666,\"#ed7953\"],[0.7777777777777778,\"#fb9f3a\"],[0.8888888888888888,\"#fdca26\"],[1.0,\"#f0f921\"]],\"type\":\"heatmapgl\"}],\"histogram\":[{\"marker\":{\"pattern\":{\"fillmode\":\"overlay\",\"size\":10,\"solidity\":0.2}},\"type\":\"histogram\"}],\"histogram2d\":[{\"colorbar\":{\"outlinewidth\":0,\"ticks\":\"\"},\"colorscale\":[[0.0,\"#0d0887\"],[0.1111111111111111,\"#46039f\"],[0.2222222222222222,\"#7201a8\"],[0.3333333333333333,\"#9c179e\"],[0.4444444444444444,\"#bd3786\"],[0.5555555555555556,\"#d8576b\"],[0.6666666666666666,\"#ed7953\"],[0.7777777777777778,\"#fb9f3a\"],[0.8888888888888888,\"#fdca26\"],[1.0,\"#f0f921\"]],\"type\":\"histogram2d\"}],\"histogram2dcontour\":[{\"colorbar\":{\"outlinewidth\":0,\"ticks\":\"\"},\"colorscale\":[[0.0,\"#0d0887\"],[0.1111111111111111,\"#46039f\"],[0.2222222222222222,\"#7201a8\"],[0.3333333333333333,\"#9c179e\"],[0.4444444444444444,\"#bd3786\"],[0.5555555555555556,\"#d8576b\"],[0.6666666666666666,\"#ed7953\"],[0.7777777777777778,\"#fb9f3a\"],[0.8888888888888888,\"#fdca26\"],[1.0,\"#f0f921\"]],\"type\":\"histogram2dcontour\"}],\"mesh3d\":[{\"colorbar\":{\"outlinewidth\":0,\"ticks\":\"\"},\"type\":\"mesh3d\"}],\"parcoords\":[{\"line\":{\"colorbar\":{\"outlinewidth\":0,\"ticks\":\"\"}},\"type\":\"parcoords\"}],\"pie\":[{\"automargin\":true,\"type\":\"pie\"}],\"scatter\":[{\"marker\":{\"colorbar\":{\"outlinewidth\":0,\"ticks\":\"\"}},\"type\":\"scatter\"}],\"scatter3d\":[{\"line\":{\"colorbar\":{\"outlinewidth\":0,\"ticks\":\"\"}},\"marker\":{\"colorbar\":{\"outlinewidth\":0,\"ticks\":\"\"}},\"type\":\"scatter3d\"}],\"scattercarpet\":[{\"marker\":{\"colorbar\":{\"outlinewidth\":0,\"ticks\":\"\"}},\"type\":\"scattercarpet\"}],\"scattergeo\":[{\"marker\":{\"colorbar\":{\"outlinewidth\":0,\"ticks\":\"\"}},\"type\":\"scattergeo\"}],\"scattergl\":[{\"marker\":{\"colorbar\":{\"outlinewidth\":0,\"ticks\":\"\"}},\"type\":\"scattergl\"}],\"scattermapbox\":[{\"marker\":{\"colorbar\":{\"outlinewidth\":0,\"ticks\":\"\"}},\"type\":\"scattermapbox\"}],\"scatterpolar\":[{\"marker\":{\"colorbar\":{\"outlinewidth\":0,\"ticks\":\"\"}},\"type\":\"scatterpolar\"}],\"scatterpolargl\":[{\"marker\":{\"colorbar\":{\"outlinewidth\":0,\"ticks\":\"\"}},\"type\":\"scatterpolargl\"}],\"scatterternary\":[{\"marker\":{\"colorbar\":{\"outlinewidth\":0,\"ticks\":\"\"}},\"type\":\"scatterternary\"}],\"surface\":[{\"colorbar\":{\"outlinewidth\":0,\"ticks\":\"\"},\"colorscale\":[[0.0,\"#0d0887\"],[0.1111111111111111,\"#46039f\"],[0.2222222222222222,\"#7201a8\"],[0.3333333333333333,\"#9c179e\"],[0.4444444444444444,\"#bd3786\"],[0.5555555555555556,\"#d8576b\"],[0.6666666666666666,\"#ed7953\"],[0.7777777777777778,\"#fb9f3a\"],[0.8888888888888888,\"#fdca26\"],[1.0,\"#f0f921\"]],\"type\":\"surface\"}],\"table\":[{\"cells\":{\"fill\":{\"color\":\"#EBF0F8\"},\"line\":{\"color\":\"white\"}},\"header\":{\"fill\":{\"color\":\"#C8D4E3\"},\"line\":{\"color\":\"white\"}},\"type\":\"table\"}]},\"layout\":{\"annotationdefaults\":{\"arrowcolor\":\"#2a3f5f\",\"arrowhead\":0,\"arrowwidth\":1},\"autotypenumbers\":\"strict\",\"coloraxis\":{\"colorbar\":{\"outlinewidth\":0,\"ticks\":\"\"}},\"colorscale\":{\"diverging\":[[0,\"#8e0152\"],[0.1,\"#c51b7d\"],[0.2,\"#de77ae\"],[0.3,\"#f1b6da\"],[0.4,\"#fde0ef\"],[0.5,\"#f7f7f7\"],[0.6,\"#e6f5d0\"],[0.7,\"#b8e186\"],[0.8,\"#7fbc41\"],[0.9,\"#4d9221\"],[1,\"#276419\"]],\"sequential\":[[0.0,\"#0d0887\"],[0.1111111111111111,\"#46039f\"],[0.2222222222222222,\"#7201a8\"],[0.3333333333333333,\"#9c179e\"],[0.4444444444444444,\"#bd3786\"],[0.5555555555555556,\"#d8576b\"],[0.6666666666666666,\"#ed7953\"],[0.7777777777777778,\"#fb9f3a\"],[0.8888888888888888,\"#fdca26\"],[1.0,\"#f0f921\"]],\"sequentialminus\":[[0.0,\"#0d0887\"],[0.1111111111111111,\"#46039f\"],[0.2222222222222222,\"#7201a8\"],[0.3333333333333333,\"#9c179e\"],[0.4444444444444444,\"#bd3786\"],[0.5555555555555556,\"#d8576b\"],[0.6666666666666666,\"#ed7953\"],[0.7777777777777778,\"#fb9f3a\"],[0.8888888888888888,\"#fdca26\"],[1.0,\"#f0f921\"]]},\"colorway\":[\"#636efa\",\"#EF553B\",\"#00cc96\",\"#ab63fa\",\"#FFA15A\",\"#19d3f3\",\"#FF6692\",\"#B6E880\",\"#FF97FF\",\"#FECB52\"],\"font\":{\"color\":\"#2a3f5f\"},\"geo\":{\"bgcolor\":\"white\",\"lakecolor\":\"white\",\"landcolor\":\"#E5ECF6\",\"showlakes\":true,\"showland\":true,\"subunitcolor\":\"white\"},\"hoverlabel\":{\"align\":\"left\"},\"hovermode\":\"closest\",\"mapbox\":{\"style\":\"light\"},\"paper_bgcolor\":\"white\",\"plot_bgcolor\":\"#E5ECF6\",\"polar\":{\"angularaxis\":{\"gridcolor\":\"white\",\"linecolor\":\"white\",\"ticks\":\"\"},\"bgcolor\":\"#E5ECF6\",\"radialaxis\":{\"gridcolor\":\"white\",\"linecolor\":\"white\",\"ticks\":\"\"}},\"scene\":{\"xaxis\":{\"backgroundcolor\":\"#E5ECF6\",\"gridcolor\":\"white\",\"gridwidth\":2,\"linecolor\":\"white\",\"showbackground\":true,\"ticks\":\"\",\"zerolinecolor\":\"white\"},\"yaxis\":{\"backgroundcolor\":\"#E5ECF6\",\"gridcolor\":\"white\",\"gridwidth\":2,\"linecolor\":\"white\",\"showbackground\":true,\"ticks\":\"\",\"zerolinecolor\":\"white\"},\"zaxis\":{\"backgroundcolor\":\"#E5ECF6\",\"gridcolor\":\"white\",\"gridwidth\":2,\"linecolor\":\"white\",\"showbackground\":true,\"ticks\":\"\",\"zerolinecolor\":\"white\"}},\"shapedefaults\":{\"line\":{\"color\":\"#2a3f5f\"}},\"ternary\":{\"aaxis\":{\"gridcolor\":\"white\",\"linecolor\":\"white\",\"ticks\":\"\"},\"baxis\":{\"gridcolor\":\"white\",\"linecolor\":\"white\",\"ticks\":\"\"},\"bgcolor\":\"#E5ECF6\",\"caxis\":{\"gridcolor\":\"white\",\"linecolor\":\"white\",\"ticks\":\"\"}},\"title\":{\"x\":0.05},\"xaxis\":{\"automargin\":true,\"gridcolor\":\"white\",\"linecolor\":\"white\",\"ticks\":\"\",\"title\":{\"standoff\":15},\"zerolinecolor\":\"white\",\"zerolinewidth\":2},\"yaxis\":{\"automargin\":true,\"gridcolor\":\"white\",\"linecolor\":\"white\",\"ticks\":\"\",\"title\":{\"standoff\":15},\"zerolinecolor\":\"white\",\"zerolinewidth\":2}}},\"title\":{\"text\":\"\\u0421\\u0440\\u0435\\u0434\\u043d\\u0438\\u0435 \\u0438 \\u043c\\u0435\\u0434\\u0438\\u0430\\u043d\\u043d\\u044b\\u0435 \\u043f\\u0440\\u043e\\u0434\\u0430\\u0436\\u0438\",\"x\":0.5,\"y\":0.87},\"xaxis\":{\"title\":{\"text\":\"\\u0416\\u0430\\u043d\\u0440\"}},\"yaxis\":{\"title\":{\"text\":\"\\u041f\\u0440\\u043e\\u0434\\u0430\\u043d\\u043e \\u043a\\u043e\\u043f\\u0438\\u0439, \\u043c\\u043b\\u043d.\"}}},                        {\"responsive\": true}                    ).then(function(){\n",
       "                            \n",
       "var gd = document.getElementById('5d698006-bd66-44cb-8ec0-32fd5543b292');\n",
       "var x = new MutationObserver(function (mutations, observer) {{\n",
       "        var display = window.getComputedStyle(gd).display;\n",
       "        if (!display || display === 'none') {{\n",
       "            console.log([gd, 'removed!']);\n",
       "            Plotly.purge(gd);\n",
       "            observer.disconnect();\n",
       "        }}\n",
       "}});\n",
       "\n",
       "// Listen for the removal of the full notebook cells\n",
       "var notebookContainer = gd.closest('#notebook-container');\n",
       "if (notebookContainer) {{\n",
       "    x.observe(notebookContainer, {childList: true});\n",
       "}}\n",
       "\n",
       "// Listen for the clearing of the current output cell\n",
       "var outputEl = gd.closest('.output');\n",
       "if (outputEl) {{\n",
       "    x.observe(outputEl, {childList: true});\n",
       "}}\n",
       "\n",
       "                        })                };                });            </script>        </div>"
      ]
     },
     "metadata": {},
     "output_type": "display_data"
    }
   ],
   "source": [
    "fig = go.Figure(data=[\n",
    "    go.Bar(name='Среднее', x=genres_sales_mean.index, y=genres_sales_mean[('mean','total_sales')]),\n",
    "    go.Bar(name='Медиана', x=genres_sales_mean.index, y=genres_sales_mean[('median','total_sales')])],\n",
    "               )\n",
    "fig.update_layout(\n",
    "    barmode='group',\n",
    "    title={'text':'Средние и медианные продажи', 'x':0.5, 'y':0.87},\n",
    "    xaxis_title='Жанр',\n",
    "    yaxis_title='Продано копий, млн.'\n",
    ")\n",
    "fig.show()"
   ]
  },
  {
   "cell_type": "markdown",
   "id": "c890d3e1",
   "metadata": {
    "papermill": {
     "duration": 0.073643,
     "end_time": "2021-11-28T20:35:21.548107",
     "exception": false,
     "start_time": "2021-11-28T20:35:21.474464",
     "status": "completed"
    },
    "tags": []
   },
   "source": [
    "Действительно, если оценивать средние/медианные значения, результат кардинально отличается, **в среднем** самые продаваемые жанры: **Shooter, Platform и Sports**. Таким образом, если мы не можем позволить себе закупить все новинки конкретного жанра, есть смысл ориентироваться на медианные значения, чтобы минимизировать риск непопадания бестселлеров в наш ассортимент."
   ]
  },
  {
   "cell_type": "markdown",
   "id": "d4961b65",
   "metadata": {
    "papermill": {
     "duration": 0.074971,
     "end_time": "2021-11-28T20:35:21.696531",
     "exception": false,
     "start_time": "2021-11-28T20:35:21.621560",
     "status": "completed"
    },
    "tags": []
   },
   "source": [
    "### Вывод\n",
    "В рамках исследовательского анализа данных мы выяснили:\n",
    "+ Игровая индустрия начала активно развиваться **с 1994 года** - до этого объем выпущенных игр не превышал ста копий в год.\n",
    "+ Самые **популярные** игровые платформы до 2017 года - **PS2, X360, PS3, Wii, DS и PS**.\n",
    "+ Средний **срок жизни** популярной игровой платформы - **10 лет**, с ростом в первые 5 лет и спадом в последующие. Исходя из этого, для поиска перспективных платформ целесообразно рассматривать **пятилетний актуальный период**.\n",
    "+ На 2016 год самые **перспективные** ировые платформы - **PS4 и XOne**; в **2017** году они могут выйти на **пик продаж**; платформа **3DS** продолжает оставаться актуальной.\n",
    "+ Для большинства платформ характерен плавный рост продаж а затем плавный спад.\n",
    "+ Для каждой платформы существует большое количество **игр-бестселлеров**, их продажи могут превышать средние значения в десятки раз. Для определения перспективных категорий игр целесообразно оценивать **медианные значения** продаж. \n",
    "+ Существует прямая зависимость между **отзывами критиков** и объемом продаж. Связь между объемом продаж и отзывами пользователей зависит от игровой платформы, где-то она совсем отсутствует,  а где-то даже сильнее зависимости от отзывов критиков, например на WiiU.\n",
    "+ Самые продаваемые жанры игр - **Action, Shooter и Role-Playing**, данные результаты получены за счет массовости жанров и большого количества бестселлеров. Самые продаваемы жанры **в среднем** - **Shooter, Platform и Sports**."
   ]
  },
  {
   "cell_type": "markdown",
   "id": "adf4184d",
   "metadata": {
    "papermill": {
     "duration": 0.075866,
     "end_time": "2021-11-28T20:35:21.850002",
     "exception": false,
     "start_time": "2021-11-28T20:35:21.774136",
     "status": "completed"
    },
    "tags": []
   },
   "source": [
    "# 4. Портрет пользователя для каждого региона"
   ]
  },
  {
   "cell_type": "markdown",
   "id": "9df29e7d",
   "metadata": {
    "papermill": {
     "duration": 0.076866,
     "end_time": "2021-11-28T20:35:22.001760",
     "exception": false,
     "start_time": "2021-11-28T20:35:21.924894",
     "status": "completed"
    },
    "tags": []
   },
   "source": [
    "**Популярные платформы в разных регионах**\n",
    "\n",
    "Выясним, какие платформы популярны в разных регионах, выделим топ-5 для каждого."
   ]
  },
  {
   "cell_type": "code",
   "execution_count": 25,
   "id": "cdaee986",
   "metadata": {
    "execution": {
     "iopub.execute_input": "2021-11-28T20:35:22.158034Z",
     "iopub.status.busy": "2021-11-28T20:35:22.157264Z",
     "iopub.status.idle": "2021-11-28T20:35:22.185907Z",
     "shell.execute_reply": "2021-11-28T20:35:22.186433Z",
     "shell.execute_reply.started": "2021-11-28T20:29:31.002561Z"
    },
    "papermill": {
     "duration": 0.106454,
     "end_time": "2021-11-28T20:35:22.186634",
     "exception": false,
     "start_time": "2021-11-28T20:35:22.080180",
     "status": "completed"
    },
    "tags": []
   },
   "outputs": [
    {
     "data": {
      "text/html": [
       "<div>                            <div id=\"047fb05b-9b7f-4f14-813f-15d4747ff92a\" class=\"plotly-graph-div\" style=\"height:525px; width:100%;\"></div>            <script type=\"text/javascript\">                require([\"plotly\"], function(Plotly) {                    window.PLOTLYENV=window.PLOTLYENV || {};                                    if (document.getElementById(\"047fb05b-9b7f-4f14-813f-15d4747ff92a\")) {                    Plotly.newPlot(                        \"047fb05b-9b7f-4f14-813f-15d4747ff92a\",                        [{\"name\":\"\\u0421\\u0428\\u0410\",\"type\":\"bar\",\"x\":[\"X360\",\"PS3\",\"PS4\",\"XOne\",\"3DS\",\"Wii\",\"WiiU\",\"PC\",\"DS\",\"PSV\",\"PSP\",\"PS2\"],\"y\":[226.80000000000013,168.2600000000003,108.7400000000001,93.12000000000005,82.6499999999999,48.56000000000001,38.10000000000003,29.880000000000017,18.85999999999998,12.469999999999974,2.19,0.13]},{\"name\":\"\\u0415\\u0432\\u0440\\u043e\\u043f\\u0430\",\"type\":\"bar\",\"x\":[\"X360\",\"PS3\",\"PS4\",\"XOne\",\"3DS\",\"Wii\",\"WiiU\",\"PC\",\"DS\",\"PSV\",\"PSP\",\"PS2\"],\"y\":[117.10000000000004,163.10000000000008,141.09000000000032,51.59,61.27000000000004,29.600000000000023,25.13000000000003,56.7000000000001,9.239999999999977,13.069999999999977,1.7700000000000005,0.13]},{\"name\":\"\\u042f\\u043f\\u043e\\u043d\\u0438\\u044f\",\"type\":\"bar\",\"x\":[\"X360\",\"PS3\",\"PS4\",\"XOne\",\"3DS\",\"Wii\",\"WiiU\",\"PC\",\"DS\",\"PSV\",\"PSP\",\"PS2\"],\"y\":[3.349999999999992,49.390000000000136,15.95999999999997,0.3400000000000001,100.61999999999999,8.97,13.009999999999993,0.0,8.039999999999996,21.840000000000078,24.04000000000003,0.09]}],                        {\"barmode\":\"group\",\"template\":{\"data\":{\"bar\":[{\"error_x\":{\"color\":\"#2a3f5f\"},\"error_y\":{\"color\":\"#2a3f5f\"},\"marker\":{\"line\":{\"color\":\"#E5ECF6\",\"width\":0.5},\"pattern\":{\"fillmode\":\"overlay\",\"size\":10,\"solidity\":0.2}},\"type\":\"bar\"}],\"barpolar\":[{\"marker\":{\"line\":{\"color\":\"#E5ECF6\",\"width\":0.5},\"pattern\":{\"fillmode\":\"overlay\",\"size\":10,\"solidity\":0.2}},\"type\":\"barpolar\"}],\"carpet\":[{\"aaxis\":{\"endlinecolor\":\"#2a3f5f\",\"gridcolor\":\"white\",\"linecolor\":\"white\",\"minorgridcolor\":\"white\",\"startlinecolor\":\"#2a3f5f\"},\"baxis\":{\"endlinecolor\":\"#2a3f5f\",\"gridcolor\":\"white\",\"linecolor\":\"white\",\"minorgridcolor\":\"white\",\"startlinecolor\":\"#2a3f5f\"},\"type\":\"carpet\"}],\"choropleth\":[{\"colorbar\":{\"outlinewidth\":0,\"ticks\":\"\"},\"type\":\"choropleth\"}],\"contour\":[{\"colorbar\":{\"outlinewidth\":0,\"ticks\":\"\"},\"colorscale\":[[0.0,\"#0d0887\"],[0.1111111111111111,\"#46039f\"],[0.2222222222222222,\"#7201a8\"],[0.3333333333333333,\"#9c179e\"],[0.4444444444444444,\"#bd3786\"],[0.5555555555555556,\"#d8576b\"],[0.6666666666666666,\"#ed7953\"],[0.7777777777777778,\"#fb9f3a\"],[0.8888888888888888,\"#fdca26\"],[1.0,\"#f0f921\"]],\"type\":\"contour\"}],\"contourcarpet\":[{\"colorbar\":{\"outlinewidth\":0,\"ticks\":\"\"},\"type\":\"contourcarpet\"}],\"heatmap\":[{\"colorbar\":{\"outlinewidth\":0,\"ticks\":\"\"},\"colorscale\":[[0.0,\"#0d0887\"],[0.1111111111111111,\"#46039f\"],[0.2222222222222222,\"#7201a8\"],[0.3333333333333333,\"#9c179e\"],[0.4444444444444444,\"#bd3786\"],[0.5555555555555556,\"#d8576b\"],[0.6666666666666666,\"#ed7953\"],[0.7777777777777778,\"#fb9f3a\"],[0.8888888888888888,\"#fdca26\"],[1.0,\"#f0f921\"]],\"type\":\"heatmap\"}],\"heatmapgl\":[{\"colorbar\":{\"outlinewidth\":0,\"ticks\":\"\"},\"colorscale\":[[0.0,\"#0d0887\"],[0.1111111111111111,\"#46039f\"],[0.2222222222222222,\"#7201a8\"],[0.3333333333333333,\"#9c179e\"],[0.4444444444444444,\"#bd3786\"],[0.5555555555555556,\"#d8576b\"],[0.6666666666666666,\"#ed7953\"],[0.7777777777777778,\"#fb9f3a\"],[0.8888888888888888,\"#fdca26\"],[1.0,\"#f0f921\"]],\"type\":\"heatmapgl\"}],\"histogram\":[{\"marker\":{\"pattern\":{\"fillmode\":\"overlay\",\"size\":10,\"solidity\":0.2}},\"type\":\"histogram\"}],\"histogram2d\":[{\"colorbar\":{\"outlinewidth\":0,\"ticks\":\"\"},\"colorscale\":[[0.0,\"#0d0887\"],[0.1111111111111111,\"#46039f\"],[0.2222222222222222,\"#7201a8\"],[0.3333333333333333,\"#9c179e\"],[0.4444444444444444,\"#bd3786\"],[0.5555555555555556,\"#d8576b\"],[0.6666666666666666,\"#ed7953\"],[0.7777777777777778,\"#fb9f3a\"],[0.8888888888888888,\"#fdca26\"],[1.0,\"#f0f921\"]],\"type\":\"histogram2d\"}],\"histogram2dcontour\":[{\"colorbar\":{\"outlinewidth\":0,\"ticks\":\"\"},\"colorscale\":[[0.0,\"#0d0887\"],[0.1111111111111111,\"#46039f\"],[0.2222222222222222,\"#7201a8\"],[0.3333333333333333,\"#9c179e\"],[0.4444444444444444,\"#bd3786\"],[0.5555555555555556,\"#d8576b\"],[0.6666666666666666,\"#ed7953\"],[0.7777777777777778,\"#fb9f3a\"],[0.8888888888888888,\"#fdca26\"],[1.0,\"#f0f921\"]],\"type\":\"histogram2dcontour\"}],\"mesh3d\":[{\"colorbar\":{\"outlinewidth\":0,\"ticks\":\"\"},\"type\":\"mesh3d\"}],\"parcoords\":[{\"line\":{\"colorbar\":{\"outlinewidth\":0,\"ticks\":\"\"}},\"type\":\"parcoords\"}],\"pie\":[{\"automargin\":true,\"type\":\"pie\"}],\"scatter\":[{\"marker\":{\"colorbar\":{\"outlinewidth\":0,\"ticks\":\"\"}},\"type\":\"scatter\"}],\"scatter3d\":[{\"line\":{\"colorbar\":{\"outlinewidth\":0,\"ticks\":\"\"}},\"marker\":{\"colorbar\":{\"outlinewidth\":0,\"ticks\":\"\"}},\"type\":\"scatter3d\"}],\"scattercarpet\":[{\"marker\":{\"colorbar\":{\"outlinewidth\":0,\"ticks\":\"\"}},\"type\":\"scattercarpet\"}],\"scattergeo\":[{\"marker\":{\"colorbar\":{\"outlinewidth\":0,\"ticks\":\"\"}},\"type\":\"scattergeo\"}],\"scattergl\":[{\"marker\":{\"colorbar\":{\"outlinewidth\":0,\"ticks\":\"\"}},\"type\":\"scattergl\"}],\"scattermapbox\":[{\"marker\":{\"colorbar\":{\"outlinewidth\":0,\"ticks\":\"\"}},\"type\":\"scattermapbox\"}],\"scatterpolar\":[{\"marker\":{\"colorbar\":{\"outlinewidth\":0,\"ticks\":\"\"}},\"type\":\"scatterpolar\"}],\"scatterpolargl\":[{\"marker\":{\"colorbar\":{\"outlinewidth\":0,\"ticks\":\"\"}},\"type\":\"scatterpolargl\"}],\"scatterternary\":[{\"marker\":{\"colorbar\":{\"outlinewidth\":0,\"ticks\":\"\"}},\"type\":\"scatterternary\"}],\"surface\":[{\"colorbar\":{\"outlinewidth\":0,\"ticks\":\"\"},\"colorscale\":[[0.0,\"#0d0887\"],[0.1111111111111111,\"#46039f\"],[0.2222222222222222,\"#7201a8\"],[0.3333333333333333,\"#9c179e\"],[0.4444444444444444,\"#bd3786\"],[0.5555555555555556,\"#d8576b\"],[0.6666666666666666,\"#ed7953\"],[0.7777777777777778,\"#fb9f3a\"],[0.8888888888888888,\"#fdca26\"],[1.0,\"#f0f921\"]],\"type\":\"surface\"}],\"table\":[{\"cells\":{\"fill\":{\"color\":\"#EBF0F8\"},\"line\":{\"color\":\"white\"}},\"header\":{\"fill\":{\"color\":\"#C8D4E3\"},\"line\":{\"color\":\"white\"}},\"type\":\"table\"}]},\"layout\":{\"annotationdefaults\":{\"arrowcolor\":\"#2a3f5f\",\"arrowhead\":0,\"arrowwidth\":1},\"autotypenumbers\":\"strict\",\"coloraxis\":{\"colorbar\":{\"outlinewidth\":0,\"ticks\":\"\"}},\"colorscale\":{\"diverging\":[[0,\"#8e0152\"],[0.1,\"#c51b7d\"],[0.2,\"#de77ae\"],[0.3,\"#f1b6da\"],[0.4,\"#fde0ef\"],[0.5,\"#f7f7f7\"],[0.6,\"#e6f5d0\"],[0.7,\"#b8e186\"],[0.8,\"#7fbc41\"],[0.9,\"#4d9221\"],[1,\"#276419\"]],\"sequential\":[[0.0,\"#0d0887\"],[0.1111111111111111,\"#46039f\"],[0.2222222222222222,\"#7201a8\"],[0.3333333333333333,\"#9c179e\"],[0.4444444444444444,\"#bd3786\"],[0.5555555555555556,\"#d8576b\"],[0.6666666666666666,\"#ed7953\"],[0.7777777777777778,\"#fb9f3a\"],[0.8888888888888888,\"#fdca26\"],[1.0,\"#f0f921\"]],\"sequentialminus\":[[0.0,\"#0d0887\"],[0.1111111111111111,\"#46039f\"],[0.2222222222222222,\"#7201a8\"],[0.3333333333333333,\"#9c179e\"],[0.4444444444444444,\"#bd3786\"],[0.5555555555555556,\"#d8576b\"],[0.6666666666666666,\"#ed7953\"],[0.7777777777777778,\"#fb9f3a\"],[0.8888888888888888,\"#fdca26\"],[1.0,\"#f0f921\"]]},\"colorway\":[\"#636efa\",\"#EF553B\",\"#00cc96\",\"#ab63fa\",\"#FFA15A\",\"#19d3f3\",\"#FF6692\",\"#B6E880\",\"#FF97FF\",\"#FECB52\"],\"font\":{\"color\":\"#2a3f5f\"},\"geo\":{\"bgcolor\":\"white\",\"lakecolor\":\"white\",\"landcolor\":\"#E5ECF6\",\"showlakes\":true,\"showland\":true,\"subunitcolor\":\"white\"},\"hoverlabel\":{\"align\":\"left\"},\"hovermode\":\"closest\",\"mapbox\":{\"style\":\"light\"},\"paper_bgcolor\":\"white\",\"plot_bgcolor\":\"#E5ECF6\",\"polar\":{\"angularaxis\":{\"gridcolor\":\"white\",\"linecolor\":\"white\",\"ticks\":\"\"},\"bgcolor\":\"#E5ECF6\",\"radialaxis\":{\"gridcolor\":\"white\",\"linecolor\":\"white\",\"ticks\":\"\"}},\"scene\":{\"xaxis\":{\"backgroundcolor\":\"#E5ECF6\",\"gridcolor\":\"white\",\"gridwidth\":2,\"linecolor\":\"white\",\"showbackground\":true,\"ticks\":\"\",\"zerolinecolor\":\"white\"},\"yaxis\":{\"backgroundcolor\":\"#E5ECF6\",\"gridcolor\":\"white\",\"gridwidth\":2,\"linecolor\":\"white\",\"showbackground\":true,\"ticks\":\"\",\"zerolinecolor\":\"white\"},\"zaxis\":{\"backgroundcolor\":\"#E5ECF6\",\"gridcolor\":\"white\",\"gridwidth\":2,\"linecolor\":\"white\",\"showbackground\":true,\"ticks\":\"\",\"zerolinecolor\":\"white\"}},\"shapedefaults\":{\"line\":{\"color\":\"#2a3f5f\"}},\"ternary\":{\"aaxis\":{\"gridcolor\":\"white\",\"linecolor\":\"white\",\"ticks\":\"\"},\"baxis\":{\"gridcolor\":\"white\",\"linecolor\":\"white\",\"ticks\":\"\"},\"bgcolor\":\"#E5ECF6\",\"caxis\":{\"gridcolor\":\"white\",\"linecolor\":\"white\",\"ticks\":\"\"}},\"title\":{\"x\":0.05},\"xaxis\":{\"automargin\":true,\"gridcolor\":\"white\",\"linecolor\":\"white\",\"ticks\":\"\",\"title\":{\"standoff\":15},\"zerolinecolor\":\"white\",\"zerolinewidth\":2},\"yaxis\":{\"automargin\":true,\"gridcolor\":\"white\",\"linecolor\":\"white\",\"ticks\":\"\",\"title\":{\"standoff\":15},\"zerolinecolor\":\"white\",\"zerolinewidth\":2}}},\"title\":{\"text\":\"\\u041f\\u043b\\u0430\\u0442\\u0444\\u043e\\u0440\\u043c\\u044b \\u043f\\u043e \\u0440\\u0435\\u0433\\u0438\\u043e\\u043d\\u0430\\u043c\",\"x\":0.5,\"y\":0.87},\"xaxis\":{\"title\":{\"text\":\"\\u041f\\u043b\\u0430\\u0442\\u0444\\u043e\\u0440\\u043c\\u0430\"}},\"yaxis\":{\"title\":{\"text\":\"\\u041f\\u0440\\u043e\\u0434\\u0430\\u043d\\u043e \\u043a\\u043e\\u043f\\u0438\\u0439, \\u043c\\u043b\\u043d.\"}}},                        {\"responsive\": true}                    ).then(function(){\n",
       "                            \n",
       "var gd = document.getElementById('047fb05b-9b7f-4f14-813f-15d4747ff92a');\n",
       "var x = new MutationObserver(function (mutations, observer) {{\n",
       "        var display = window.getComputedStyle(gd).display;\n",
       "        if (!display || display === 'none') {{\n",
       "            console.log([gd, 'removed!']);\n",
       "            Plotly.purge(gd);\n",
       "            observer.disconnect();\n",
       "        }}\n",
       "}});\n",
       "\n",
       "// Listen for the removal of the full notebook cells\n",
       "var notebookContainer = gd.closest('#notebook-container');\n",
       "if (notebookContainer) {{\n",
       "    x.observe(notebookContainer, {childList: true});\n",
       "}}\n",
       "\n",
       "// Listen for the clearing of the current output cell\n",
       "var outputEl = gd.closest('.output');\n",
       "if (outputEl) {{\n",
       "    x.observe(outputEl, {childList: true});\n",
       "}}\n",
       "\n",
       "                        })                };                });            </script>        </div>"
      ]
     },
     "metadata": {},
     "output_type": "display_data"
    }
   ],
   "source": [
    "# Группируем даные по платформам, находим медианы продаж для каждого региона, сортируем по продажам в США\n",
    "sales=actual_df.pivot_table(\n",
    "    index='platform', values=['na_sales', 'eu_sales', 'jp_sales'], aggfunc='sum').sort_values(by='na_sales', ascending=False)\n",
    "# Строим график\n",
    "fig = go.Figure(data=[\n",
    "    go.Bar(name='США', x=sales.index, y=sales['na_sales']),\n",
    "    go.Bar(name='Европа', x=sales.index, y=sales['eu_sales']),\n",
    "    go.Bar(name='Япония', x=sales.index, y=sales['jp_sales'])],\n",
    "               )\n",
    "fig.update_layout(\n",
    "    barmode='group',\n",
    "    title={'text':'Платформы по регионам', 'x':0.5, 'y':0.87},\n",
    "    xaxis_title='Платформа',\n",
    "    yaxis_title='Продано копий, млн.'\n",
    ")\n",
    "fig.show()"
   ]
  },
  {
   "cell_type": "markdown",
   "id": "c237691c",
   "metadata": {
    "papermill": {
     "duration": 0.072792,
     "end_time": "2021-11-28T20:35:22.333733",
     "exception": false,
     "start_time": "2021-11-28T20:35:22.260941",
     "status": "completed"
    },
    "tags": []
   },
   "source": [
    "Как видим, картина для разных регионов отличается, и если США и Европа в чем-то схожи по предпочтениям, и разница в продажах между самыми популярными платформами не так драматична, то в Японии есть своя любимая платформа 3DS, которая лидирует с двукратным отрывом от ближайшего конкурента. Кроме того, можно сказать, что в Японии любят мобильные игровые платформы. В целом же США лидируют по объему рынка, на втором месте Европа, на третьем - Япония.\n",
    "+ Лидеры продаж в США: X360, PS3, PS4, XOne, 3DS\n",
    "+ Лидеры продаж в Европе: PS3, PS4, X360, 3DS, PC\n",
    "+ Лидеры продаж в Японии: 3DS, PS3, PSP, PSV, PS4"
   ]
  },
  {
   "cell_type": "markdown",
   "id": "1018dca8",
   "metadata": {
    "papermill": {
     "duration": 0.073955,
     "end_time": "2021-11-28T20:35:22.480619",
     "exception": false,
     "start_time": "2021-11-28T20:35:22.406664",
     "status": "completed"
    },
    "tags": []
   },
   "source": [
    "**Популярные жанры в разных регионах**\n",
    "\n",
    "Выясним, какие жанры популярны в разных регионах, выделим топ-5 для каждого."
   ]
  },
  {
   "cell_type": "code",
   "execution_count": 26,
   "id": "0b5492fa",
   "metadata": {
    "execution": {
     "iopub.execute_input": "2021-11-28T20:35:22.633535Z",
     "iopub.status.busy": "2021-11-28T20:35:22.632887Z",
     "iopub.status.idle": "2021-11-28T20:35:22.956929Z",
     "shell.execute_reply": "2021-11-28T20:35:22.957521Z",
     "shell.execute_reply.started": "2021-11-28T20:29:31.034418Z"
    },
    "papermill": {
     "duration": 0.401298,
     "end_time": "2021-11-28T20:35:22.957698",
     "exception": false,
     "start_time": "2021-11-28T20:35:22.556400",
     "status": "completed"
    },
    "tags": []
   },
   "outputs": [
    {
     "data": {
      "text/html": [
       "<div>                            <div id=\"dfc77a90-331d-437f-943e-52ea263a0cc4\" class=\"plotly-graph-div\" style=\"height:525px; width:100%;\"></div>            <script type=\"text/javascript\">                require([\"plotly\"], function(Plotly) {                    window.PLOTLYENV=window.PLOTLYENV || {};                                    if (document.getElementById(\"dfc77a90-331d-437f-943e-52ea263a0cc4\")) {                    Plotly.newPlot(                        \"dfc77a90-331d-437f-943e-52ea263a0cc4\",                        [{\"name\":\"\\u0421\\u0428\\u0410\",\"type\":\"bar\",\"x\":[\"Action\",\"Shooter\",\"Sports\",\"Role-Playing\",\"Misc\",\"Platform\",\"Racing\",\"Fighting\",\"Simulation\",\"Adventure\",\"Strategy\",\"Puzzle\"],\"y\":[230.92000000000007,194.43,108.7000000000001,83.77999999999987,69.68999999999996,38.280000000000015,31.979999999999997,31.630000000000024,15.370000000000003,14.759999999999982,7.479999999999997,2.7399999999999984]},{\"name\":\"\\u0415\\u0432\\u0440\\u043e\\u043f\\u0430\",\"type\":\"bar\",\"x\":[\"Action\",\"Shooter\",\"Sports\",\"Role-Playing\",\"Misc\",\"Platform\",\"Racing\",\"Fighting\",\"Simulation\",\"Adventure\",\"Strategy\",\"Puzzle\"],\"y\":[199.12000000000046,148.02000000000007,88.48000000000005,62.30000000000001,39.72000000000006,30.069999999999997,40.58,16.24,19.719999999999995,13.959999999999987,8.019999999999994,3.559999999999997]},{\"name\":\"\\u042f\\u043f\\u043e\\u043d\\u0438\\u044f\",\"type\":\"bar\",\"x\":[\"Action\",\"Shooter\",\"Sports\",\"Role-Playing\",\"Misc\",\"Platform\",\"Racing\",\"Fighting\",\"Simulation\",\"Adventure\",\"Strategy\",\"Puzzle\"],\"y\":[63.620000000000154,11.919999999999982,11.089999999999998,79.87000000000002,17.60000000000002,12.129999999999994,5.639999999999995,12.37999999999998,11.639999999999988,12.069999999999906,4.779999999999995,2.9099999999999997]}],                        {\"barmode\":\"group\",\"template\":{\"data\":{\"bar\":[{\"error_x\":{\"color\":\"#2a3f5f\"},\"error_y\":{\"color\":\"#2a3f5f\"},\"marker\":{\"line\":{\"color\":\"#E5ECF6\",\"width\":0.5},\"pattern\":{\"fillmode\":\"overlay\",\"size\":10,\"solidity\":0.2}},\"type\":\"bar\"}],\"barpolar\":[{\"marker\":{\"line\":{\"color\":\"#E5ECF6\",\"width\":0.5},\"pattern\":{\"fillmode\":\"overlay\",\"size\":10,\"solidity\":0.2}},\"type\":\"barpolar\"}],\"carpet\":[{\"aaxis\":{\"endlinecolor\":\"#2a3f5f\",\"gridcolor\":\"white\",\"linecolor\":\"white\",\"minorgridcolor\":\"white\",\"startlinecolor\":\"#2a3f5f\"},\"baxis\":{\"endlinecolor\":\"#2a3f5f\",\"gridcolor\":\"white\",\"linecolor\":\"white\",\"minorgridcolor\":\"white\",\"startlinecolor\":\"#2a3f5f\"},\"type\":\"carpet\"}],\"choropleth\":[{\"colorbar\":{\"outlinewidth\":0,\"ticks\":\"\"},\"type\":\"choropleth\"}],\"contour\":[{\"colorbar\":{\"outlinewidth\":0,\"ticks\":\"\"},\"colorscale\":[[0.0,\"#0d0887\"],[0.1111111111111111,\"#46039f\"],[0.2222222222222222,\"#7201a8\"],[0.3333333333333333,\"#9c179e\"],[0.4444444444444444,\"#bd3786\"],[0.5555555555555556,\"#d8576b\"],[0.6666666666666666,\"#ed7953\"],[0.7777777777777778,\"#fb9f3a\"],[0.8888888888888888,\"#fdca26\"],[1.0,\"#f0f921\"]],\"type\":\"contour\"}],\"contourcarpet\":[{\"colorbar\":{\"outlinewidth\":0,\"ticks\":\"\"},\"type\":\"contourcarpet\"}],\"heatmap\":[{\"colorbar\":{\"outlinewidth\":0,\"ticks\":\"\"},\"colorscale\":[[0.0,\"#0d0887\"],[0.1111111111111111,\"#46039f\"],[0.2222222222222222,\"#7201a8\"],[0.3333333333333333,\"#9c179e\"],[0.4444444444444444,\"#bd3786\"],[0.5555555555555556,\"#d8576b\"],[0.6666666666666666,\"#ed7953\"],[0.7777777777777778,\"#fb9f3a\"],[0.8888888888888888,\"#fdca26\"],[1.0,\"#f0f921\"]],\"type\":\"heatmap\"}],\"heatmapgl\":[{\"colorbar\":{\"outlinewidth\":0,\"ticks\":\"\"},\"colorscale\":[[0.0,\"#0d0887\"],[0.1111111111111111,\"#46039f\"],[0.2222222222222222,\"#7201a8\"],[0.3333333333333333,\"#9c179e\"],[0.4444444444444444,\"#bd3786\"],[0.5555555555555556,\"#d8576b\"],[0.6666666666666666,\"#ed7953\"],[0.7777777777777778,\"#fb9f3a\"],[0.8888888888888888,\"#fdca26\"],[1.0,\"#f0f921\"]],\"type\":\"heatmapgl\"}],\"histogram\":[{\"marker\":{\"pattern\":{\"fillmode\":\"overlay\",\"size\":10,\"solidity\":0.2}},\"type\":\"histogram\"}],\"histogram2d\":[{\"colorbar\":{\"outlinewidth\":0,\"ticks\":\"\"},\"colorscale\":[[0.0,\"#0d0887\"],[0.1111111111111111,\"#46039f\"],[0.2222222222222222,\"#7201a8\"],[0.3333333333333333,\"#9c179e\"],[0.4444444444444444,\"#bd3786\"],[0.5555555555555556,\"#d8576b\"],[0.6666666666666666,\"#ed7953\"],[0.7777777777777778,\"#fb9f3a\"],[0.8888888888888888,\"#fdca26\"],[1.0,\"#f0f921\"]],\"type\":\"histogram2d\"}],\"histogram2dcontour\":[{\"colorbar\":{\"outlinewidth\":0,\"ticks\":\"\"},\"colorscale\":[[0.0,\"#0d0887\"],[0.1111111111111111,\"#46039f\"],[0.2222222222222222,\"#7201a8\"],[0.3333333333333333,\"#9c179e\"],[0.4444444444444444,\"#bd3786\"],[0.5555555555555556,\"#d8576b\"],[0.6666666666666666,\"#ed7953\"],[0.7777777777777778,\"#fb9f3a\"],[0.8888888888888888,\"#fdca26\"],[1.0,\"#f0f921\"]],\"type\":\"histogram2dcontour\"}],\"mesh3d\":[{\"colorbar\":{\"outlinewidth\":0,\"ticks\":\"\"},\"type\":\"mesh3d\"}],\"parcoords\":[{\"line\":{\"colorbar\":{\"outlinewidth\":0,\"ticks\":\"\"}},\"type\":\"parcoords\"}],\"pie\":[{\"automargin\":true,\"type\":\"pie\"}],\"scatter\":[{\"marker\":{\"colorbar\":{\"outlinewidth\":0,\"ticks\":\"\"}},\"type\":\"scatter\"}],\"scatter3d\":[{\"line\":{\"colorbar\":{\"outlinewidth\":0,\"ticks\":\"\"}},\"marker\":{\"colorbar\":{\"outlinewidth\":0,\"ticks\":\"\"}},\"type\":\"scatter3d\"}],\"scattercarpet\":[{\"marker\":{\"colorbar\":{\"outlinewidth\":0,\"ticks\":\"\"}},\"type\":\"scattercarpet\"}],\"scattergeo\":[{\"marker\":{\"colorbar\":{\"outlinewidth\":0,\"ticks\":\"\"}},\"type\":\"scattergeo\"}],\"scattergl\":[{\"marker\":{\"colorbar\":{\"outlinewidth\":0,\"ticks\":\"\"}},\"type\":\"scattergl\"}],\"scattermapbox\":[{\"marker\":{\"colorbar\":{\"outlinewidth\":0,\"ticks\":\"\"}},\"type\":\"scattermapbox\"}],\"scatterpolar\":[{\"marker\":{\"colorbar\":{\"outlinewidth\":0,\"ticks\":\"\"}},\"type\":\"scatterpolar\"}],\"scatterpolargl\":[{\"marker\":{\"colorbar\":{\"outlinewidth\":0,\"ticks\":\"\"}},\"type\":\"scatterpolargl\"}],\"scatterternary\":[{\"marker\":{\"colorbar\":{\"outlinewidth\":0,\"ticks\":\"\"}},\"type\":\"scatterternary\"}],\"surface\":[{\"colorbar\":{\"outlinewidth\":0,\"ticks\":\"\"},\"colorscale\":[[0.0,\"#0d0887\"],[0.1111111111111111,\"#46039f\"],[0.2222222222222222,\"#7201a8\"],[0.3333333333333333,\"#9c179e\"],[0.4444444444444444,\"#bd3786\"],[0.5555555555555556,\"#d8576b\"],[0.6666666666666666,\"#ed7953\"],[0.7777777777777778,\"#fb9f3a\"],[0.8888888888888888,\"#fdca26\"],[1.0,\"#f0f921\"]],\"type\":\"surface\"}],\"table\":[{\"cells\":{\"fill\":{\"color\":\"#EBF0F8\"},\"line\":{\"color\":\"white\"}},\"header\":{\"fill\":{\"color\":\"#C8D4E3\"},\"line\":{\"color\":\"white\"}},\"type\":\"table\"}]},\"layout\":{\"annotationdefaults\":{\"arrowcolor\":\"#2a3f5f\",\"arrowhead\":0,\"arrowwidth\":1},\"autotypenumbers\":\"strict\",\"coloraxis\":{\"colorbar\":{\"outlinewidth\":0,\"ticks\":\"\"}},\"colorscale\":{\"diverging\":[[0,\"#8e0152\"],[0.1,\"#c51b7d\"],[0.2,\"#de77ae\"],[0.3,\"#f1b6da\"],[0.4,\"#fde0ef\"],[0.5,\"#f7f7f7\"],[0.6,\"#e6f5d0\"],[0.7,\"#b8e186\"],[0.8,\"#7fbc41\"],[0.9,\"#4d9221\"],[1,\"#276419\"]],\"sequential\":[[0.0,\"#0d0887\"],[0.1111111111111111,\"#46039f\"],[0.2222222222222222,\"#7201a8\"],[0.3333333333333333,\"#9c179e\"],[0.4444444444444444,\"#bd3786\"],[0.5555555555555556,\"#d8576b\"],[0.6666666666666666,\"#ed7953\"],[0.7777777777777778,\"#fb9f3a\"],[0.8888888888888888,\"#fdca26\"],[1.0,\"#f0f921\"]],\"sequentialminus\":[[0.0,\"#0d0887\"],[0.1111111111111111,\"#46039f\"],[0.2222222222222222,\"#7201a8\"],[0.3333333333333333,\"#9c179e\"],[0.4444444444444444,\"#bd3786\"],[0.5555555555555556,\"#d8576b\"],[0.6666666666666666,\"#ed7953\"],[0.7777777777777778,\"#fb9f3a\"],[0.8888888888888888,\"#fdca26\"],[1.0,\"#f0f921\"]]},\"colorway\":[\"#636efa\",\"#EF553B\",\"#00cc96\",\"#ab63fa\",\"#FFA15A\",\"#19d3f3\",\"#FF6692\",\"#B6E880\",\"#FF97FF\",\"#FECB52\"],\"font\":{\"color\":\"#2a3f5f\"},\"geo\":{\"bgcolor\":\"white\",\"lakecolor\":\"white\",\"landcolor\":\"#E5ECF6\",\"showlakes\":true,\"showland\":true,\"subunitcolor\":\"white\"},\"hoverlabel\":{\"align\":\"left\"},\"hovermode\":\"closest\",\"mapbox\":{\"style\":\"light\"},\"paper_bgcolor\":\"white\",\"plot_bgcolor\":\"#E5ECF6\",\"polar\":{\"angularaxis\":{\"gridcolor\":\"white\",\"linecolor\":\"white\",\"ticks\":\"\"},\"bgcolor\":\"#E5ECF6\",\"radialaxis\":{\"gridcolor\":\"white\",\"linecolor\":\"white\",\"ticks\":\"\"}},\"scene\":{\"xaxis\":{\"backgroundcolor\":\"#E5ECF6\",\"gridcolor\":\"white\",\"gridwidth\":2,\"linecolor\":\"white\",\"showbackground\":true,\"ticks\":\"\",\"zerolinecolor\":\"white\"},\"yaxis\":{\"backgroundcolor\":\"#E5ECF6\",\"gridcolor\":\"white\",\"gridwidth\":2,\"linecolor\":\"white\",\"showbackground\":true,\"ticks\":\"\",\"zerolinecolor\":\"white\"},\"zaxis\":{\"backgroundcolor\":\"#E5ECF6\",\"gridcolor\":\"white\",\"gridwidth\":2,\"linecolor\":\"white\",\"showbackground\":true,\"ticks\":\"\",\"zerolinecolor\":\"white\"}},\"shapedefaults\":{\"line\":{\"color\":\"#2a3f5f\"}},\"ternary\":{\"aaxis\":{\"gridcolor\":\"white\",\"linecolor\":\"white\",\"ticks\":\"\"},\"baxis\":{\"gridcolor\":\"white\",\"linecolor\":\"white\",\"ticks\":\"\"},\"bgcolor\":\"#E5ECF6\",\"caxis\":{\"gridcolor\":\"white\",\"linecolor\":\"white\",\"ticks\":\"\"}},\"title\":{\"x\":0.05},\"xaxis\":{\"automargin\":true,\"gridcolor\":\"white\",\"linecolor\":\"white\",\"ticks\":\"\",\"title\":{\"standoff\":15},\"zerolinecolor\":\"white\",\"zerolinewidth\":2},\"yaxis\":{\"automargin\":true,\"gridcolor\":\"white\",\"linecolor\":\"white\",\"ticks\":\"\",\"title\":{\"standoff\":15},\"zerolinecolor\":\"white\",\"zerolinewidth\":2}}},\"title\":{\"text\":\"\\u0416\\u0430\\u043d\\u0440\\u044b \\u043f\\u043e \\u0440\\u0435\\u0433\\u0438\\u043e\\u043d\\u0430\\u043c\",\"x\":0.5,\"y\":0.87},\"xaxis\":{\"title\":{\"text\":\"\\u0416\\u0430\\u043d\\u0440\"}},\"yaxis\":{\"title\":{\"text\":\"\\u041f\\u0440\\u043e\\u0434\\u0430\\u043d\\u043e \\u043a\\u043e\\u043f\\u0438\\u0439, \\u043c\\u043b\\u043d.\"}}},                        {\"responsive\": true}                    ).then(function(){\n",
       "                            \n",
       "var gd = document.getElementById('dfc77a90-331d-437f-943e-52ea263a0cc4');\n",
       "var x = new MutationObserver(function (mutations, observer) {{\n",
       "        var display = window.getComputedStyle(gd).display;\n",
       "        if (!display || display === 'none') {{\n",
       "            console.log([gd, 'removed!']);\n",
       "            Plotly.purge(gd);\n",
       "            observer.disconnect();\n",
       "        }}\n",
       "}});\n",
       "\n",
       "// Listen for the removal of the full notebook cells\n",
       "var notebookContainer = gd.closest('#notebook-container');\n",
       "if (notebookContainer) {{\n",
       "    x.observe(notebookContainer, {childList: true});\n",
       "}}\n",
       "\n",
       "// Listen for the clearing of the current output cell\n",
       "var outputEl = gd.closest('.output');\n",
       "if (outputEl) {{\n",
       "    x.observe(outputEl, {childList: true});\n",
       "}}\n",
       "\n",
       "                        })                };                });            </script>        </div>"
      ]
     },
     "metadata": {},
     "output_type": "display_data"
    }
   ],
   "source": [
    "# Группируем даные по жанрам, суммируем продажи для каждого региона, сортируем по продажам в США\n",
    "genres=actual_df.pivot_table(\n",
    "    index='genre', values=['na_sales', 'eu_sales', 'jp_sales'], aggfunc='sum').sort_values(by='na_sales', ascending=False)\n",
    "# Строим график\n",
    "fig = go.Figure(data=[\n",
    "    go.Bar(name='США', x=genres.index, y=genres['na_sales']),\n",
    "    go.Bar(name='Европа', x=genres.index, y=genres['eu_sales']),\n",
    "    go.Bar(name='Япония', x=genres.index, y=genres['jp_sales'])],\n",
    "               )\n",
    "fig.update_layout(\n",
    "    barmode='group',\n",
    "    title={'text':'Жанры по регионам', 'x':0.5, 'y':0.87},\n",
    "    xaxis_title='Жанр',\n",
    "    yaxis_title='Продано копий, млн.'\n",
    ")\n",
    "fig.show()"
   ]
  },
  {
   "cell_type": "code",
   "execution_count": 27,
   "id": "77b4d1c5",
   "metadata": {
    "execution": {
     "iopub.execute_input": "2021-11-28T20:35:23.114666Z",
     "iopub.status.busy": "2021-11-28T20:35:23.111296Z",
     "iopub.status.idle": "2021-11-28T20:35:23.119372Z",
     "shell.execute_reply": "2021-11-28T20:35:23.118842Z",
     "shell.execute_reply.started": "2021-11-28T20:29:31.065054Z"
    },
    "papermill": {
     "duration": 0.086745,
     "end_time": "2021-11-28T20:35:23.119544",
     "exception": false,
     "start_time": "2021-11-28T20:35:23.032799",
     "status": "completed"
    },
    "tags": []
   },
   "outputs": [
    {
     "name": "stdout",
     "output_type": "stream",
     "text": [
      "Жанры Role-Playing и Action составляют 58.41% всего рынка игр в Японии.\n"
     ]
    }
   ],
   "source": [
    "# Найдем долю рынка двух лидирующих жанров в Японии\n",
    "top_genres_ratio_jp = (genres.loc['Role-Playing', 'jp_sales']+genres.loc['Action', 'jp_sales']) / genres['jp_sales'].sum()\n",
    "print('Жанры Role-Playing и Action составляют {:.2%} всего рынка игр в Японии.'.format(top_genres_ratio_jp)) "
   ]
  },
  {
   "cell_type": "markdown",
   "id": "50f27004",
   "metadata": {
    "papermill": {
     "duration": 0.074021,
     "end_time": "2021-11-28T20:35:23.267821",
     "exception": false,
     "start_time": "2021-11-28T20:35:23.193800",
     "status": "completed"
    },
    "tags": []
   },
   "source": [
    "Наблюдаем похожую ситуацию, но в данном случае топ-5 жанров для США и Европы полностью совпадает. Разница в продажах между жанрами для этих стран так же небольшая. В Японии же предпочтения сильно отличаются, и снова есть лидеры с большим отрывом: Role-Playing и Action, эти жанры составляют почти 60% рынка игр этой страны.\n",
    "\n",
    "+ Лидеры продаж в США: Action, Shooter, Sports, Role-Playing, Misc(Смешанный)\n",
    "+ Лидеры продаж в Европе: Action, Shooter, Sports, Role-Playing, Misc(Смешанный)\n",
    "+ Лидеры продаж в Японии: Role-Playing, Action, Misc(Смешанный), Fighting, Platform"
   ]
  },
  {
   "cell_type": "markdown",
   "id": "6fd97ec1",
   "metadata": {
    "papermill": {
     "duration": 0.073762,
     "end_time": "2021-11-28T20:35:23.415889",
     "exception": false,
     "start_time": "2021-11-28T20:35:23.342127",
     "status": "completed"
    },
    "tags": []
   },
   "source": [
    "**Влияние возрастного рейтинга на продажи в регионах**\n",
    "\n",
    "Выясним, какие бывают рейтинги, какие из них самые массовые, и как они влияют на продажи в каждом регионе."
   ]
  },
  {
   "cell_type": "code",
   "execution_count": 28,
   "id": "bf1efcc4",
   "metadata": {
    "execution": {
     "iopub.execute_input": "2021-11-28T20:35:23.576987Z",
     "iopub.status.busy": "2021-11-28T20:35:23.576116Z",
     "iopub.status.idle": "2021-11-28T20:35:23.580258Z",
     "shell.execute_reply": "2021-11-28T20:35:23.580844Z",
     "shell.execute_reply.started": "2021-11-28T20:29:31.071454Z"
    },
    "papermill": {
     "duration": 0.090746,
     "end_time": "2021-11-28T20:35:23.581034",
     "exception": false,
     "start_time": "2021-11-28T20:35:23.490288",
     "status": "completed"
    },
    "tags": []
   },
   "outputs": [
    {
     "name": "stdout",
     "output_type": "stream",
     "text": [
      "M       622\n",
      "E       618\n",
      "T       616\n",
      "E10+    456\n",
      "RP        1\n",
      "EC        1\n",
      "Name: rating, dtype: int64\n",
      "\n",
      "Возрастной рейтинг не указан для 63.48% игр.\n"
     ]
    }
   ],
   "source": [
    "print(actual_df['rating'].value_counts()) # Оценим количество игр по рейтингам и посчитаем долю пропусков за актуальный период\n",
    "rating_na_ratio = actual_df['rating'].isna().count()/(actual_df['rating'].isna().count()+actual_df['rating'].count())\n",
    "print()\n",
    "print('Возрастной рейтинг не указан для {:.2%} игр.'.format(rating_na_ratio))"
   ]
  },
  {
   "cell_type": "markdown",
   "id": "5d283049",
   "metadata": {
    "papermill": {
     "duration": 0.074944,
     "end_time": "2021-11-28T20:35:23.732066",
     "exception": false,
     "start_time": "2021-11-28T20:35:23.657122",
     "status": "completed"
    },
    "tags": []
   },
   "source": [
    "Основные возрастные категории примерно равны по объему, исключения: E10(10+) - таких игр немного меньше и EC(3+) - за актуальный период была выпущена только одна такая игра. Для бóльшей же части игр - **63%**, данные по возрастному рейтингу отсутствуют.\n",
    "\n",
    "**Entertainment Software Rating Board** (ESRB) — негосударственная саморегулирующаяся организация, которая присваивает рейтинги компьютерным и видеоиграм, а также другому развлекательному программному обеспечению в **США и Канаде**. Получение рейтинга добровольно, однако необходимо для успешных продаж на территории **США и Канады**.\n",
    "\n",
    "Выясним, насколько этот рейтинг распространен в **Японии**. Для этого найдем, какая доля игр была продана на японском рынке без указания возрастного рейтинга ESRB."
   ]
  },
  {
   "cell_type": "code",
   "execution_count": 29,
   "id": "afe3fc81",
   "metadata": {
    "execution": {
     "iopub.execute_input": "2021-11-28T20:35:23.886991Z",
     "iopub.status.busy": "2021-11-28T20:35:23.886265Z",
     "iopub.status.idle": "2021-11-28T20:35:23.895558Z",
     "shell.execute_reply": "2021-11-28T20:35:23.896050Z",
     "shell.execute_reply.started": "2021-11-28T20:29:31.090103Z"
    },
    "papermill": {
     "duration": 0.089318,
     "end_time": "2021-11-28T20:35:23.896231",
     "exception": false,
     "start_time": "2021-11-28T20:35:23.806913",
     "status": "completed"
    },
    "tags": []
   },
   "outputs": [
    {
     "name": "stdout",
     "output_type": "stream",
     "text": [
      "В Японии 56.26% игр были проданы без указания возрастного рейтинга ESRB.\n"
     ]
    }
   ],
   "source": [
    "rating_na_ratio_jp = actual_df[actual_df['rating'].isna()]['jp_sales'].sum()/actual_df['jp_sales'].sum()\n",
    "print('В Японии {:.2%} игр были проданы без указания возрастного рейтинга ESRB.'.format(rating_na_ratio_jp))"
   ]
  },
  {
   "cell_type": "markdown",
   "id": "3a207f89",
   "metadata": {
    "papermill": {
     "duration": 0.075761,
     "end_time": "2021-11-28T20:35:24.048444",
     "exception": false,
     "start_time": "2021-11-28T20:35:23.972683",
     "status": "completed"
    },
    "tags": []
   },
   "source": [
    "Как видим, ESRB не очень распространен в Японии, бóльшая часть игр там продается без указания данного возрастного рейтинга."
   ]
  },
  {
   "cell_type": "code",
   "execution_count": 30,
   "id": "a5de5a4e",
   "metadata": {
    "execution": {
     "iopub.execute_input": "2021-11-28T20:35:24.212551Z",
     "iopub.status.busy": "2021-11-28T20:35:24.208332Z",
     "iopub.status.idle": "2021-11-28T20:35:24.233825Z",
     "shell.execute_reply": "2021-11-28T20:35:24.234441Z",
     "shell.execute_reply.started": "2021-11-28T20:29:31.106678Z"
    },
    "papermill": {
     "duration": 0.110174,
     "end_time": "2021-11-28T20:35:24.234612",
     "exception": false,
     "start_time": "2021-11-28T20:35:24.124438",
     "status": "completed"
    },
    "tags": []
   },
   "outputs": [
    {
     "data": {
      "text/html": [
       "<div>                            <div id=\"f8b38b4e-7f29-4d7d-bcc7-2631a32b01ae\" class=\"plotly-graph-div\" style=\"height:525px; width:100%;\"></div>            <script type=\"text/javascript\">                require([\"plotly\"], function(Plotly) {                    window.PLOTLYENV=window.PLOTLYENV || {};                                    if (document.getElementById(\"f8b38b4e-7f29-4d7d-bcc7-2631a32b01ae\")) {                    Plotly.newPlot(                        \"f8b38b4e-7f29-4d7d-bcc7-2631a32b01ae\",                        [{\"name\":\"\\u0421\\u0428\\u0410\",\"type\":\"bar\",\"x\":[\"M\",\"E\",\"E10+\",\"T\",\"EC\",\"RP\"],\"y\":[308.449999999999,170.17000000000027,117.7199999999999,109.30999999999993,0.42,0.0]},{\"name\":\"\\u0415\\u0432\\u0440\\u043e\\u043f\\u0430\",\"type\":\"bar\",\"x\":[\"M\",\"E\",\"E10+\",\"T\",\"EC\",\"RP\"],\"y\":[250.26000000000025,141.73000000000027,78.00000000000014,83.16000000000012,0.0,0.03]},{\"name\":\"\\u042f\\u043f\\u043e\\u043d\\u0438\\u044f\",\"type\":\"bar\",\"x\":[\"M\",\"E\",\"E10+\",\"T\",\"EC\",\"RP\"],\"y\":[26.14000000000006,36.68000000000003,11.229999999999988,33.390000000000036,0.0,0.0]}],                        {\"barmode\":\"group\",\"template\":{\"data\":{\"bar\":[{\"error_x\":{\"color\":\"#2a3f5f\"},\"error_y\":{\"color\":\"#2a3f5f\"},\"marker\":{\"line\":{\"color\":\"#E5ECF6\",\"width\":0.5},\"pattern\":{\"fillmode\":\"overlay\",\"size\":10,\"solidity\":0.2}},\"type\":\"bar\"}],\"barpolar\":[{\"marker\":{\"line\":{\"color\":\"#E5ECF6\",\"width\":0.5},\"pattern\":{\"fillmode\":\"overlay\",\"size\":10,\"solidity\":0.2}},\"type\":\"barpolar\"}],\"carpet\":[{\"aaxis\":{\"endlinecolor\":\"#2a3f5f\",\"gridcolor\":\"white\",\"linecolor\":\"white\",\"minorgridcolor\":\"white\",\"startlinecolor\":\"#2a3f5f\"},\"baxis\":{\"endlinecolor\":\"#2a3f5f\",\"gridcolor\":\"white\",\"linecolor\":\"white\",\"minorgridcolor\":\"white\",\"startlinecolor\":\"#2a3f5f\"},\"type\":\"carpet\"}],\"choropleth\":[{\"colorbar\":{\"outlinewidth\":0,\"ticks\":\"\"},\"type\":\"choropleth\"}],\"contour\":[{\"colorbar\":{\"outlinewidth\":0,\"ticks\":\"\"},\"colorscale\":[[0.0,\"#0d0887\"],[0.1111111111111111,\"#46039f\"],[0.2222222222222222,\"#7201a8\"],[0.3333333333333333,\"#9c179e\"],[0.4444444444444444,\"#bd3786\"],[0.5555555555555556,\"#d8576b\"],[0.6666666666666666,\"#ed7953\"],[0.7777777777777778,\"#fb9f3a\"],[0.8888888888888888,\"#fdca26\"],[1.0,\"#f0f921\"]],\"type\":\"contour\"}],\"contourcarpet\":[{\"colorbar\":{\"outlinewidth\":0,\"ticks\":\"\"},\"type\":\"contourcarpet\"}],\"heatmap\":[{\"colorbar\":{\"outlinewidth\":0,\"ticks\":\"\"},\"colorscale\":[[0.0,\"#0d0887\"],[0.1111111111111111,\"#46039f\"],[0.2222222222222222,\"#7201a8\"],[0.3333333333333333,\"#9c179e\"],[0.4444444444444444,\"#bd3786\"],[0.5555555555555556,\"#d8576b\"],[0.6666666666666666,\"#ed7953\"],[0.7777777777777778,\"#fb9f3a\"],[0.8888888888888888,\"#fdca26\"],[1.0,\"#f0f921\"]],\"type\":\"heatmap\"}],\"heatmapgl\":[{\"colorbar\":{\"outlinewidth\":0,\"ticks\":\"\"},\"colorscale\":[[0.0,\"#0d0887\"],[0.1111111111111111,\"#46039f\"],[0.2222222222222222,\"#7201a8\"],[0.3333333333333333,\"#9c179e\"],[0.4444444444444444,\"#bd3786\"],[0.5555555555555556,\"#d8576b\"],[0.6666666666666666,\"#ed7953\"],[0.7777777777777778,\"#fb9f3a\"],[0.8888888888888888,\"#fdca26\"],[1.0,\"#f0f921\"]],\"type\":\"heatmapgl\"}],\"histogram\":[{\"marker\":{\"pattern\":{\"fillmode\":\"overlay\",\"size\":10,\"solidity\":0.2}},\"type\":\"histogram\"}],\"histogram2d\":[{\"colorbar\":{\"outlinewidth\":0,\"ticks\":\"\"},\"colorscale\":[[0.0,\"#0d0887\"],[0.1111111111111111,\"#46039f\"],[0.2222222222222222,\"#7201a8\"],[0.3333333333333333,\"#9c179e\"],[0.4444444444444444,\"#bd3786\"],[0.5555555555555556,\"#d8576b\"],[0.6666666666666666,\"#ed7953\"],[0.7777777777777778,\"#fb9f3a\"],[0.8888888888888888,\"#fdca26\"],[1.0,\"#f0f921\"]],\"type\":\"histogram2d\"}],\"histogram2dcontour\":[{\"colorbar\":{\"outlinewidth\":0,\"ticks\":\"\"},\"colorscale\":[[0.0,\"#0d0887\"],[0.1111111111111111,\"#46039f\"],[0.2222222222222222,\"#7201a8\"],[0.3333333333333333,\"#9c179e\"],[0.4444444444444444,\"#bd3786\"],[0.5555555555555556,\"#d8576b\"],[0.6666666666666666,\"#ed7953\"],[0.7777777777777778,\"#fb9f3a\"],[0.8888888888888888,\"#fdca26\"],[1.0,\"#f0f921\"]],\"type\":\"histogram2dcontour\"}],\"mesh3d\":[{\"colorbar\":{\"outlinewidth\":0,\"ticks\":\"\"},\"type\":\"mesh3d\"}],\"parcoords\":[{\"line\":{\"colorbar\":{\"outlinewidth\":0,\"ticks\":\"\"}},\"type\":\"parcoords\"}],\"pie\":[{\"automargin\":true,\"type\":\"pie\"}],\"scatter\":[{\"marker\":{\"colorbar\":{\"outlinewidth\":0,\"ticks\":\"\"}},\"type\":\"scatter\"}],\"scatter3d\":[{\"line\":{\"colorbar\":{\"outlinewidth\":0,\"ticks\":\"\"}},\"marker\":{\"colorbar\":{\"outlinewidth\":0,\"ticks\":\"\"}},\"type\":\"scatter3d\"}],\"scattercarpet\":[{\"marker\":{\"colorbar\":{\"outlinewidth\":0,\"ticks\":\"\"}},\"type\":\"scattercarpet\"}],\"scattergeo\":[{\"marker\":{\"colorbar\":{\"outlinewidth\":0,\"ticks\":\"\"}},\"type\":\"scattergeo\"}],\"scattergl\":[{\"marker\":{\"colorbar\":{\"outlinewidth\":0,\"ticks\":\"\"}},\"type\":\"scattergl\"}],\"scattermapbox\":[{\"marker\":{\"colorbar\":{\"outlinewidth\":0,\"ticks\":\"\"}},\"type\":\"scattermapbox\"}],\"scatterpolar\":[{\"marker\":{\"colorbar\":{\"outlinewidth\":0,\"ticks\":\"\"}},\"type\":\"scatterpolar\"}],\"scatterpolargl\":[{\"marker\":{\"colorbar\":{\"outlinewidth\":0,\"ticks\":\"\"}},\"type\":\"scatterpolargl\"}],\"scatterternary\":[{\"marker\":{\"colorbar\":{\"outlinewidth\":0,\"ticks\":\"\"}},\"type\":\"scatterternary\"}],\"surface\":[{\"colorbar\":{\"outlinewidth\":0,\"ticks\":\"\"},\"colorscale\":[[0.0,\"#0d0887\"],[0.1111111111111111,\"#46039f\"],[0.2222222222222222,\"#7201a8\"],[0.3333333333333333,\"#9c179e\"],[0.4444444444444444,\"#bd3786\"],[0.5555555555555556,\"#d8576b\"],[0.6666666666666666,\"#ed7953\"],[0.7777777777777778,\"#fb9f3a\"],[0.8888888888888888,\"#fdca26\"],[1.0,\"#f0f921\"]],\"type\":\"surface\"}],\"table\":[{\"cells\":{\"fill\":{\"color\":\"#EBF0F8\"},\"line\":{\"color\":\"white\"}},\"header\":{\"fill\":{\"color\":\"#C8D4E3\"},\"line\":{\"color\":\"white\"}},\"type\":\"table\"}]},\"layout\":{\"annotationdefaults\":{\"arrowcolor\":\"#2a3f5f\",\"arrowhead\":0,\"arrowwidth\":1},\"autotypenumbers\":\"strict\",\"coloraxis\":{\"colorbar\":{\"outlinewidth\":0,\"ticks\":\"\"}},\"colorscale\":{\"diverging\":[[0,\"#8e0152\"],[0.1,\"#c51b7d\"],[0.2,\"#de77ae\"],[0.3,\"#f1b6da\"],[0.4,\"#fde0ef\"],[0.5,\"#f7f7f7\"],[0.6,\"#e6f5d0\"],[0.7,\"#b8e186\"],[0.8,\"#7fbc41\"],[0.9,\"#4d9221\"],[1,\"#276419\"]],\"sequential\":[[0.0,\"#0d0887\"],[0.1111111111111111,\"#46039f\"],[0.2222222222222222,\"#7201a8\"],[0.3333333333333333,\"#9c179e\"],[0.4444444444444444,\"#bd3786\"],[0.5555555555555556,\"#d8576b\"],[0.6666666666666666,\"#ed7953\"],[0.7777777777777778,\"#fb9f3a\"],[0.8888888888888888,\"#fdca26\"],[1.0,\"#f0f921\"]],\"sequentialminus\":[[0.0,\"#0d0887\"],[0.1111111111111111,\"#46039f\"],[0.2222222222222222,\"#7201a8\"],[0.3333333333333333,\"#9c179e\"],[0.4444444444444444,\"#bd3786\"],[0.5555555555555556,\"#d8576b\"],[0.6666666666666666,\"#ed7953\"],[0.7777777777777778,\"#fb9f3a\"],[0.8888888888888888,\"#fdca26\"],[1.0,\"#f0f921\"]]},\"colorway\":[\"#636efa\",\"#EF553B\",\"#00cc96\",\"#ab63fa\",\"#FFA15A\",\"#19d3f3\",\"#FF6692\",\"#B6E880\",\"#FF97FF\",\"#FECB52\"],\"font\":{\"color\":\"#2a3f5f\"},\"geo\":{\"bgcolor\":\"white\",\"lakecolor\":\"white\",\"landcolor\":\"#E5ECF6\",\"showlakes\":true,\"showland\":true,\"subunitcolor\":\"white\"},\"hoverlabel\":{\"align\":\"left\"},\"hovermode\":\"closest\",\"mapbox\":{\"style\":\"light\"},\"paper_bgcolor\":\"white\",\"plot_bgcolor\":\"#E5ECF6\",\"polar\":{\"angularaxis\":{\"gridcolor\":\"white\",\"linecolor\":\"white\",\"ticks\":\"\"},\"bgcolor\":\"#E5ECF6\",\"radialaxis\":{\"gridcolor\":\"white\",\"linecolor\":\"white\",\"ticks\":\"\"}},\"scene\":{\"xaxis\":{\"backgroundcolor\":\"#E5ECF6\",\"gridcolor\":\"white\",\"gridwidth\":2,\"linecolor\":\"white\",\"showbackground\":true,\"ticks\":\"\",\"zerolinecolor\":\"white\"},\"yaxis\":{\"backgroundcolor\":\"#E5ECF6\",\"gridcolor\":\"white\",\"gridwidth\":2,\"linecolor\":\"white\",\"showbackground\":true,\"ticks\":\"\",\"zerolinecolor\":\"white\"},\"zaxis\":{\"backgroundcolor\":\"#E5ECF6\",\"gridcolor\":\"white\",\"gridwidth\":2,\"linecolor\":\"white\",\"showbackground\":true,\"ticks\":\"\",\"zerolinecolor\":\"white\"}},\"shapedefaults\":{\"line\":{\"color\":\"#2a3f5f\"}},\"ternary\":{\"aaxis\":{\"gridcolor\":\"white\",\"linecolor\":\"white\",\"ticks\":\"\"},\"baxis\":{\"gridcolor\":\"white\",\"linecolor\":\"white\",\"ticks\":\"\"},\"bgcolor\":\"#E5ECF6\",\"caxis\":{\"gridcolor\":\"white\",\"linecolor\":\"white\",\"ticks\":\"\"}},\"title\":{\"x\":0.05},\"xaxis\":{\"automargin\":true,\"gridcolor\":\"white\",\"linecolor\":\"white\",\"ticks\":\"\",\"title\":{\"standoff\":15},\"zerolinecolor\":\"white\",\"zerolinewidth\":2},\"yaxis\":{\"automargin\":true,\"gridcolor\":\"white\",\"linecolor\":\"white\",\"ticks\":\"\",\"title\":{\"standoff\":15},\"zerolinecolor\":\"white\",\"zerolinewidth\":2}}},\"title\":{\"text\":\"\\u0412\\u043e\\u0437\\u0440\\u0430\\u0441\\u0442\\u043d\\u043e\\u0439 \\u0440\\u0435\\u0439\\u0442\\u0438\\u043d\\u0433 \\u043f\\u043e \\u0440\\u0435\\u0433\\u0438\\u043e\\u043d\\u0430\\u043c\",\"x\":0.5,\"y\":0.87},\"xaxis\":{\"title\":{\"text\":\"\\u0420\\u0435\\u0439\\u0442\\u0438\\u043d\\u0433\"}},\"yaxis\":{\"title\":{\"text\":\"\\u041f\\u0440\\u043e\\u0434\\u0430\\u043d\\u043e \\u043a\\u043e\\u043f\\u0438\\u0439\"}}},                        {\"responsive\": true}                    ).then(function(){\n",
       "                            \n",
       "var gd = document.getElementById('f8b38b4e-7f29-4d7d-bcc7-2631a32b01ae');\n",
       "var x = new MutationObserver(function (mutations, observer) {{\n",
       "        var display = window.getComputedStyle(gd).display;\n",
       "        if (!display || display === 'none') {{\n",
       "            console.log([gd, 'removed!']);\n",
       "            Plotly.purge(gd);\n",
       "            observer.disconnect();\n",
       "        }}\n",
       "}});\n",
       "\n",
       "// Listen for the removal of the full notebook cells\n",
       "var notebookContainer = gd.closest('#notebook-container');\n",
       "if (notebookContainer) {{\n",
       "    x.observe(notebookContainer, {childList: true});\n",
       "}}\n",
       "\n",
       "// Listen for the clearing of the current output cell\n",
       "var outputEl = gd.closest('.output');\n",
       "if (outputEl) {{\n",
       "    x.observe(outputEl, {childList: true});\n",
       "}}\n",
       "\n",
       "                        })                };                });            </script>        </div>"
      ]
     },
     "metadata": {},
     "output_type": "display_data"
    }
   ],
   "source": [
    "# Группируем даные по возрастному рейтингу, суммируем продажи для каждого региона, сортируем по продажам в США\n",
    "rating=actual_df.pivot_table(\n",
    "    index='rating', values=['na_sales', 'eu_sales', 'jp_sales'], aggfunc='sum').sort_values(by='na_sales', ascending=False)\n",
    "# Строим график\n",
    "fig = go.Figure(data=[\n",
    "    go.Bar(name='США', x=rating.index, y=rating['na_sales']),\n",
    "    go.Bar(name='Европа', x=rating.index, y=rating['eu_sales']),\n",
    "    go.Bar(name='Япония', x=rating.index, y=rating['jp_sales'])],\n",
    "               )\n",
    "fig.update_layout(\n",
    "    barmode='group',\n",
    "    title={'text':'Возрастной рейтинг по регионам', 'x':0.5, 'y':0.87},\n",
    "    xaxis_title='Рейтинг',\n",
    "    yaxis_title='Продано копий'\n",
    ")\n",
    "fig.show()"
   ]
  },
  {
   "cell_type": "markdown",
   "id": "88ef6563",
   "metadata": {
    "papermill": {
     "duration": 0.07513,
     "end_time": "2021-11-28T20:35:24.385317",
     "exception": false,
     "start_time": "2021-11-28T20:35:24.310187",
     "status": "completed"
    },
    "tags": []
   },
   "source": [
    "Картина для Японии снова отличается, и снова есть большой отрыв, хотя его и не видно на графике. Напомним, что бóльшая часть игр (56%) в Японии продается без указания возрастного рейтинга ESRB.\n",
    "+ Лидеры продаж в США: M(17+), E(6+), E10(10+), T(13+)\n",
    "+ Лидеры продаж в Европе: M(17+), E(6+), T(13+), E10(10+) \n",
    "+ Лидеры продаж в Японии: Без рейтинга, E(6+), T(13+), M(17+), E10(10+)"
   ]
  },
  {
   "cell_type": "markdown",
   "id": "16a460ec",
   "metadata": {
    "papermill": {
     "duration": 0.075209,
     "end_time": "2021-11-28T20:35:24.536065",
     "exception": false,
     "start_time": "2021-11-28T20:35:24.460856",
     "status": "completed"
    },
    "tags": []
   },
   "source": [
    "Мы видим, что параметры популярных игр в Японии кардинально отличаются от США и Европы. Как мы выяснили [в предыдущей главе](#scores), существует зависимость продаж от отзывов критиков, а связь между отзывами пользователей и продажами зависит от платформы. Теперь сравним эти закономерности для японского рынка и остального мира."
   ]
  },
  {
   "cell_type": "code",
   "execution_count": 31,
   "id": "a257da99",
   "metadata": {
    "execution": {
     "iopub.execute_input": "2021-11-28T20:35:24.690838Z",
     "iopub.status.busy": "2021-11-28T20:35:24.690146Z",
     "iopub.status.idle": "2021-11-28T20:35:25.229996Z",
     "shell.execute_reply": "2021-11-28T20:35:25.229410Z",
     "shell.execute_reply.started": "2021-11-28T20:29:31.333935Z"
    },
    "papermill": {
     "duration": 0.618503,
     "end_time": "2021-11-28T20:35:25.230142",
     "exception": false,
     "start_time": "2021-11-28T20:35:24.611639",
     "status": "completed"
    },
    "scrolled": true,
    "tags": []
   },
   "outputs": [
    {
     "data": {
      "image/png": "[encoded data removed]",
      "text/plain": [
       "<Figure size 936x360 with 4 Axes>"
      ]
     },
     "metadata": {
      "needs_background": "light"
     },
     "output_type": "display_data"
    }
   ],
   "source": [
    "# Найдем игры, которые лучше всего продавались в Японии и в остальном мире\n",
    "jp_df=actual_df.query('jp_sales > na_sales+eu_sales+other_sales')\n",
    "not_jp_df = actual_df.query('jp_sales <= na_sales+eu_sales+other_sales')\n",
    "# Сформируем датафреймы для тепловых карт\n",
    "heatmap_df_jp=jp_df[['critic_score', 'user_score', 'jp_sales']]\n",
    "heatmap_df_not_jp=not_jp_df[['critic_score', 'user_score', 'not_jp_sales']]\n",
    "# Построим тепловые карты для Японии и остальноо мира\n",
    "fig = plt.figure(figsize=(13,5))\n",
    "fig.subplots_adjust(wspace=0.2)\n",
    "ax1 = fig.add_subplot(1,2,1)\n",
    "ax2 = fig.add_subplot(1,2,2)\n",
    "sns.heatmap(heatmap_df_jp.corr(), ax=ax1, cmap='Reds', annot=True)\n",
    "sns.heatmap(heatmap_df_not_jp.corr(), ax=ax2, cmap='Greens', annot=True)\n",
    "ax1.set_title('Популярно в Японии', fontsize=20)\n",
    "ax2.set_title('Непопулярно в Японии', fontsize=20)\n",
    "plt.show()"
   ]
  },
  {
   "cell_type": "markdown",
   "id": "f7246898",
   "metadata": {
    "papermill": {
     "duration": 0.076917,
     "end_time": "2021-11-28T20:35:25.384809",
     "exception": false,
     "start_time": "2021-11-28T20:35:25.307892",
     "status": "completed"
    },
    "tags": []
   },
   "source": [
    "Можно сказать что в целом зависимость продаж от отзывов пользователей практически отсутствует в обоих случаях, а вот связь между отзывами критиков и продажами различается, в Японии она значительно ниже."
   ]
  },
  {
   "cell_type": "markdown",
   "id": "d8dc6a88",
   "metadata": {
    "papermill": {
     "duration": 0.076939,
     "end_time": "2021-11-28T20:35:25.538451",
     "exception": false,
     "start_time": "2021-11-28T20:35:25.461512",
     "status": "completed"
    },
    "tags": []
   },
   "source": [
    "### Вывод\n",
    "\n",
    "**Портрет среднего пользователя из США**:\n",
    "+ Играет на платформе X360, PS3 или PS4\n",
    "+ Предпочитает жанры Action, Shooter, Sports и Role-Playing\n",
    "+ Покупает игры с рейтингами M(17+), E(6+), E10(10+), T(13+)\n",
    "\n",
    "**Портрет среднего пользователя из Европы**:\n",
    "+ Играет на платформе PS3, PS4 или X360\n",
    "+ Предпочитает жанры Action, Shooter, Sports и Role-Playing\n",
    "+ Покупает игры с рейтингами M(17+), E(6+), T(13+), E10(10+)\n",
    "\n",
    "**Портрет среднего пользователя из Японии**:\n",
    "+ Играет на платформе 3DS или PS3, так же любит мобильные платформы\n",
    "+ Предпочитает жанры Role-Playing и Action\n",
    "+ Покупает игры без возрастного рейтинга ESRB\n",
    "\n",
    "Отметим, что хотя в Японии объем рынка видеоигр значительно меньше, чем в США и Европе, спрогнозировать ближнесрочный спрос здесь проще, за счет ярко выраженых предпочтений."
   ]
  },
  {
   "cell_type": "markdown",
   "id": "0e30bf1d",
   "metadata": {
    "papermill": {
     "duration": 0.076574,
     "end_time": "2021-11-28T20:35:25.691856",
     "exception": false,
     "start_time": "2021-11-28T20:35:25.615282",
     "status": "completed"
    },
    "tags": []
   },
   "source": [
    "# 5. Проверка гипотез"
   ]
  },
  {
   "cell_type": "markdown",
   "id": "f9cb1555",
   "metadata": {
    "papermill": {
     "duration": 0.077265,
     "end_time": "2021-11-28T20:35:25.848853",
     "exception": false,
     "start_time": "2021-11-28T20:35:25.771588",
     "status": "completed"
    },
    "tags": []
   },
   "source": [
    "Проверим гипотезу о том, что средние пользовательские **рейтинги** платформ **Xbox One и PC** одинаковы.\n",
    "+ **Нулевая гипотеза** состоит в том, что средние пользовательские рейтинги платформ Xbox One и PC **одинаковы**.\n",
    "+ **Альтернативная гипотеза** состоит в том, средние пользовательские рейтинги платформ Xbox One и PC **отличаются**.\n"
   ]
  },
  {
   "cell_type": "code",
   "execution_count": 32,
   "id": "0a73d025",
   "metadata": {
    "execution": {
     "iopub.execute_input": "2021-11-28T20:35:26.010940Z",
     "iopub.status.busy": "2021-11-28T20:35:26.010190Z",
     "iopub.status.idle": "2021-11-28T20:35:26.059069Z",
     "shell.execute_reply": "2021-11-28T20:35:26.058387Z",
     "shell.execute_reply.started": "2021-11-28T20:29:31.798769Z"
    },
    "papermill": {
     "duration": 0.130441,
     "end_time": "2021-11-28T20:35:26.059219",
     "exception": false,
     "start_time": "2021-11-28T20:35:25.928778",
     "status": "completed"
    },
    "tags": []
   },
   "outputs": [
    {
     "name": "stdout",
     "output_type": "stream",
     "text": [
      "p-значение: 0.6268\n",
      "Не получилось отвергнуть нулевую гипотезу\n"
     ]
    },
    {
     "data": {
      "text/html": [
       "<div>\n",
       "<style scoped>\n",
       "    .dataframe tbody tr th:only-of-type {\n",
       "        vertical-align: middle;\n",
       "    }\n",
       "\n",
       "    .dataframe tbody tr th {\n",
       "        vertical-align: top;\n",
       "    }\n",
       "\n",
       "    .dataframe thead tr th {\n",
       "        text-align: left;\n",
       "    }\n",
       "\n",
       "    .dataframe thead tr:last-of-type th {\n",
       "        text-align: right;\n",
       "    }\n",
       "</style>\n",
       "<table border=\"1\" class=\"dataframe\">\n",
       "  <thead>\n",
       "    <tr>\n",
       "      <th></th>\n",
       "      <th>mean</th>\n",
       "      <th>median</th>\n",
       "    </tr>\n",
       "    <tr>\n",
       "      <th></th>\n",
       "      <th>user_score</th>\n",
       "      <th>user_score</th>\n",
       "    </tr>\n",
       "    <tr>\n",
       "      <th>platform</th>\n",
       "      <th></th>\n",
       "      <th></th>\n",
       "    </tr>\n",
       "  </thead>\n",
       "  <tbody>\n",
       "    <tr>\n",
       "      <th>PC</th>\n",
       "      <td>6.45</td>\n",
       "      <td>6.8</td>\n",
       "    </tr>\n",
       "    <tr>\n",
       "      <th>XOne</th>\n",
       "      <td>6.52</td>\n",
       "      <td>6.8</td>\n",
       "    </tr>\n",
       "  </tbody>\n",
       "</table>\n",
       "</div>"
      ],
      "text/plain": [
       "               mean     median\n",
       "         user_score user_score\n",
       "platform                      \n",
       "PC             6.45        6.8\n",
       "XOne           6.52        6.8"
      ]
     },
     "execution_count": 32,
     "metadata": {},
     "output_type": "execute_result"
    }
   ],
   "source": [
    "rating_xone = actual_df.query('platform == \"XOne\"')['user_score'].dropna() # Сформируем выборки рейтингов для разных платформ\n",
    "rating_pc = actual_df.query('platform == \"PC\"')['user_score'].dropna() # Удалим пропуски\n",
    "\n",
    "alpha = 0.05  # Критический уровень статистической значимости\n",
    "results = st.ttest_ind(rating_xone, rating_pc) # equal_var оставляем по умолчанию True, т.к. выборки взяты из схожих по параметрам совокупностей\n",
    "print('p-значение:', results.pvalue.round(4))\n",
    "\n",
    "if results.pvalue < alpha:\n",
    "    print('Отвергаем нулевую гипотезу')\n",
    "else:\n",
    "    print('Не получилось отвергнуть нулевую гипотезу')\n",
    "# Оценим среднее и медиану пользовательского рейтинга для PC и XOne\n",
    "actual_df.query('platform ==\"XOne\" or platform ==\"PC\"').pivot_table(\n",
    "    index='platform', values='user_score', aggfunc=['mean','median']).round(2)"
   ]
  },
  {
   "cell_type": "markdown",
   "id": "ff3a1998",
   "metadata": {
    "papermill": {
     "duration": 0.077374,
     "end_time": "2021-11-28T20:35:26.217153",
     "exception": false,
     "start_time": "2021-11-28T20:35:26.139779",
     "status": "completed"
    },
    "tags": []
   },
   "source": [
    "Даже если средние значения рейтингов не равны, с вероятностью более 62% такое, или большее различие можно получить случайно, соответственно у нас нет оснований полагать, что средние пользовательские рейтинги платформ Xbox One и PC значимо отличаются."
   ]
  },
  {
   "cell_type": "markdown",
   "id": "c058a199",
   "metadata": {
    "papermill": {
     "duration": 0.078169,
     "end_time": "2021-11-28T20:35:26.373416",
     "exception": false,
     "start_time": "2021-11-28T20:35:26.295247",
     "status": "completed"
    },
    "tags": []
   },
   "source": [
    "Проверим гипотезу о том, что средние пользовательские **рейтинги** жанров **Action и Sports** разные.\n",
    "+ **Нулевая гипотеза** состоит в том, что что средние пользовательские рейтинги жанров Action и Sports **одинаковы**.\n",
    "+ **Альтернативная гипотеза** состоит в том, средние пользовательские рейтинги жанров Action и Sports **отличаются**.\n"
   ]
  },
  {
   "cell_type": "code",
   "execution_count": 33,
   "id": "726c5825",
   "metadata": {
    "execution": {
     "iopub.execute_input": "2021-11-28T20:35:26.540926Z",
     "iopub.status.busy": "2021-11-28T20:35:26.539713Z",
     "iopub.status.idle": "2021-11-28T20:35:26.582165Z",
     "shell.execute_reply": "2021-11-28T20:35:26.581499Z",
     "shell.execute_reply.started": "2021-11-28T20:29:31.850634Z"
    },
    "papermill": {
     "duration": 0.131115,
     "end_time": "2021-11-28T20:35:26.582311",
     "exception": false,
     "start_time": "2021-11-28T20:35:26.451196",
     "status": "completed"
    },
    "tags": []
   },
   "outputs": [
    {
     "name": "stdout",
     "output_type": "stream",
     "text": [
      "p-значение: 5.1974550252152054e-24\n",
      "Отвергаем нулевую гипотезу\n"
     ]
    },
    {
     "data": {
      "text/html": [
       "<div>\n",
       "<style scoped>\n",
       "    .dataframe tbody tr th:only-of-type {\n",
       "        vertical-align: middle;\n",
       "    }\n",
       "\n",
       "    .dataframe tbody tr th {\n",
       "        vertical-align: top;\n",
       "    }\n",
       "\n",
       "    .dataframe thead tr th {\n",
       "        text-align: left;\n",
       "    }\n",
       "\n",
       "    .dataframe thead tr:last-of-type th {\n",
       "        text-align: right;\n",
       "    }\n",
       "</style>\n",
       "<table border=\"1\" class=\"dataframe\">\n",
       "  <thead>\n",
       "    <tr>\n",
       "      <th></th>\n",
       "      <th>mean</th>\n",
       "      <th>median</th>\n",
       "    </tr>\n",
       "    <tr>\n",
       "      <th></th>\n",
       "      <th>user_score</th>\n",
       "      <th>user_score</th>\n",
       "    </tr>\n",
       "    <tr>\n",
       "      <th>genre</th>\n",
       "      <th></th>\n",
       "      <th></th>\n",
       "    </tr>\n",
       "  </thead>\n",
       "  <tbody>\n",
       "    <tr>\n",
       "      <th>Action</th>\n",
       "      <td>6.78</td>\n",
       "      <td>7.1</td>\n",
       "    </tr>\n",
       "    <tr>\n",
       "      <th>Sports</th>\n",
       "      <td>5.65</td>\n",
       "      <td>6.0</td>\n",
       "    </tr>\n",
       "  </tbody>\n",
       "</table>\n",
       "</div>"
      ],
      "text/plain": [
       "             mean     median\n",
       "       user_score user_score\n",
       "genre                       \n",
       "Action       6.78        7.1\n",
       "Sports       5.65        6.0"
      ]
     },
     "execution_count": 33,
     "metadata": {},
     "output_type": "execute_result"
    }
   ],
   "source": [
    "rating_action = actual_df.query('genre == \"Action\"')['user_score'].dropna() # Сформируем выборки рейтингов для разных платформ\n",
    "rating_sports = actual_df.query('genre == \"Sports\"')['user_score'].dropna() # Удалим пропуски\n",
    "\n",
    "alpha = 0.05  # Критический уровень статистической значимости\n",
    "results = st.ttest_ind(rating_action, rating_sports) # equal_var оставляем по умолчанию True, т.к. выборки взяты из схожих по параметрам совокупностей\n",
    "\n",
    "print('p-значение:', results.pvalue)\n",
    "\n",
    "if results.pvalue < alpha:\n",
    "    print('Отвергаем нулевую гипотезу')\n",
    "else:\n",
    "    print('Не получилось отвергнуть нулевую гипотезу')\n",
    "# Оценим среднее и медиану пользовательского рейтинга для Action и Sports\n",
    "actual_df.query('genre == \"Action\" or genre == \"Sports\"').pivot_table(\n",
    "    index='genre', values='user_score', aggfunc=['mean','median']).round(2)"
   ]
  },
  {
   "cell_type": "markdown",
   "id": "5a766612",
   "metadata": {
    "papermill": {
     "duration": 0.087235,
     "end_time": "2021-11-28T20:35:26.797939",
     "exception": false,
     "start_time": "2021-11-28T20:35:26.710704",
     "status": "completed"
    },
    "tags": []
   },
   "source": [
    "Отвергаем нулевую гипотезу, таким образом,  средние пользователские **рейтинги** для жанров Action и Sports **отличаются**. Можно предположить, что в среднем рейтинги Action выше."
   ]
  },
  {
   "cell_type": "markdown",
   "id": "07dbfc11",
   "metadata": {
    "papermill": {
     "duration": 0.079551,
     "end_time": "2021-11-28T20:35:26.970478",
     "exception": false,
     "start_time": "2021-11-28T20:35:26.890927",
     "status": "completed"
    },
    "tags": []
   },
   "source": [
    "# 6. Общий вывод\n",
    "По итогам исследования были выявлены следующие закономерности, позволяющие прогнозировать коммерческий успех видеоигр на 2017 год:\n",
    "1. Игровая платформа - важнейший критерий будущей популярности видеоигры. Средний срок жизни игровой платформы - **10 лет**, первую половину которых идет плавный рост продаж, а вторую - спад. Таким образом, для прогноза успешности игровой платформы целесообразно рассматривать **5 лет** предшествующие пронозу, в нашем исследовании этот отрезок времени назван актуальным периодом.\n",
    "\n",
    "\n",
    "2. Для выбора перспективной игровой платформы недостаточно рассматривать только общий объем продаж за актуальный период, необходимо также рассмотерть продажи в динамике и выявить тенденцию с учетом среднего времени жизни игровой платформы.\n",
    "\n",
    "\n",
    "3. Можно предположить, что в **2017** году наибольшим успехом будут пользоваться платформы **PS4 и XOne**. Если рассматривать отдельно японский рынок, целесообразно сделать ставку на платформу **3DS** - в Японии она вне конкуренции.\n",
    "\n",
    "4. Для каждой платформы существует большое количество **игр-бестселлеров**, их продажи могут превышать средние значения в десятки раз. Для определения перспективных категорий игр целесообразно дополнительно к суммарным продажам оценивать **средние значения** продаж для интересующих категорий, это позволит выбрать оптимальные категории при ораниченном бюджете.\n",
    "\n",
    "5. Для выбора потенциально успешной видеоигры необходимо изучить **оценки критиков** - есть прямая зависимость между этим параметром и объемом продаж. При этом **отзывы пользователей** коррелируют с продажами лишь на определенных платформах, таких как **WiiU, Wii, 3DS**. Для перспективных \"западных\" платформ, таких как PS4 и XOne, оценкой пользователей можно пренебречь, она никак не связана с объемом продаж. Также отметим, что для японского рынка связь между отзывами критиков и продажами гораздо ниже, чем в остальном мире.\n",
    "\n",
    "\n",
    "6. Самые продаваемые игровые жанры - **Action, Shooter, Role-Playing и Sports** в абсолютных значениях и **Shooter, Platform и Sports** если рассматривать средние продажи. Однако если рассматривать отдельно японский рынок, в первую очередь необходимо обратить внимание на **Role-Playing и Action** - эти жанры покрывают почти 60% всех продаж в Японии.\n",
    "\n",
    "\n",
    "7. Возрастные рейтинги самых популярных игр - **M(17+), E(6+), E10(10+) и T(13+)**. На японском рынке, бóльшая часть всех игр (56%) продается **без указания** возрастного рейтинга ESRB.\n",
    "\n",
    "\n",
    "8. Параметры потенциально успешной видеоигры могут кардинально различаться в зависимости от **региона**, это обязательно нужно учитывать при составлении прогноза. Как уже стало понятно из предыдущих пунктов, рынок видеоигр Японии практически ни в чем не похож на рынок США и Европы, здесь своя популярная платформа, свои любимые жанры, свой возрастной рейтинг - Computer Entertainment Rating Organization (CERO), и даже отличаются некоторые закономерности, например связь между отзывами критиков и продажами гораздо слабее, чем в остальном мире. Отметим, что хотя рынок видеоигр в Японии гораздо меньше, чем в США или Европе, спрогнозировать ближнесрочный спрос здесь проще, за счет ярко выраженых предпочтений, однако для этого целесообразно собрать дополнительную информацию, например данные японского возрастного рейтинга CERO и отзывы местных критиков."
   ]
  }
 ],
 "metadata": {
  "kernelspec": {
   "display_name": "Python 3",
   "language": "python",
   "name": "python3"
  },
  "language_info": {
   "codemirror_mode": {
    "name": "ipython",
    "version": 3
   },
   "file_extension": ".py",
   "mimetype": "text/x-python",
   "name": "python",
   "nbconvert_exporter": "python",
   "pygments_lexer": "ipython3",
   "version": "3.7.10"
  },
  "papermill": {
   "default_parameters": {},
   "duration": 31.842435,
   "end_time": "2021-11-28T20:35:27.962611",
   "environment_variables": {},
   "exception": null,
   "input_path": "__notebook__.ipynb",
   "output_path": "__notebook__.ipynb",
   "parameters": {},
   "start_time": "2021-11-28T20:34:56.120176",
   "version": "2.3.3"
  }
 },
 "nbformat": 4,
 "nbformat_minor": 5
}
